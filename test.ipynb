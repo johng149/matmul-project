{
 "cells": [
  {
   "cell_type": "code",
   "execution_count": 1,
   "metadata": {
    "vscode": {
     "languageId": "c"
    }
   },
   "outputs": [],
   "source": [
    "double *transpose(const int N, const double *X)\n",
    "{\n",
    "    double *X_T = (double *)malloc(N * N * sizeof(double));\n",
    "    for (int i = 0; i < N; ++i)\n",
    "    {\n",
    "        for (int j = 0; j < N; ++j)\n",
    "        {\n",
    "            int original = i * N + j;\n",
    "            int transposed = j * N + i;\n",
    "            X_T[transposed] = X[original];\n",
    "        }\n",
    "    }\n",
    "    return X_T;\n",
    "}"
   ]
  },
  {
   "cell_type": "code",
   "execution_count": 2,
   "metadata": {
    "vscode": {
     "languageId": "c"
    }
   },
   "outputs": [],
   "source": [
    "const int M = 4; // 4 by 4 matrix"
   ]
  },
  {
   "cell_type": "code",
   "execution_count": 3,
   "metadata": {
    "vscode": {
     "languageId": "c"
    }
   },
   "outputs": [],
   "source": [
    "double *A = (double *)malloc(M * M * sizeof(double));\n",
    "double *B = (double *)malloc(M * M * sizeof(double));\n",
    "for (int i = 0; i < M * M; ++i)\n",
    "{\n",
    "    A[i] = i;\n",
    "    B[i] = i * -1;\n",
    "}\n",
    "double *BT = transpose(M, B);"
   ]
  },
  {
   "cell_type": "code",
   "execution_count": 5,
   "metadata": {
    "vscode": {
     "languageId": "c"
    }
   },
   "outputs": [
    {
     "name": "stderr",
     "output_type": "stream",
     "text": [
      "input_line_11:2:2: error: ISO C++17 does not allow 'register' storage class specifier [-Wregister]\n",
      " register double c0, c1, c2, c3,\n",
      " ^~~~~~~~~\n",
      "input_line_11:2:2: error: ISO C++17 does not allow 'register' storage class specifier [-Wregister]\n",
      " register double c0, c1, c2, c3,\n",
      " ^~~~~~~~~\n",
      "input_line_11:2:2: error: ISO C++17 does not allow 'register' storage class specifier [-Wregister]\n",
      " register double c0, c1, c2, c3,\n",
      " ^~~~~~~~~\n",
      "input_line_11:2:2: error: ISO C++17 does not allow 'register' storage class specifier [-Wregister]\n",
      " register double c0, c1, c2, c3,\n",
      " ^~~~~~~~~\n",
      "input_line_11:2:2: error: ISO C++17 does not allow 'register' storage class specifier [-Wregister]\n",
      " register double c0, c1, c2, c3,\n",
      " ^~~~~~~~~\n",
      "input_line_11:2:2: error: ISO C++17 does not allow 'register' storage class specifier [-Wregister]\n",
      " register double c0, c1, c2, c3,\n",
      " ^~~~~~~~~\n",
      "input_line_11:2:2: error: ISO C++17 does not allow 'register' storage class specifier [-Wregister]\n",
      " register double c0, c1, c2, c3,\n",
      " ^~~~~~~~~\n",
      "input_line_11:2:2: error: ISO C++17 does not allow 'register' storage class specifier [-Wregister]\n",
      " register double c0, c1, c2, c3,\n",
      " ^~~~~~~~~\n",
      "input_line_11:2:2: error: ISO C++17 does not allow 'register' storage class specifier [-Wregister]\n",
      " register double c0, c1, c2, c3,\n",
      " ^~~~~~~~~\n",
      "input_line_11:2:2: error: ISO C++17 does not allow 'register' storage class specifier [-Wregister]\n",
      " register double c0, c1, c2, c3,\n",
      " ^~~~~~~~~\n",
      "input_line_11:2:2: error: ISO C++17 does not allow 'register' storage class specifier [-Wregister]\n",
      " register double c0, c1, c2, c3,\n",
      " ^~~~~~~~~\n",
      "input_line_11:2:2: error: ISO C++17 does not allow 'register' storage class specifier [-Wregister]\n",
      " register double c0, c1, c2, c3,\n",
      " ^~~~~~~~~\n",
      "input_line_11:2:2: error: ISO C++17 does not allow 'register' storage class specifier [-Wregister]\n",
      " register double c0, c1, c2, c3,\n",
      " ^~~~~~~~~\n",
      "input_line_11:2:2: error: ISO C++17 does not allow 'register' storage class specifier [-Wregister]\n",
      " register double c0, c1, c2, c3,\n",
      " ^~~~~~~~~\n",
      "input_line_11:2:2: error: ISO C++17 does not allow 'register' storage class specifier [-Wregister]\n",
      " register double c0, c1, c2, c3,\n",
      " ^~~~~~~~~\n",
      "input_line_11:2:2: error: ISO C++17 does not allow 'register' storage class specifier [-Wregister]\n",
      " register double c0, c1, c2, c3,\n",
      " ^~~~~~~~~\n"
     ]
    },
    {
     "ename": "Interpreter Error",
     "evalue": "",
     "output_type": "error",
     "traceback": [
      "Interpreter Error: "
     ]
    }
   ],
   "source": [
    "register double c0, c1, c2, c3,\n",
    "                c4, c5, c6, c7,\n",
    "                c8, c9, c10, c11,\n",
    "                c12, c13, c14, c15;"
   ]
  },
  {
   "cell_type": "code",
   "execution_count": null,
   "metadata": {
    "vscode": {
     "languageId": "c"
    }
   },
   "outputs": [],
   "source": []
  }
 ],
 "metadata": {
  "kernelspec": {
   "display_name": "C++17",
   "language": "C++17",
   "name": "xcpp17"
  },
  "language_info": {
   "codemirror_mode": "text/x-c++src",
   "file_extension": ".cpp",
   "mimetype": "text/x-c++src",
   "name": "C++17",
   "version": "17"
  }
 },
 "nbformat": 4,
 "nbformat_minor": 2
}

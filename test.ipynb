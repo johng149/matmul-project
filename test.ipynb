{
 "cells": [
  {
   "cell_type": "code",
   "execution_count": 1,
   "metadata": {
    "vscode": {
     "languageId": "c"
    }
   },
   "outputs": [],
   "source": [
    "#include <immintrin.h>\n",
    "#include <iostream>"
   ]
  },
  {
   "cell_type": "code",
   "execution_count": 2,
   "metadata": {
    "vscode": {
     "languageId": "c"
    }
   },
   "outputs": [],
   "source": [
    "double *transpose(const int N, const double *X)\n",
    "{\n",
    "    double *X_T = (double *)malloc(N * N * sizeof(double));\n",
    "    for (int i = 0; i < N; ++i)\n",
    "    {\n",
    "        for (int j = 0; j < N; ++j)\n",
    "        {\n",
    "            int original = i * N + j;\n",
    "            int transposed = j * N + i;\n",
    "            X_T[transposed] = X[original];\n",
    "        }\n",
    "    }\n",
    "    return X_T;\n",
    "}"
   ]
  },
  {
   "cell_type": "code",
   "execution_count": 3,
   "metadata": {
    "vscode": {
     "languageId": "c"
    }
   },
   "outputs": [],
   "source": [
    "int rows = 4;\n",
    "int cols = 4;"
   ]
  },
  {
   "cell_type": "code",
   "execution_count": 4,
   "metadata": {
    "vscode": {
     "languageId": "c"
    }
   },
   "outputs": [],
   "source": [
    "double* A = (double*)malloc(rows * cols * sizeof(double));\n",
    "double* B = (double*)malloc(rows * cols * sizeof(double));"
   ]
  },
  {
   "cell_type": "code",
   "execution_count": 5,
   "metadata": {
    "vscode": {
     "languageId": "c"
    }
   },
   "outputs": [],
   "source": [
    "// initialize A\n",
    "for (int i = 0; i < rows * cols; i++) {\n",
    "    A[i] = i;\n",
    "}\n",
    "// initialize B\n",
    "for (int i = 0; i < rows * cols; i++) {\n",
    "    B[i] = i * -1;\n",
    "}"
   ]
  },
  {
   "cell_type": "code",
   "execution_count": 6,
   "metadata": {
    "vscode": {
     "languageId": "c"
    }
   },
   "outputs": [],
   "source": [
    "double* AT = transpose(rows, A);"
   ]
  },
  {
   "cell_type": "code",
   "execution_count": 7,
   "metadata": {
    "vscode": {
     "languageId": "c"
    }
   },
   "outputs": [],
   "source": [
    "int start_row = 0;\n",
    "int start_col = 0;\n",
    "int panel_a_rows = 3;\n",
    "int panel_a_cols = 2;\n",
    "int panel_b_rows = 2;\n",
    "int panel_b_cols = 3;"
   ]
  },
  {
   "cell_type": "code",
   "execution_count": 8,
   "metadata": {
    "vscode": {
     "languageId": "c"
    }
   },
   "outputs": [],
   "source": [
    "// __m256d a0, a1;\n",
    "/*\n",
    "    0  1  2  3\n",
    "    4  5  6  7\n",
    "    8  9  10 11\n",
    "    12 13 14 15\n",
    "\n",
    "we have that start_row is 0 and start_col is 0, so the first element is upper left corner (0, 0) = 0\n",
    "the panel_a_rows is 3 and panel_a_cols is 2, so we have a panel of 3 rows and 2 columns which means\n",
    "we are looking at the following elements:\n",
    "    0  1\n",
    "    4  5\n",
    "    8  9\n",
    "\n",
    "a0 is the first column of the panel\n",
    "a1 is the second column of the panel\n",
    "*/\n",
    "// we do something similar for B\n",
    "// __m256d b0, b1;\n",
    "/*\n",
    "    -0  -1  -2  -3\n",
    "    -4  -5  -6  -7\n",
    "    -8  -9  -10 -11\n",
    "    -12 -13 -14 -15\n",
    "\n",
    "we have that start_row is 0 and start_col is 0, so the first element is upper left corner (0, 0) = -0\n",
    "the panel_b_rows is 2 and panel_b_cols is 3, so we have a panel of 2 rows and 3 columns which means\n",
    "we are looking at the following elements:\n",
    "    -0  -1  -2\n",
    "    -4  -5  -6\n",
    "\n",
    "b0 is the first row of the panel\n",
    "b1 is the second row of the panel\n",
    "*/\n",
    "// notice that these are not neat multiples of 4, so we need to pad with zeros"
   ]
  },
  {
   "cell_type": "code",
   "execution_count": 9,
   "metadata": {
    "vscode": {
     "languageId": "c"
    }
   },
   "outputs": [],
   "source": [
    "// pack first column of A (which is first row of AT) with padding in preparation to load into a0,a1\n",
    "double* a0_a1_pack = (double*)aligned_alloc(32, 8 * sizeof(double));\n",
    "memset(a0_a1_pack, 0, 8 * sizeof(double));"
   ]
  },
  {
   "cell_type": "code",
   "execution_count": 10,
   "metadata": {
    "vscode": {
     "languageId": "c"
    }
   },
   "outputs": [
    {
     "name": "stdout",
     "output_type": "stream",
     "text": [
      "0 4 8 12 \n",
      "1 5 9 13 \n",
      "2 6 10 14 \n",
      "3 7 11 15 \n",
      "0 0 0 0 0 0 0 0 "
     ]
    }
   ],
   "source": [
    "// print out values of AT\n",
    "for (int i = 0; i < rows; i++) {\n",
    "    for (int j = 0; j < cols; j++) {\n",
    "        std::cout << AT[i * cols + j] << \" \";\n",
    "    }\n",
    "    std::cout << std::endl;\n",
    "}\n",
    "// print out values of the packed\n",
    "for (int i = 0; i < 8; i++) {\n",
    "    std::cout << a0_a1_pack[i] << \" \";\n",
    "}"
   ]
  },
  {
   "cell_type": "code",
   "execution_count": 11,
   "metadata": {
    "vscode": {
     "languageId": "c"
    }
   },
   "outputs": [],
   "source": [
    "for (int i = 0; i < panel_a_rows; ++i) {\n",
    "    a0_a1_pack[i] = AT[start_col * cols + start_row + i];\n",
    "    a0_a1_pack[i + 4] = AT[start_col * cols + start_row + i + 4];\n",
    "}"
   ]
  },
  {
   "cell_type": "code",
   "execution_count": 12,
   "metadata": {
    "vscode": {
     "languageId": "c"
    }
   },
   "outputs": [
    {
     "name": "stdout",
     "output_type": "stream",
     "text": [
      "0 4 8 0 1 5 9 0 "
     ]
    }
   ],
   "source": [
    "for (int i = 0; i < 8; i++) {\n",
    "    std::cout << a0_a1_pack[i] << \" \";\n",
    "}"
   ]
  },
  {
   "cell_type": "code",
   "execution_count": 13,
   "metadata": {
    "vscode": {
     "languageId": "c"
    }
   },
   "outputs": [],
   "source": [
    "__m256d a0_aligned = _mm256_load_pd(a0_a1_pack);"
   ]
  },
  {
   "cell_type": "code",
   "execution_count": 13,
   "metadata": {
    "vscode": {
     "languageId": "c"
    }
   },
   "outputs": [],
   "source": [
    "__m256d a0 = _mm256_loadu_pd(a0_a1_pack);\n",
    "__m256d a1 = _mm256_loadu_pd(a0_a1_pack + 4);"
   ]
  },
  {
   "cell_type": "code",
   "execution_count": 14,
   "metadata": {
    "vscode": {
     "languageId": "c"
    }
   },
   "outputs": [],
   "source": [
    "void print_m256(__m256d v) {\n",
    "    double* p = (double*)&v;\n",
    "    for (int i = 0; i < 4; i++) {\n",
    "        std::cout << p[i] << \" \";\n",
    "    }\n",
    "    std::cout << std::endl;\n",
    "}"
   ]
  },
  {
   "cell_type": "code",
   "execution_count": 15,
   "metadata": {
    "vscode": {
     "languageId": "c"
    }
   },
   "outputs": [
    {
     "name": "stdout",
     "output_type": "stream",
     "text": [
      "0 4 8 0 \n",
      "1 5 9 0 \n"
     ]
    }
   ],
   "source": [
    "print_m256(a0);\n",
    "print_m256(a1);"
   ]
  },
  {
   "cell_type": "code",
   "execution_count": 16,
   "metadata": {
    "vscode": {
     "languageId": "c"
    }
   },
   "outputs": [],
   "source": [
    "double* b0_b1_pack = (double*)aligned_alloc(32, 8 * sizeof(double));"
   ]
  },
  {
   "cell_type": "code",
   "execution_count": 17,
   "metadata": {
    "vscode": {
     "languageId": "c"
    }
   },
   "outputs": [],
   "source": [
    "memset(b0_b1_pack, 0, 8 * sizeof(double));"
   ]
  },
  {
   "cell_type": "code",
   "execution_count": 18,
   "metadata": {
    "vscode": {
     "languageId": "c"
    }
   },
   "outputs": [],
   "source": [
    "for (int i = 0; i < panel_b_cols; ++i) {\n",
    "    b0_b1_pack[i] = B[start_row * rows + start_col + i];\n",
    "    b0_b1_pack[i + 4] = B[start_row * rows + start_col + i + 4];\n",
    "}"
   ]
  },
  {
   "cell_type": "code",
   "execution_count": 19,
   "metadata": {
    "vscode": {
     "languageId": "c"
    }
   },
   "outputs": [
    {
     "name": "stdout",
     "output_type": "stream",
     "text": [
      "0 -1 -2 0 -4 -5 -6 0 "
     ]
    }
   ],
   "source": [
    "for (int i = 0; i < 8; i++) {\n",
    "    std::cout << b0_b1_pack[i] << \" \";\n",
    "}"
   ]
  },
  {
   "cell_type": "code",
   "execution_count": 20,
   "metadata": {
    "vscode": {
     "languageId": "c"
    }
   },
   "outputs": [],
   "source": [
    "// __m256d atest = {1.0, 2.0, 3.0, 4.0};\n",
    "// __m256d btest = {5.0, 6.0, 7.0, 8.0};\n",
    "// __m256d result[4];"
   ]
  },
  {
   "cell_type": "code",
   "execution_count": 21,
   "metadata": {
    "vscode": {
     "languageId": "c"
    }
   },
   "outputs": [],
   "source": [
    "// void vector_outer_product(__m256d a0, __m256d b0, __m256d* result) {\n",
    "//   // Broadcast each element of a0 into a separate vector\n",
    "//   __m256d a0_broadcasted0 = _mm256_set1_pd( ((double*)&a0)[0] ); \n",
    "//   __m256d a0_broadcasted1 = _mm256_set1_pd( ((double*)&a0)[1] ); \n",
    "//   __m256d a0_broadcasted2 = _mm256_set1_pd( ((double*)&a0)[2] ); \n",
    "//   __m256d a0_broadcasted3 = _mm256_set1_pd( ((double*)&a0)[3] );\n",
    "\n",
    "//   // Multiply the broadcasted vectors with b0\n",
    "//   result[0] = _mm256_mul_pd(a0_broadcasted0, b0);\n",
    "//   result[1] = _mm256_mul_pd(a0_broadcasted1, b0);\n",
    "//   result[2] = _mm256_mul_pd(a0_broadcasted2, b0);\n",
    "//   result[3] = _mm256_mul_pd(a0_broadcasted3, b0);\n",
    "// }"
   ]
  },
  {
   "cell_type": "code",
   "execution_count": 61,
   "metadata": {
    "vscode": {
     "languageId": "c"
    }
   },
   "outputs": [],
   "source": [
    "// let's hardcode some values\n",
    "// result 0 should contain 0,0,0,0\n",
    "// result 1 should contain 0,-4,-8,0\n",
    "// result 2 should contain 0,-8,-16,0\n",
    "// result 3 should contain 0,0,0,0\n",
    "// __m256d first = _mm256_set_pd(0.0, -0.0, -0.0, -0.0);\n",
    "// __m256d second = _mm256_set_pd(0.0, -4.0, -8.0, 0.0);\n",
    "// __m256d third = _mm256_set_pd(0.0, -8.0, -16.0, 0.0);\n",
    "// __m256d fourth = _mm256_set_pd(0.0, 0.0, 0.0, 0.0);\n",
    "// for testing purposes we'll hard code distinct values\n",
    "__m256d first = _mm256_set_pd(4.0, 3.0, 2.0, 1.0);\n",
    "__m256d second = _mm256_set_pd(8.0, 7.0, 6.0, 5.0);\n",
    "__m256d third = _mm256_set_pd(12.0, 11.0, 10.0, 9.0);\n",
    "__m256d fourth = _mm256_set_pd(16.0, 15.0, 14.0, 13.0);\n",
    "// I understand that the above is not exactly proper, because the values are stored in reverse order\n",
    "// but this is to reach parity with the commented out vector_outer_product function\n",
    "// which when indexed, does what you expect: result[0][1] = 2.0, result[0][2] = 3.0, etc."
   ]
  },
  {
   "cell_type": "code",
   "execution_count": 62,
   "metadata": {
    "vscode": {
     "languageId": "c"
    }
   },
   "outputs": [],
   "source": [
    "__m256d result[4] = {first, second, third, fourth};"
   ]
  },
  {
   "cell_type": "code",
   "execution_count": 63,
   "metadata": {
    "vscode": {
     "languageId": "c"
    }
   },
   "outputs": [],
   "source": [
    "double *C = (double *)calloc(rows * cols, sizeof(double));"
   ]
  },
  {
   "cell_type": "code",
   "execution_count": 64,
   "metadata": {
    "vscode": {
     "languageId": "c"
    }
   },
   "outputs": [],
   "source": [
    "int write_row = 0;\n",
    "int write_col = 0;\n",
    "int out_rows = 3;\n",
    "int out_cols = 3;"
   ]
  },
  {
   "cell_type": "code",
   "execution_count": 76,
   "metadata": {
    "vscode": {
     "languageId": "c"
    }
   },
   "outputs": [
    {
     "data": {
      "text/plain": [
       "1.0000000"
      ]
     },
     "execution_count": 76,
     "metadata": {},
     "output_type": "execute_result"
    }
   ],
   "source": [
    "((double*)&result[0])[2]"
   ]
  },
  {
   "cell_type": "code",
   "execution_count": 72,
   "metadata": {
    "vscode": {
     "languageId": "c"
    }
   },
   "outputs": [
    {
     "name": "stdout",
     "output_type": "stream",
     "text": [
      "selecting i: 0, j: 0, writing 1.000000 to 0\n",
      "selecting i: 0, j: 1, writing 2.000000 to 1\n",
      "selecting i: 0, j: 2, writing 1.000000 to 2\n",
      "selecting i: 1, j: 0, writing 5.000000 to 4\n",
      "selecting i: 1, j: 1, writing 6.000000 to 5\n",
      "selecting i: 1, j: 2, writing 5.000000 to 6\n",
      "selecting i: 2, j: 0, writing 9.000000 to 8\n",
      "selecting i: 2, j: 1, writing 10.000000 to 9\n",
      "selecting i: 2, j: 2, writing 9.000000 to 10\n"
     ]
    }
   ],
   "source": [
    "for (int i = 0; i < out_rows; ++i) {\n",
    "    for (int j = 0; j < out_cols; ++j) {\n",
    "        int write_idx = (write_row + i) * rows + write_col + j;\n",
    "        printf(\"selecting i: %d, j: %d, \", i, j);\n",
    "        printf(\"writing %f to %d\\n\", ((double*)&result[i])[j], write_idx);\n",
    "        C[write_idx] += ((double*)&result[i])[j];\n",
    "    }\n",
    "}"
   ]
  },
  {
   "cell_type": "code",
   "execution_count": 73,
   "metadata": {
    "vscode": {
     "languageId": "c"
    }
   },
   "outputs": [
    {
     "name": "stdout",
     "output_type": "stream",
     "text": [
      "3 6 3 0 15 18 15 0 27 30 27 0 0 0 0 0 "
     ]
    }
   ],
   "source": [
    "// print out C and see if it's correct\n",
    "for (int i = 0; i < rows * cols; i++) {\n",
    "    std::cout << C[i] << \" \";\n",
    "}"
   ]
  },
  {
   "cell_type": "code",
   "execution_count": null,
   "metadata": {
    "vscode": {
     "languageId": "c"
    }
   },
   "outputs": [],
   "source": []
  }
 ],
 "metadata": {
  "kernelspec": {
   "display_name": "C++17",
   "language": "C++17",
   "name": "xcpp17"
  },
  "language_info": {
   "codemirror_mode": "text/x-c++src",
   "file_extension": ".cpp",
   "mimetype": "text/x-c++src",
   "name": "c++",
   "version": "17"
  }
 },
 "nbformat": 4,
 "nbformat_minor": 2
}

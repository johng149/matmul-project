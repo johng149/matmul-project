{
 "cells": [
  {
   "cell_type": "code",
   "execution_count": 3,
   "metadata": {},
   "outputs": [],
   "source": [
    "import numpy as np"
   ]
  },
  {
   "cell_type": "code",
   "execution_count": 4,
   "metadata": {},
   "outputs": [],
   "source": [
    "kernel_size = 4\n",
    "n = 1\n",
    "k = 2"
   ]
  },
  {
   "cell_type": "code",
   "execution_count": 5,
   "metadata": {},
   "outputs": [],
   "source": [
    "rows = cols = kernel_size * n + k"
   ]
  },
  {
   "cell_type": "code",
   "execution_count": 6,
   "metadata": {},
   "outputs": [],
   "source": [
    "A = np.random.rand(rows, cols)\n",
    "B = np.random.rand(rows, cols)\n",
    "Cstar = A @ B"
   ]
  },
  {
   "cell_type": "code",
   "execution_count": 7,
   "metadata": {},
   "outputs": [],
   "source": [
    "first4nrows = np.zeros((4*n, cols))"
   ]
  },
  {
   "cell_type": "code",
   "execution_count": 8,
   "metadata": {},
   "outputs": [],
   "source": [
    "lastkrrows = np.zeros((k, cols))"
   ]
  },
  {
   "cell_type": "code",
   "execution_count": 9,
   "metadata": {},
   "outputs": [],
   "source": [
    "# `a` is first 4n rows and 4n columns of A (upper left corner)\n",
    "a = A[:4*n, :4*n]\n",
    "# `b` is first 4n rows and last k columns of A (upper right corner)\n",
    "b = A[:4*n, -k:]\n",
    "# `c` is last k rows and 4n columns of A (lower left corner)\n",
    "c = A[-k:, :4*n]\n",
    "# `d` is last k rows and last k columns of A (lower right corner)\n",
    "d = A[-k:, -k:]"
   ]
  },
  {
   "cell_type": "code",
   "execution_count": 10,
   "metadata": {},
   "outputs": [],
   "source": [
    "# `a_prime` is first 4n rows and 4n columns of B (upper left corner)\n",
    "a_prime = B[:4*n, :4*n]\n",
    "# `b_prime` is first 4n rows and last k columns of B (upper right corner)\n",
    "b_prime = B[:4*n, -k:]\n",
    "# `c_prime` is last k rows and 4n columns of B (lower left corner)\n",
    "c_prime = B[-k:, :4*n]\n",
    "# `d_prime` is last k rows and last k columns of B (lower right corner)\n",
    "d_prime = B[-k:, -k:]"
   ]
  },
  {
   "cell_type": "code",
   "execution_count": 11,
   "metadata": {},
   "outputs": [],
   "source": [
    "# there are two contributions to the `first4nrows` matrix\n",
    "# one is [a] * [a_prime][b_prime] where [a] is 4n x 4n and [a_prime][b_prime] is 4n x (4n + k)\n",
    "# other is [b] * [c_prime][d_prime] where [b] is 4n x k and [c_prime][d_prime] is k x (4n + k)\n",
    "alpha = a @ np.concatenate((a_prime, b_prime), axis=1)\n",
    "first4nrows += alpha\n",
    "beta = b @ np.concatenate((c_prime, d_prime), axis=1)\n",
    "first4nrows += beta"
   ]
  },
  {
   "cell_type": "code",
   "execution_count": 12,
   "metadata": {},
   "outputs": [],
   "source": [
    "# there are also two contributions to the `lastkrrows` matrix\n",
    "# one is [c] * [a_prime][b_prime] where [c] is k x 4n and [a_prime][b_prime] is 4n x (4n + k)\n",
    "# other is [d] * [c_prime][d_prime] where [d] is k x k and [c_prime][d_prime] is k x (4n + k)\n",
    "gamma = c @ np.concatenate((a_prime, b_prime), axis=1)\n",
    "lastkrrows += gamma\n",
    "delta = d @ np.concatenate((c_prime, d_prime), axis=1)\n",
    "lastkrrows += delta"
   ]
  },
  {
   "cell_type": "code",
   "execution_count": 13,
   "metadata": {},
   "outputs": [],
   "source": [
    "combined = np.concatenate((first4nrows, lastkrrows), axis=0)"
   ]
  },
  {
   "cell_type": "code",
   "execution_count": 14,
   "metadata": {},
   "outputs": [],
   "source": [
    "assert np.allclose(Cstar, combined)"
   ]
  },
  {
   "cell_type": "code",
   "execution_count": 15,
   "metadata": {},
   "outputs": [],
   "source": [
    "# alpha it self can be split into two parts\n",
    "alpha_first4n = np.zeros((4*n, 4*n))\n",
    "alpha_lastk = np.zeros((4*n, k))"
   ]
  },
  {
   "cell_type": "code",
   "execution_count": 16,
   "metadata": {},
   "outputs": [],
   "source": [
    "alpha_first4n = a @ a_prime\n",
    "alpha_lastk = a @ b_prime\n",
    "alpha_combined = np.concatenate((alpha_first4n, alpha_lastk), axis=1)\n",
    "assert np.allclose(alpha, alpha_combined)"
   ]
  },
  {
   "cell_type": "code",
   "execution_count": 17,
   "metadata": {},
   "outputs": [],
   "source": [
    "# ear 4x4_4x4n"
   ]
  },
  {
   "cell_type": "code",
   "execution_count": 18,
   "metadata": {},
   "outputs": [],
   "source": [
    "n = 2\n",
    "a_4x4 = np.asarray(\n",
    "    np.arange(0, 16).reshape(4, 4)\n",
    ")\n",
    "b_4x4n = np.asarray(\n",
    "    np.arange(0, 4 * 4 * n).reshape(4, 4 * n)\n",
    ") * -1"
   ]
  },
  {
   "cell_type": "code",
   "execution_count": 19,
   "metadata": {},
   "outputs": [
    {
     "data": {
      "text/plain": [
       "(array([[ 0,  1,  2,  3],\n",
       "        [ 4,  5,  6,  7],\n",
       "        [ 8,  9, 10, 11],\n",
       "        [12, 13, 14, 15]]),\n",
       " array([[  0,  -1,  -2,  -3,  -4,  -5,  -6,  -7],\n",
       "        [ -8,  -9, -10, -11, -12, -13, -14, -15],\n",
       "        [-16, -17, -18, -19, -20, -21, -22, -23],\n",
       "        [-24, -25, -26, -27, -28, -29, -30, -31]]))"
      ]
     },
     "execution_count": 19,
     "metadata": {},
     "output_type": "execute_result"
    }
   ],
   "source": [
    "a_4x4, b_4x4n"
   ]
  },
  {
   "cell_type": "code",
   "execution_count": 20,
   "metadata": {},
   "outputs": [],
   "source": [
    "b_4x4n_1 = b_4x4n[:, :n]\n",
    "b_4x4n_2 = b_4x4n[:, n:]"
   ]
  },
  {
   "cell_type": "code",
   "execution_count": 21,
   "metadata": {},
   "outputs": [],
   "source": [
    "expected = a_4x4 @ b_4x4n"
   ]
  },
  {
   "cell_type": "code",
   "execution_count": 22,
   "metadata": {},
   "outputs": [],
   "source": [
    "part1 = a_4x4 @ b_4x4n_1\n",
    "part2 = a_4x4 @ b_4x4n_2\n",
    "combined = np.concatenate((part1, part2), axis=1)"
   ]
  },
  {
   "cell_type": "code",
   "execution_count": 23,
   "metadata": {},
   "outputs": [],
   "source": [
    "assert np.allclose(expected, combined)"
   ]
  },
  {
   "cell_type": "code",
   "execution_count": 24,
   "metadata": {},
   "outputs": [
    {
     "data": {
      "text/plain": [
       "array([[ -112,  -118,  -124,  -130,  -136,  -142,  -148,  -154],\n",
       "       [ -304,  -326,  -348,  -370,  -392,  -414,  -436,  -458],\n",
       "       [ -496,  -534,  -572,  -610,  -648,  -686,  -724,  -762],\n",
       "       [ -688,  -742,  -796,  -850,  -904,  -958, -1012, -1066]])"
      ]
     },
     "execution_count": 24,
     "metadata": {},
     "output_type": "execute_result"
    }
   ],
   "source": [
    "expected"
   ]
  },
  {
   "cell_type": "code",
   "execution_count": 25,
   "metadata": {},
   "outputs": [],
   "source": [
    "# field 4x4n_4nx4n"
   ]
  },
  {
   "cell_type": "code",
   "execution_count": 26,
   "metadata": {},
   "outputs": [],
   "source": [
    "n = 2\n",
    "a_4x4n = np.asarray(\n",
    "    np.arange(0, 4 * 4 * n).reshape(4, 4 * n)\n",
    ")\n",
    "b_4nx4n = np.asarray(\n",
    "    np.arange(0, 4 * 4 * n * n).reshape(4 * n, 4 * n)\n",
    ") * -1"
   ]
  },
  {
   "cell_type": "code",
   "execution_count": 27,
   "metadata": {},
   "outputs": [],
   "source": [
    "expected = a_4x4n @ b_4nx4n"
   ]
  },
  {
   "cell_type": "code",
   "execution_count": 28,
   "metadata": {},
   "outputs": [
    {
     "data": {
      "text/plain": [
       "array([[-1120, -1148, -1176, -1204, -1232, -1260, -1288, -1316],\n",
       "       [-2912, -3004, -3096, -3188, -3280, -3372, -3464, -3556],\n",
       "       [-4704, -4860, -5016, -5172, -5328, -5484, -5640, -5796],\n",
       "       [-6496, -6716, -6936, -7156, -7376, -7596, -7816, -8036]])"
      ]
     },
     "execution_count": 28,
     "metadata": {},
     "output_type": "execute_result"
    }
   ],
   "source": [
    "expected"
   ]
  },
  {
   "cell_type": "code",
   "execution_count": 29,
   "metadata": {},
   "outputs": [],
   "source": [
    "# farm 4nx4n_4nx4n"
   ]
  },
  {
   "cell_type": "code",
   "execution_count": 30,
   "metadata": {},
   "outputs": [],
   "source": [
    "n = 2\n",
    "a_4nx4n = np.asarray(\n",
    "    np.arange(0, 4 * n * 4 * n).reshape(4 * n, 4 * n)\n",
    ")\n",
    "b_4nx4n = np.asarray(\n",
    "    np.arange(0, 4 * n * 4 * n).reshape(4 * n, 4 * n)\n",
    ") * -1"
   ]
  },
  {
   "cell_type": "code",
   "execution_count": 31,
   "metadata": {},
   "outputs": [],
   "source": [
    "expected = a_4nx4n @ b_4nx4n"
   ]
  },
  {
   "cell_type": "code",
   "execution_count": 32,
   "metadata": {},
   "outputs": [
    {
     "data": {
      "text/plain": [
       "array([[ -1120,  -1148,  -1176,  -1204,  -1232,  -1260,  -1288,  -1316],\n",
       "       [ -2912,  -3004,  -3096,  -3188,  -3280,  -3372,  -3464,  -3556],\n",
       "       [ -4704,  -4860,  -5016,  -5172,  -5328,  -5484,  -5640,  -5796],\n",
       "       [ -6496,  -6716,  -6936,  -7156,  -7376,  -7596,  -7816,  -8036],\n",
       "       [ -8288,  -8572,  -8856,  -9140,  -9424,  -9708,  -9992, -10276],\n",
       "       [-10080, -10428, -10776, -11124, -11472, -11820, -12168, -12516],\n",
       "       [-11872, -12284, -12696, -13108, -13520, -13932, -14344, -14756],\n",
       "       [-13664, -14140, -14616, -15092, -15568, -16044, -16520, -16996]])"
      ]
     },
     "execution_count": 32,
     "metadata": {},
     "output_type": "execute_result"
    }
   ],
   "source": [
    "expected"
   ]
  },
  {
   "cell_type": "code",
   "execution_count": 33,
   "metadata": {},
   "outputs": [],
   "source": [
    "# ear 4x4n_4nxk"
   ]
  },
  {
   "cell_type": "code",
   "execution_count": 34,
   "metadata": {},
   "outputs": [],
   "source": [
    "n = 2\n",
    "k = 1\n",
    "a_4nx4n = np.asarray(\n",
    "    np.arange(0, 4 * n * 4 * n).reshape(4 * n, 4 * n)\n",
    ")\n",
    "b_4nx4n = np.asarray(\n",
    "    np.arange(0, 4 * n * 4 * n).reshape(4 * n, 4 * n)\n",
    ") * -1"
   ]
  },
  {
   "cell_type": "code",
   "execution_count": 35,
   "metadata": {},
   "outputs": [],
   "source": [
    "a = a_4nx4n[:4, : 4*n]\n",
    "b = b_4nx4n[:4*n, :k]"
   ]
  },
  {
   "cell_type": "code",
   "execution_count": 36,
   "metadata": {},
   "outputs": [],
   "source": [
    "expected = a @ b"
   ]
  },
  {
   "cell_type": "code",
   "execution_count": 37,
   "metadata": {},
   "outputs": [
    {
     "data": {
      "text/plain": [
       "array([[-1120],\n",
       "       [-2912],\n",
       "       [-4704],\n",
       "       [-6496]])"
      ]
     },
     "execution_count": 37,
     "metadata": {},
     "output_type": "execute_result"
    }
   ],
   "source": [
    "expected"
   ]
  },
  {
   "cell_type": "code",
   "execution_count": 38,
   "metadata": {},
   "outputs": [],
   "source": [
    "# farm 4nx4n_4nxk"
   ]
  },
  {
   "cell_type": "code",
   "execution_count": 39,
   "metadata": {},
   "outputs": [],
   "source": [
    "n = 2\n",
    "k = 3\n",
    "a_4nx4n = np.asarray(\n",
    "    np.arange(0, 4 * n * 4 * n).reshape(4 * n, 4 * n)\n",
    ")\n",
    "b_4nx4n = np.asarray(\n",
    "    np.arange(0, 4 * n * 4 * n).reshape(4 * n, 4 * n)\n",
    ") * -1"
   ]
  },
  {
   "cell_type": "code",
   "execution_count": 40,
   "metadata": {},
   "outputs": [],
   "source": [
    "a = a_4nx4n[:, : 4*n]\n",
    "b = b_4nx4n[:4*n, :k]"
   ]
  },
  {
   "cell_type": "code",
   "execution_count": 41,
   "metadata": {},
   "outputs": [],
   "source": [
    "expected = a @ b"
   ]
  },
  {
   "cell_type": "code",
   "execution_count": 42,
   "metadata": {},
   "outputs": [
    {
     "data": {
      "text/plain": [
       "array([[ -1120,  -1148,  -1176],\n",
       "       [ -2912,  -3004,  -3096],\n",
       "       [ -4704,  -4860,  -5016],\n",
       "       [ -6496,  -6716,  -6936],\n",
       "       [ -8288,  -8572,  -8856],\n",
       "       [-10080, -10428, -10776],\n",
       "       [-11872, -12284, -12696],\n",
       "       [-13664, -14140, -14616]])"
      ]
     },
     "execution_count": 42,
     "metadata": {},
     "output_type": "execute_result"
    }
   ],
   "source": [
    "expected"
   ]
  },
  {
   "cell_type": "code",
   "execution_count": 43,
   "metadata": {},
   "outputs": [],
   "source": [
    "# ear 4xk_kx4n"
   ]
  },
  {
   "cell_type": "code",
   "execution_count": 44,
   "metadata": {},
   "outputs": [],
   "source": [
    "n = 2\n",
    "k = 2\n",
    "a_4nx4n = np.asarray(\n",
    "    np.arange(0, 4 * n * 4 * n).reshape(4 * n, 4 * n)\n",
    ")\n",
    "b_4nx4n = np.asarray(\n",
    "    np.arange(0, 4 * n * 4 * n).reshape(4 * n, 4 * n)\n",
    ") * -1"
   ]
  },
  {
   "cell_type": "code",
   "execution_count": 45,
   "metadata": {},
   "outputs": [],
   "source": [
    "a = a_4nx4n[:4, :k]\n",
    "b = b_4nx4n[:k, :4*n]"
   ]
  },
  {
   "cell_type": "code",
   "execution_count": 46,
   "metadata": {},
   "outputs": [
    {
     "data": {
      "text/plain": [
       "(array([[ 0,  1],\n",
       "        [ 8,  9],\n",
       "        [16, 17],\n",
       "        [24, 25]]),\n",
       " array([[  0,  -1,  -2,  -3,  -4,  -5,  -6,  -7],\n",
       "        [ -8,  -9, -10, -11, -12, -13, -14, -15]]))"
      ]
     },
     "execution_count": 46,
     "metadata": {},
     "output_type": "execute_result"
    }
   ],
   "source": [
    "a, b"
   ]
  },
  {
   "cell_type": "code",
   "execution_count": 47,
   "metadata": {},
   "outputs": [],
   "source": [
    "expected = a @ b"
   ]
  },
  {
   "cell_type": "code",
   "execution_count": 48,
   "metadata": {},
   "outputs": [
    {
     "data": {
      "text/plain": [
       "array([[  -8,   -9,  -10,  -11,  -12,  -13,  -14,  -15],\n",
       "       [ -72,  -89, -106, -123, -140, -157, -174, -191],\n",
       "       [-136, -169, -202, -235, -268, -301, -334, -367],\n",
       "       [-200, -249, -298, -347, -396, -445, -494, -543]])"
      ]
     },
     "execution_count": 48,
     "metadata": {},
     "output_type": "execute_result"
    }
   ],
   "source": [
    "expected"
   ]
  },
  {
   "cell_type": "code",
   "execution_count": 49,
   "metadata": {},
   "outputs": [],
   "source": [
    "# farm 4nxk_kx4n"
   ]
  },
  {
   "cell_type": "code",
   "execution_count": 50,
   "metadata": {},
   "outputs": [],
   "source": [
    "n = 2\n",
    "k = 1\n",
    "a_4nx4n = np.asarray(\n",
    "    np.arange(0, 4 * n * 4 * n).reshape(4 * n, 4 * n)\n",
    ")\n",
    "b_4nx4n = np.asarray(\n",
    "    np.arange(0, 4 * n * 4 * n).reshape(4 * n, 4 * n)\n",
    ") * -1"
   ]
  },
  {
   "cell_type": "code",
   "execution_count": 51,
   "metadata": {},
   "outputs": [],
   "source": [
    "a = a_4nx4n[:, :k]\n",
    "b = b_4nx4n[:k, :4*n]"
   ]
  },
  {
   "cell_type": "code",
   "execution_count": 52,
   "metadata": {},
   "outputs": [],
   "source": [
    "expected = a @ b"
   ]
  },
  {
   "cell_type": "code",
   "execution_count": 53,
   "metadata": {},
   "outputs": [
    {
     "data": {
      "text/plain": [
       "array([[   0,    0,    0,    0,    0,    0,    0,    0],\n",
       "       [   0,   -8,  -16,  -24,  -32,  -40,  -48,  -56],\n",
       "       [   0,  -16,  -32,  -48,  -64,  -80,  -96, -112],\n",
       "       [   0,  -24,  -48,  -72,  -96, -120, -144, -168],\n",
       "       [   0,  -32,  -64,  -96, -128, -160, -192, -224],\n",
       "       [   0,  -40,  -80, -120, -160, -200, -240, -280],\n",
       "       [   0,  -48,  -96, -144, -192, -240, -288, -336],\n",
       "       [   0,  -56, -112, -168, -224, -280, -336, -392]])"
      ]
     },
     "execution_count": 53,
     "metadata": {},
     "output_type": "execute_result"
    }
   ],
   "source": [
    "expected"
   ]
  },
  {
   "cell_type": "code",
   "execution_count": 54,
   "metadata": {},
   "outputs": [],
   "source": [
    "# farm_4nxk_kxk"
   ]
  },
  {
   "cell_type": "code",
   "execution_count": 55,
   "metadata": {},
   "outputs": [],
   "source": [
    "n = 2\n",
    "k = 3\n",
    "a_4nx4n = np.asarray(\n",
    "    np.arange(0, 4 * n * 4 * n).reshape(4 * n, 4 * n)\n",
    ") + 12\n",
    "b_4nx4n = (np.asarray(\n",
    "    np.arange(0, 4 * n * 4 * n).reshape(4 * n, 4 * n)\n",
    ") * -1) + -12"
   ]
  },
  {
   "cell_type": "code",
   "execution_count": 56,
   "metadata": {},
   "outputs": [],
   "source": [
    "a = a_4nx4n[:, :k]\n",
    "b = b_4nx4n[:k, :k]"
   ]
  },
  {
   "cell_type": "code",
   "execution_count": 57,
   "metadata": {},
   "outputs": [
    {
     "data": {
      "text/plain": [
       "(array([[12, 13, 14],\n",
       "        [20, 21, 22],\n",
       "        [28, 29, 30],\n",
       "        [36, 37, 38],\n",
       "        [44, 45, 46],\n",
       "        [52, 53, 54],\n",
       "        [60, 61, 62],\n",
       "        [68, 69, 70]]),\n",
       " array([[-12, -13, -14],\n",
       "        [-20, -21, -22],\n",
       "        [-28, -29, -30]]))"
      ]
     },
     "execution_count": 57,
     "metadata": {},
     "output_type": "execute_result"
    }
   ],
   "source": [
    "a,b"
   ]
  },
  {
   "cell_type": "code",
   "execution_count": 58,
   "metadata": {},
   "outputs": [],
   "source": [
    "expected = a @ b"
   ]
  },
  {
   "cell_type": "code",
   "execution_count": 59,
   "metadata": {},
   "outputs": [
    {
     "data": {
      "text/plain": [
       "array([[ -796,  -835,  -874],\n",
       "       [-1276, -1339, -1402],\n",
       "       [-1756, -1843, -1930],\n",
       "       [-2236, -2347, -2458],\n",
       "       [-2716, -2851, -2986],\n",
       "       [-3196, -3355, -3514],\n",
       "       [-3676, -3859, -4042],\n",
       "       [-4156, -4363, -4570]])"
      ]
     },
     "execution_count": 59,
     "metadata": {},
     "output_type": "execute_result"
    }
   ],
   "source": [
    "expected"
   ]
  },
  {
   "cell_type": "code",
   "execution_count": 60,
   "metadata": {},
   "outputs": [],
   "source": [
    "# ear_kx4_4x4"
   ]
  },
  {
   "cell_type": "code",
   "execution_count": 79,
   "metadata": {},
   "outputs": [],
   "source": [
    "n = 2\n",
    "k = 3\n",
    "a_4nx4n = np.asarray(\n",
    "    np.arange(0, 4 * n * 4 * n).reshape(4 * n, 4 * n)\n",
    ")\n",
    "b_4nx4n = np.asarray(\n",
    "    np.arange(0, 4 * n * 4 * n).reshape(4 * n, 4 * n)\n",
    ") * -1"
   ]
  },
  {
   "cell_type": "code",
   "execution_count": 80,
   "metadata": {},
   "outputs": [],
   "source": [
    "a = a_4nx4n[:k, :4]"
   ]
  },
  {
   "cell_type": "code",
   "execution_count": 81,
   "metadata": {},
   "outputs": [],
   "source": [
    "b = b_4nx4n[:4, :4]"
   ]
  },
  {
   "cell_type": "code",
   "execution_count": 82,
   "metadata": {},
   "outputs": [
    {
     "data": {
      "text/plain": [
       "array([[ 0,  1,  2,  3,  4,  5,  6,  7],\n",
       "       [ 8,  9, 10, 11, 12, 13, 14, 15],\n",
       "       [16, 17, 18, 19, 20, 21, 22, 23],\n",
       "       [24, 25, 26, 27, 28, 29, 30, 31],\n",
       "       [32, 33, 34, 35, 36, 37, 38, 39],\n",
       "       [40, 41, 42, 43, 44, 45, 46, 47],\n",
       "       [48, 49, 50, 51, 52, 53, 54, 55],\n",
       "       [56, 57, 58, 59, 60, 61, 62, 63]])"
      ]
     },
     "execution_count": 82,
     "metadata": {},
     "output_type": "execute_result"
    }
   ],
   "source": [
    "a_4nx4n"
   ]
  },
  {
   "cell_type": "code",
   "execution_count": 83,
   "metadata": {},
   "outputs": [
    {
     "data": {
      "text/plain": [
       "array([[  0,  -1,  -2,  -3,  -4,  -5,  -6,  -7],\n",
       "       [ -8,  -9, -10, -11, -12, -13, -14, -15],\n",
       "       [-16, -17, -18, -19, -20, -21, -22, -23],\n",
       "       [-24, -25, -26, -27, -28, -29, -30, -31],\n",
       "       [-32, -33, -34, -35, -36, -37, -38, -39],\n",
       "       [-40, -41, -42, -43, -44, -45, -46, -47],\n",
       "       [-48, -49, -50, -51, -52, -53, -54, -55],\n",
       "       [-56, -57, -58, -59, -60, -61, -62, -63]])"
      ]
     },
     "execution_count": 83,
     "metadata": {},
     "output_type": "execute_result"
    }
   ],
   "source": [
    "b_4nx4n"
   ]
  },
  {
   "cell_type": "code",
   "execution_count": 84,
   "metadata": {},
   "outputs": [
    {
     "data": {
      "text/plain": [
       "(array([[ 0,  1,  2,  3],\n",
       "        [ 8,  9, 10, 11],\n",
       "        [16, 17, 18, 19]]),\n",
       " array([[  0,  -1,  -2,  -3],\n",
       "        [ -8,  -9, -10, -11],\n",
       "        [-16, -17, -18, -19],\n",
       "        [-24, -25, -26, -27]]))"
      ]
     },
     "execution_count": 84,
     "metadata": {},
     "output_type": "execute_result"
    }
   ],
   "source": [
    "a, b"
   ]
  },
  {
   "cell_type": "code",
   "execution_count": 85,
   "metadata": {},
   "outputs": [
    {
     "data": {
      "text/plain": [
       "array([[ -112,  -118,  -124,  -130],\n",
       "       [ -496,  -534,  -572,  -610],\n",
       "       [ -880,  -950, -1020, -1090]])"
      ]
     },
     "execution_count": 85,
     "metadata": {},
     "output_type": "execute_result"
    }
   ],
   "source": [
    "a @ b"
   ]
  },
  {
   "cell_type": "code",
   "execution_count": 86,
   "metadata": {},
   "outputs": [],
   "source": [
    "# field kx4_4x4n"
   ]
  },
  {
   "cell_type": "code",
   "execution_count": 95,
   "metadata": {},
   "outputs": [],
   "source": [
    "n = 2\n",
    "k = 3\n",
    "a_4nx4n = np.asarray(\n",
    "    np.arange(0, 4 * n * 4 * n).reshape(4 * n, 4 * n)\n",
    ")\n",
    "b_4nx4n = np.asarray(\n",
    "    np.arange(0, 4 * n * 4 * n).reshape(4 * n, 4 * n)\n",
    ") * -1"
   ]
  },
  {
   "cell_type": "code",
   "execution_count": 96,
   "metadata": {},
   "outputs": [],
   "source": [
    "a = a_4nx4n[:k, :4]\n",
    "b = b_4nx4n[:4, :4 * n]"
   ]
  },
  {
   "cell_type": "code",
   "execution_count": 97,
   "metadata": {},
   "outputs": [
    {
     "data": {
      "text/plain": [
       "array([[  0,  -1,  -2,  -3,  -4,  -5,  -6,  -7],\n",
       "       [ -8,  -9, -10, -11, -12, -13, -14, -15],\n",
       "       [-16, -17, -18, -19, -20, -21, -22, -23],\n",
       "       [-24, -25, -26, -27, -28, -29, -30, -31]])"
      ]
     },
     "execution_count": 97,
     "metadata": {},
     "output_type": "execute_result"
    }
   ],
   "source": [
    "b"
   ]
  },
  {
   "cell_type": "code",
   "execution_count": 98,
   "metadata": {},
   "outputs": [
    {
     "data": {
      "text/plain": [
       "array([[ -112,  -118,  -124,  -130,  -136,  -142,  -148,  -154],\n",
       "       [ -496,  -534,  -572,  -610,  -648,  -686,  -724,  -762],\n",
       "       [ -880,  -950, -1020, -1090, -1160, -1230, -1300, -1370]])"
      ]
     },
     "execution_count": 98,
     "metadata": {},
     "output_type": "execute_result"
    }
   ],
   "source": [
    "a @ b"
   ]
  },
  {
   "cell_type": "code",
   "execution_count": 99,
   "metadata": {},
   "outputs": [],
   "source": [
    "# farm kx4n_4nx4n"
   ]
  },
  {
   "cell_type": "code",
   "execution_count": 110,
   "metadata": {},
   "outputs": [],
   "source": [
    "n = 2\n",
    "k = 3\n",
    "a_4nx4n = np.asarray(\n",
    "    np.arange(0, 4 * n * 4 * n).reshape(4 * n, 4 * n)\n",
    ")\n",
    "b_4nx4n = np.asarray(\n",
    "    np.arange(0, 4 * n * 4 * n).reshape(4 * n, 4 * n)\n",
    ") * -1"
   ]
  },
  {
   "cell_type": "code",
   "execution_count": 111,
   "metadata": {},
   "outputs": [],
   "source": [
    "a = a_4nx4n[:k, :4 * n]\n",
    "b = b_4nx4n[:4 * n, :4 * n]"
   ]
  },
  {
   "cell_type": "code",
   "execution_count": 112,
   "metadata": {},
   "outputs": [
    {
     "data": {
      "text/plain": [
       "array([[ 0,  1,  2,  3,  4,  5,  6,  7],\n",
       "       [ 8,  9, 10, 11, 12, 13, 14, 15]])"
      ]
     },
     "execution_count": 112,
     "metadata": {},
     "output_type": "execute_result"
    }
   ],
   "source": [
    "a"
   ]
  },
  {
   "cell_type": "code",
   "execution_count": 113,
   "metadata": {},
   "outputs": [
    {
     "data": {
      "text/plain": [
       "array([[  0,  -1,  -2,  -3,  -4,  -5,  -6,  -7],\n",
       "       [ -8,  -9, -10, -11, -12, -13, -14, -15],\n",
       "       [-16, -17, -18, -19, -20, -21, -22, -23],\n",
       "       [-24, -25, -26, -27, -28, -29, -30, -31],\n",
       "       [-32, -33, -34, -35, -36, -37, -38, -39],\n",
       "       [-40, -41, -42, -43, -44, -45, -46, -47],\n",
       "       [-48, -49, -50, -51, -52, -53, -54, -55],\n",
       "       [-56, -57, -58, -59, -60, -61, -62, -63]])"
      ]
     },
     "execution_count": 113,
     "metadata": {},
     "output_type": "execute_result"
    }
   ],
   "source": [
    "b"
   ]
  },
  {
   "cell_type": "code",
   "execution_count": 114,
   "metadata": {},
   "outputs": [
    {
     "data": {
      "text/plain": [
       "array([[-1120, -1148, -1176, -1204, -1232, -1260, -1288, -1316],\n",
       "       [-2912, -3004, -3096, -3188, -3280, -3372, -3464, -3556]])"
      ]
     },
     "execution_count": 114,
     "metadata": {},
     "output_type": "execute_result"
    }
   ],
   "source": [
    "a @ b"
   ]
  },
  {
   "cell_type": "code",
   "execution_count": null,
   "metadata": {},
   "outputs": [],
   "source": []
  }
 ],
 "metadata": {
  "kernelspec": {
   "display_name": "cling",
   "language": "python",
   "name": "python3"
  },
  "language_info": {
   "codemirror_mode": {
    "name": "ipython",
    "version": 3
   },
   "file_extension": ".py",
   "mimetype": "text/x-python",
   "name": "python",
   "nbconvert_exporter": "python",
   "pygments_lexer": "ipython3",
   "version": "3.12.5"
  }
 },
 "nbformat": 4,
 "nbformat_minor": 2
}

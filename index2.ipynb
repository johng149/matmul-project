{
 "cells": [
  {
   "cell_type": "code",
   "execution_count": 51,
   "metadata": {},
   "outputs": [],
   "source": [
    "import numpy as np"
   ]
  },
  {
   "cell_type": "code",
   "execution_count": 52,
   "metadata": {},
   "outputs": [],
   "source": [
    "kernel_size = 4\n",
    "n = 1\n",
    "k = 2"
   ]
  },
  {
   "cell_type": "code",
   "execution_count": 53,
   "metadata": {},
   "outputs": [],
   "source": [
    "rows = cols = kernel_size * n + k"
   ]
  },
  {
   "cell_type": "code",
   "execution_count": 54,
   "metadata": {},
   "outputs": [],
   "source": [
    "A = np.random.rand(rows, cols)\n",
    "B = np.random.rand(rows, cols)\n",
    "Cstar = A @ B"
   ]
  },
  {
   "cell_type": "code",
   "execution_count": 55,
   "metadata": {},
   "outputs": [],
   "source": [
    "first4nrows = np.zeros((4*n, cols))"
   ]
  },
  {
   "cell_type": "code",
   "execution_count": 56,
   "metadata": {},
   "outputs": [],
   "source": [
    "lastkrrows = np.zeros((k, cols))"
   ]
  },
  {
   "cell_type": "code",
   "execution_count": 57,
   "metadata": {},
   "outputs": [],
   "source": [
    "# `a` is first 4n rows and 4n columns of A (upper left corner)\n",
    "a = A[:4*n, :4*n]\n",
    "# `b` is first 4n rows and last k columns of A (upper right corner)\n",
    "b = A[:4*n, -k:]\n",
    "# `c` is last k rows and 4n columns of A (lower left corner)\n",
    "c = A[-k:, :4*n]\n",
    "# `d` is last k rows and last k columns of A (lower right corner)\n",
    "d = A[-k:, -k:]"
   ]
  },
  {
   "cell_type": "code",
   "execution_count": 58,
   "metadata": {},
   "outputs": [],
   "source": [
    "# `a_prime` is first 4n rows and 4n columns of B (upper left corner)\n",
    "a_prime = B[:4*n, :4*n]\n",
    "# `b_prime` is first 4n rows and last k columns of B (upper right corner)\n",
    "b_prime = B[:4*n, -k:]\n",
    "# `c_prime` is last k rows and 4n columns of B (lower left corner)\n",
    "c_prime = B[-k:, :4*n]\n",
    "# `d_prime` is last k rows and last k columns of B (lower right corner)\n",
    "d_prime = B[-k:, -k:]"
   ]
  },
  {
   "cell_type": "code",
   "execution_count": 59,
   "metadata": {},
   "outputs": [],
   "source": [
    "# there are two contributions to the `first4nrows` matrix\n",
    "# one is [a] * [a_prime][b_prime] where [a] is 4n x 4n and [a_prime][b_prime] is 4n x (4n + k)\n",
    "# other is [b] * [c_prime][d_prime] where [b] is 4n x k and [c_prime][d_prime] is k x (4n + k)\n",
    "alpha = a @ np.concatenate((a_prime, b_prime), axis=1)\n",
    "first4nrows += alpha\n",
    "beta = b @ np.concatenate((c_prime, d_prime), axis=1)\n",
    "first4nrows += beta"
   ]
  },
  {
   "cell_type": "code",
   "execution_count": 60,
   "metadata": {},
   "outputs": [],
   "source": [
    "# there are also two contributions to the `lastkrrows` matrix\n",
    "# one is [c] * [a_prime][b_prime] where [c] is k x 4n and [a_prime][b_prime] is 4n x (4n + k)\n",
    "# other is [d] * [c_prime][d_prime] where [d] is k x k and [c_prime][d_prime] is k x (4n + k)\n",
    "gamma = c @ np.concatenate((a_prime, b_prime), axis=1)\n",
    "lastkrrows += gamma\n",
    "delta = d @ np.concatenate((c_prime, d_prime), axis=1)\n",
    "lastkrrows += delta"
   ]
  },
  {
   "cell_type": "code",
   "execution_count": 61,
   "metadata": {},
   "outputs": [],
   "source": [
    "combined = np.concatenate((first4nrows, lastkrrows), axis=0)"
   ]
  },
  {
   "cell_type": "code",
   "execution_count": 62,
   "metadata": {},
   "outputs": [],
   "source": [
    "assert np.allclose(Cstar, combined)"
   ]
  },
  {
   "cell_type": "code",
   "execution_count": 63,
   "metadata": {},
   "outputs": [],
   "source": [
    "# alpha it self can be split into two parts\n",
    "alpha_first4n = np.zeros((4*n, 4*n))\n",
    "alpha_lastk = np.zeros((4*n, k))"
   ]
  },
  {
   "cell_type": "code",
   "execution_count": 64,
   "metadata": {},
   "outputs": [],
   "source": [
    "alpha_first4n = a @ a_prime\n",
    "alpha_lastk = a @ b_prime\n",
    "alpha_combined = np.concatenate((alpha_first4n, alpha_lastk), axis=1)\n",
    "assert np.allclose(alpha, alpha_combined)"
   ]
  },
  {
   "cell_type": "code",
   "execution_count": 65,
   "metadata": {},
   "outputs": [],
   "source": [
    "# ear 4x4_4x4n"
   ]
  },
  {
   "cell_type": "code",
   "execution_count": 66,
   "metadata": {},
   "outputs": [],
   "source": [
    "n = 2\n",
    "a_4x4 = np.asarray(\n",
    "    np.arange(0, 16).reshape(4, 4)\n",
    ")\n",
    "b_4x4n = np.asarray(\n",
    "    np.arange(0, 4 * 4 * n).reshape(4, 4 * n)\n",
    ") * -1"
   ]
  },
  {
   "cell_type": "code",
   "execution_count": 67,
   "metadata": {},
   "outputs": [
    {
     "data": {
      "text/plain": [
       "(array([[ 0,  1,  2,  3],\n",
       "        [ 4,  5,  6,  7],\n",
       "        [ 8,  9, 10, 11],\n",
       "        [12, 13, 14, 15]]),\n",
       " array([[  0,  -1,  -2,  -3,  -4,  -5,  -6,  -7],\n",
       "        [ -8,  -9, -10, -11, -12, -13, -14, -15],\n",
       "        [-16, -17, -18, -19, -20, -21, -22, -23],\n",
       "        [-24, -25, -26, -27, -28, -29, -30, -31]]))"
      ]
     },
     "execution_count": 67,
     "metadata": {},
     "output_type": "execute_result"
    }
   ],
   "source": [
    "a_4x4, b_4x4n"
   ]
  },
  {
   "cell_type": "code",
   "execution_count": 68,
   "metadata": {},
   "outputs": [],
   "source": [
    "b_4x4n_1 = b_4x4n[:, :n]\n",
    "b_4x4n_2 = b_4x4n[:, n:]"
   ]
  },
  {
   "cell_type": "code",
   "execution_count": 69,
   "metadata": {},
   "outputs": [],
   "source": [
    "expected = a_4x4 @ b_4x4n"
   ]
  },
  {
   "cell_type": "code",
   "execution_count": 70,
   "metadata": {},
   "outputs": [],
   "source": [
    "part1 = a_4x4 @ b_4x4n_1\n",
    "part2 = a_4x4 @ b_4x4n_2\n",
    "combined = np.concatenate((part1, part2), axis=1)"
   ]
  },
  {
   "cell_type": "code",
   "execution_count": 71,
   "metadata": {},
   "outputs": [],
   "source": [
    "assert np.allclose(expected, combined)"
   ]
  },
  {
   "cell_type": "code",
   "execution_count": 72,
   "metadata": {},
   "outputs": [
    {
     "data": {
      "text/plain": [
       "array([[ -112,  -118,  -124,  -130,  -136,  -142,  -148,  -154],\n",
       "       [ -304,  -326,  -348,  -370,  -392,  -414,  -436,  -458],\n",
       "       [ -496,  -534,  -572,  -610,  -648,  -686,  -724,  -762],\n",
       "       [ -688,  -742,  -796,  -850,  -904,  -958, -1012, -1066]])"
      ]
     },
     "execution_count": 72,
     "metadata": {},
     "output_type": "execute_result"
    }
   ],
   "source": [
    "expected"
   ]
  },
  {
   "cell_type": "code",
   "execution_count": 73,
   "metadata": {},
   "outputs": [],
   "source": [
    "# field 4x4n_4nx4n"
   ]
  },
  {
   "cell_type": "code",
   "execution_count": 76,
   "metadata": {},
   "outputs": [],
   "source": [
    "n = 2\n",
    "a_4x4n = np.asarray(\n",
    "    np.arange(0, 4 * 4 * n).reshape(4, 4 * n)\n",
    ")\n",
    "b_4nx4n = np.asarray(\n",
    "    np.arange(0, 4 * 4 * n * n).reshape(4 * n, 4 * n)\n",
    ") * -1"
   ]
  },
  {
   "cell_type": "code",
   "execution_count": 77,
   "metadata": {},
   "outputs": [],
   "source": [
    "expected = a_4x4n @ b_4nx4n"
   ]
  },
  {
   "cell_type": "code",
   "execution_count": 78,
   "metadata": {},
   "outputs": [
    {
     "data": {
      "text/plain": [
       "array([[-1120, -1148, -1176, -1204, -1232, -1260, -1288, -1316],\n",
       "       [-2912, -3004, -3096, -3188, -3280, -3372, -3464, -3556],\n",
       "       [-4704, -4860, -5016, -5172, -5328, -5484, -5640, -5796],\n",
       "       [-6496, -6716, -6936, -7156, -7376, -7596, -7816, -8036]])"
      ]
     },
     "execution_count": 78,
     "metadata": {},
     "output_type": "execute_result"
    }
   ],
   "source": [
    "expected"
   ]
  },
  {
   "cell_type": "code",
   "execution_count": 81,
   "metadata": {},
   "outputs": [],
   "source": [
    "# farm 4nx4n_4nx4n"
   ]
  },
  {
   "cell_type": "code",
   "execution_count": 82,
   "metadata": {},
   "outputs": [],
   "source": [
    "n = 2\n",
    "a_4nx4n = np.asarray(\n",
    "    np.arange(0, 4 * n * 4 * n).reshape(4 * n, 4 * n)\n",
    ")\n",
    "b_4nx4n = np.asarray(\n",
    "    np.arange(0, 4 * n * 4 * n).reshape(4 * n, 4 * n)\n",
    ") * -1"
   ]
  },
  {
   "cell_type": "code",
   "execution_count": 83,
   "metadata": {},
   "outputs": [],
   "source": [
    "expected = a_4nx4n @ b_4nx4n"
   ]
  },
  {
   "cell_type": "code",
   "execution_count": 84,
   "metadata": {},
   "outputs": [
    {
     "data": {
      "text/plain": [
       "array([[ -1120,  -1148,  -1176,  -1204,  -1232,  -1260,  -1288,  -1316],\n",
       "       [ -2912,  -3004,  -3096,  -3188,  -3280,  -3372,  -3464,  -3556],\n",
       "       [ -4704,  -4860,  -5016,  -5172,  -5328,  -5484,  -5640,  -5796],\n",
       "       [ -6496,  -6716,  -6936,  -7156,  -7376,  -7596,  -7816,  -8036],\n",
       "       [ -8288,  -8572,  -8856,  -9140,  -9424,  -9708,  -9992, -10276],\n",
       "       [-10080, -10428, -10776, -11124, -11472, -11820, -12168, -12516],\n",
       "       [-11872, -12284, -12696, -13108, -13520, -13932, -14344, -14756],\n",
       "       [-13664, -14140, -14616, -15092, -15568, -16044, -16520, -16996]])"
      ]
     },
     "execution_count": 84,
     "metadata": {},
     "output_type": "execute_result"
    }
   ],
   "source": [
    "expected"
   ]
  },
  {
   "cell_type": "code",
   "execution_count": null,
   "metadata": {},
   "outputs": [],
   "source": []
  }
 ],
 "metadata": {
  "kernelspec": {
   "display_name": "cling",
   "language": "python",
   "name": "python3"
  },
  "language_info": {
   "codemirror_mode": {
    "name": "ipython",
    "version": 3
   },
   "file_extension": ".py",
   "mimetype": "text/x-python",
   "name": "python",
   "nbconvert_exporter": "python",
   "pygments_lexer": "ipython3",
   "version": "3.12.5"
  }
 },
 "nbformat": 4,
 "nbformat_minor": 2
}

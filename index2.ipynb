{
 "cells": [
  {
   "cell_type": "code",
   "execution_count": 23,
   "metadata": {},
   "outputs": [],
   "source": [
    "import numpy as np"
   ]
  },
  {
   "cell_type": "code",
   "execution_count": 24,
   "metadata": {},
   "outputs": [],
   "source": [
    "kernel_size = 4\n",
    "n = 1\n",
    "k = 2"
   ]
  },
  {
   "cell_type": "code",
   "execution_count": 25,
   "metadata": {},
   "outputs": [],
   "source": [
    "rows = cols = kernel_size * n + k"
   ]
  },
  {
   "cell_type": "code",
   "execution_count": 26,
   "metadata": {},
   "outputs": [],
   "source": [
    "A = np.random.rand(rows, cols)\n",
    "B = np.random.rand(rows, cols)\n",
    "Cstar = A @ B"
   ]
  },
  {
   "cell_type": "code",
   "execution_count": 27,
   "metadata": {},
   "outputs": [],
   "source": [
    "first4nrows = np.zeros((4*n, cols))"
   ]
  },
  {
   "cell_type": "code",
   "execution_count": 28,
   "metadata": {},
   "outputs": [],
   "source": [
    "lastkrrows = np.zeros((k, cols))"
   ]
  },
  {
   "cell_type": "code",
   "execution_count": 29,
   "metadata": {},
   "outputs": [],
   "source": [
    "# `a` is first 4n rows and 4n columns of A (upper left corner)\n",
    "a = A[:4*n, :4*n]\n",
    "# `b` is first 4n rows and last k columns of A (upper right corner)\n",
    "b = A[:4*n, -k:]\n",
    "# `c` is last k rows and 4n columns of A (lower left corner)\n",
    "c = A[-k:, :4*n]\n",
    "# `d` is last k rows and last k columns of A (lower right corner)\n",
    "d = A[-k:, -k:]"
   ]
  },
  {
   "cell_type": "code",
   "execution_count": 30,
   "metadata": {},
   "outputs": [],
   "source": [
    "# `a_prime` is first 4n rows and 4n columns of B (upper left corner)\n",
    "a_prime = B[:4*n, :4*n]\n",
    "# `b_prime` is first 4n rows and last k columns of B (upper right corner)\n",
    "b_prime = B[:4*n, -k:]\n",
    "# `c_prime` is last k rows and 4n columns of B (lower left corner)\n",
    "c_prime = B[-k:, :4*n]\n",
    "# `d_prime` is last k rows and last k columns of B (lower right corner)\n",
    "d_prime = B[-k:, -k:]"
   ]
  },
  {
   "cell_type": "code",
   "execution_count": 31,
   "metadata": {},
   "outputs": [],
   "source": [
    "# there are two contributions to the `first4nrows` matrix\n",
    "# one is [a] * [a_prime][b_prime] where [a] is 4n x 4n and [a_prime][b_prime] is 4n x (4n + k)\n",
    "# other is [b] * [c_prime][d_prime] where [b] is 4n x k and [c_prime][d_prime] is k x (4n + k)\n",
    "alpha = a @ np.concatenate((a_prime, b_prime), axis=1)\n",
    "first4nrows += alpha\n",
    "beta = b @ np.concatenate((c_prime, d_prime), axis=1)\n",
    "first4nrows += beta"
   ]
  },
  {
   "cell_type": "code",
   "execution_count": 32,
   "metadata": {},
   "outputs": [],
   "source": [
    "# there are also two contributions to the `lastkrrows` matrix\n",
    "# one is [c] * [a_prime][b_prime] where [c] is k x 4n and [a_prime][b_prime] is 4n x (4n + k)\n",
    "# other is [d] * [c_prime][d_prime] where [d] is k x k and [c_prime][d_prime] is k x (4n + k)\n",
    "gamma = c @ np.concatenate((a_prime, b_prime), axis=1)\n",
    "lastkrrows += gamma\n",
    "delta = d @ np.concatenate((c_prime, d_prime), axis=1)\n",
    "lastkrrows += delta"
   ]
  },
  {
   "cell_type": "code",
   "execution_count": 33,
   "metadata": {},
   "outputs": [],
   "source": [
    "combined = np.concatenate((first4nrows, lastkrrows), axis=0)"
   ]
  },
  {
   "cell_type": "code",
   "execution_count": 34,
   "metadata": {},
   "outputs": [],
   "source": [
    "assert np.allclose(Cstar, combined)"
   ]
  },
  {
   "cell_type": "code",
   "execution_count": 35,
   "metadata": {},
   "outputs": [],
   "source": [
    "# alpha it self can be split into two parts\n",
    "alpha_first4n = np.zeros((4*n, 4*n))\n",
    "alpha_lastk = np.zeros((4*n, k))"
   ]
  },
  {
   "cell_type": "code",
   "execution_count": 36,
   "metadata": {},
   "outputs": [],
   "source": [
    "alpha_first4n = a @ a_prime\n",
    "alpha_lastk = a @ b_prime\n",
    "alpha_combined = np.concatenate((alpha_first4n, alpha_lastk), axis=1)\n",
    "assert np.allclose(alpha, alpha_combined)"
   ]
  },
  {
   "cell_type": "code",
   "execution_count": null,
   "metadata": {},
   "outputs": [],
   "source": []
  }
 ],
 "metadata": {
  "kernelspec": {
   "display_name": "cling",
   "language": "python",
   "name": "python3"
  },
  "language_info": {
   "codemirror_mode": {
    "name": "ipython",
    "version": 3
   },
   "file_extension": ".py",
   "mimetype": "text/x-python",
   "name": "python",
   "nbconvert_exporter": "python",
   "pygments_lexer": "ipython3",
   "version": "3.12.5"
  }
 },
 "nbformat": 4,
 "nbformat_minor": 2
}

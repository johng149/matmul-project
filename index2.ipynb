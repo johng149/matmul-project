{
 "cells": [
  {
   "cell_type": "code",
   "execution_count": 3,
   "metadata": {},
   "outputs": [],
   "source": [
    "import numpy as np"
   ]
  },
  {
   "cell_type": "code",
   "execution_count": 4,
   "metadata": {},
   "outputs": [],
   "source": [
    "kernel_size = 4\n",
    "n = 1\n",
    "k = 2"
   ]
  },
  {
   "cell_type": "code",
   "execution_count": 5,
   "metadata": {},
   "outputs": [],
   "source": [
    "rows = cols = kernel_size * n + k"
   ]
  },
  {
   "cell_type": "code",
   "execution_count": 6,
   "metadata": {},
   "outputs": [],
   "source": [
    "A = np.random.rand(rows, cols)\n",
    "B = np.random.rand(rows, cols)\n",
    "Cstar = A @ B"
   ]
  },
  {
   "cell_type": "code",
   "execution_count": 7,
   "metadata": {},
   "outputs": [],
   "source": [
    "first4nrows = np.zeros((4*n, cols))"
   ]
  },
  {
   "cell_type": "code",
   "execution_count": 8,
   "metadata": {},
   "outputs": [],
   "source": [
    "lastkrrows = np.zeros((k, cols))"
   ]
  },
  {
   "cell_type": "code",
   "execution_count": 9,
   "metadata": {},
   "outputs": [],
   "source": [
    "# `a` is first 4n rows and 4n columns of A (upper left corner)\n",
    "a = A[:4*n, :4*n]\n",
    "# `b` is first 4n rows and last k columns of A (upper right corner)\n",
    "b = A[:4*n, -k:]\n",
    "# `c` is last k rows and 4n columns of A (lower left corner)\n",
    "c = A[-k:, :4*n]\n",
    "# `d` is last k rows and last k columns of A (lower right corner)\n",
    "d = A[-k:, -k:]"
   ]
  },
  {
   "cell_type": "code",
   "execution_count": 10,
   "metadata": {},
   "outputs": [],
   "source": [
    "# `a_prime` is first 4n rows and 4n columns of B (upper left corner)\n",
    "a_prime = B[:4*n, :4*n]\n",
    "# `b_prime` is first 4n rows and last k columns of B (upper right corner)\n",
    "b_prime = B[:4*n, -k:]\n",
    "# `c_prime` is last k rows and 4n columns of B (lower left corner)\n",
    "c_prime = B[-k:, :4*n]\n",
    "# `d_prime` is last k rows and last k columns of B (lower right corner)\n",
    "d_prime = B[-k:, -k:]"
   ]
  },
  {
   "cell_type": "code",
   "execution_count": 11,
   "metadata": {},
   "outputs": [],
   "source": [
    "# there are two contributions to the `first4nrows` matrix\n",
    "# one is [a] * [a_prime][b_prime] where [a] is 4n x 4n and [a_prime][b_prime] is 4n x (4n + k)\n",
    "# other is [b] * [c_prime][d_prime] where [b] is 4n x k and [c_prime][d_prime] is k x (4n + k)\n",
    "alpha = a @ np.concatenate((a_prime, b_prime), axis=1)\n",
    "first4nrows += alpha\n",
    "beta = b @ np.concatenate((c_prime, d_prime), axis=1)\n",
    "first4nrows += beta"
   ]
  },
  {
   "cell_type": "code",
   "execution_count": 12,
   "metadata": {},
   "outputs": [],
   "source": [
    "# there are also two contributions to the `lastkrrows` matrix\n",
    "# one is [c] * [a_prime][b_prime] where [c] is k x 4n and [a_prime][b_prime] is 4n x (4n + k)\n",
    "# other is [d] * [c_prime][d_prime] where [d] is k x k and [c_prime][d_prime] is k x (4n + k)\n",
    "gamma = c @ np.concatenate((a_prime, b_prime), axis=1)\n",
    "lastkrrows += gamma\n",
    "delta = d @ np.concatenate((c_prime, d_prime), axis=1)\n",
    "lastkrrows += delta"
   ]
  },
  {
   "cell_type": "code",
   "execution_count": 13,
   "metadata": {},
   "outputs": [],
   "source": [
    "combined = np.concatenate((first4nrows, lastkrrows), axis=0)"
   ]
  },
  {
   "cell_type": "code",
   "execution_count": 14,
   "metadata": {},
   "outputs": [],
   "source": [
    "assert np.allclose(Cstar, combined)"
   ]
  },
  {
   "cell_type": "code",
   "execution_count": 15,
   "metadata": {},
   "outputs": [],
   "source": [
    "# alpha it self can be split into two parts\n",
    "alpha_first4n = np.zeros((4*n, 4*n))\n",
    "alpha_lastk = np.zeros((4*n, k))"
   ]
  },
  {
   "cell_type": "code",
   "execution_count": 16,
   "metadata": {},
   "outputs": [],
   "source": [
    "alpha_first4n = a @ a_prime\n",
    "alpha_lastk = a @ b_prime\n",
    "alpha_combined = np.concatenate((alpha_first4n, alpha_lastk), axis=1)\n",
    "assert np.allclose(alpha, alpha_combined)"
   ]
  },
  {
   "cell_type": "code",
   "execution_count": 17,
   "metadata": {},
   "outputs": [],
   "source": [
    "# ear 4x4_4x4n"
   ]
  },
  {
   "cell_type": "code",
   "execution_count": 18,
   "metadata": {},
   "outputs": [],
   "source": [
    "n = 2\n",
    "a_4x4 = np.asarray(\n",
    "    np.arange(0, 16).reshape(4, 4)\n",
    ")\n",
    "b_4x4n = np.asarray(\n",
    "    np.arange(0, 4 * 4 * n).reshape(4, 4 * n)\n",
    ") * -1"
   ]
  },
  {
   "cell_type": "code",
   "execution_count": 19,
   "metadata": {},
   "outputs": [
    {
     "data": {
      "text/plain": [
       "(array([[ 0,  1,  2,  3],\n",
       "        [ 4,  5,  6,  7],\n",
       "        [ 8,  9, 10, 11],\n",
       "        [12, 13, 14, 15]]),\n",
       " array([[  0,  -1,  -2,  -3,  -4,  -5,  -6,  -7],\n",
       "        [ -8,  -9, -10, -11, -12, -13, -14, -15],\n",
       "        [-16, -17, -18, -19, -20, -21, -22, -23],\n",
       "        [-24, -25, -26, -27, -28, -29, -30, -31]]))"
      ]
     },
     "execution_count": 19,
     "metadata": {},
     "output_type": "execute_result"
    }
   ],
   "source": [
    "a_4x4, b_4x4n"
   ]
  },
  {
   "cell_type": "code",
   "execution_count": 20,
   "metadata": {},
   "outputs": [],
   "source": [
    "b_4x4n_1 = b_4x4n[:, :n]\n",
    "b_4x4n_2 = b_4x4n[:, n:]"
   ]
  },
  {
   "cell_type": "code",
   "execution_count": 21,
   "metadata": {},
   "outputs": [],
   "source": [
    "expected = a_4x4 @ b_4x4n"
   ]
  },
  {
   "cell_type": "code",
   "execution_count": 22,
   "metadata": {},
   "outputs": [],
   "source": [
    "part1 = a_4x4 @ b_4x4n_1\n",
    "part2 = a_4x4 @ b_4x4n_2\n",
    "combined = np.concatenate((part1, part2), axis=1)"
   ]
  },
  {
   "cell_type": "code",
   "execution_count": 23,
   "metadata": {},
   "outputs": [],
   "source": [
    "assert np.allclose(expected, combined)"
   ]
  },
  {
   "cell_type": "code",
   "execution_count": 24,
   "metadata": {},
   "outputs": [
    {
     "data": {
      "text/plain": [
       "array([[ -112,  -118,  -124,  -130,  -136,  -142,  -148,  -154],\n",
       "       [ -304,  -326,  -348,  -370,  -392,  -414,  -436,  -458],\n",
       "       [ -496,  -534,  -572,  -610,  -648,  -686,  -724,  -762],\n",
       "       [ -688,  -742,  -796,  -850,  -904,  -958, -1012, -1066]])"
      ]
     },
     "execution_count": 24,
     "metadata": {},
     "output_type": "execute_result"
    }
   ],
   "source": [
    "expected"
   ]
  },
  {
   "cell_type": "code",
   "execution_count": 25,
   "metadata": {},
   "outputs": [],
   "source": [
    "# field 4x4n_4nx4n"
   ]
  },
  {
   "cell_type": "code",
   "execution_count": 26,
   "metadata": {},
   "outputs": [],
   "source": [
    "n = 2\n",
    "a_4x4n = np.asarray(\n",
    "    np.arange(0, 4 * 4 * n).reshape(4, 4 * n)\n",
    ")\n",
    "b_4nx4n = np.asarray(\n",
    "    np.arange(0, 4 * 4 * n * n).reshape(4 * n, 4 * n)\n",
    ") * -1"
   ]
  },
  {
   "cell_type": "code",
   "execution_count": 27,
   "metadata": {},
   "outputs": [],
   "source": [
    "expected = a_4x4n @ b_4nx4n"
   ]
  },
  {
   "cell_type": "code",
   "execution_count": 28,
   "metadata": {},
   "outputs": [
    {
     "data": {
      "text/plain": [
       "array([[-1120, -1148, -1176, -1204, -1232, -1260, -1288, -1316],\n",
       "       [-2912, -3004, -3096, -3188, -3280, -3372, -3464, -3556],\n",
       "       [-4704, -4860, -5016, -5172, -5328, -5484, -5640, -5796],\n",
       "       [-6496, -6716, -6936, -7156, -7376, -7596, -7816, -8036]])"
      ]
     },
     "execution_count": 28,
     "metadata": {},
     "output_type": "execute_result"
    }
   ],
   "source": [
    "expected"
   ]
  },
  {
   "cell_type": "code",
   "execution_count": 29,
   "metadata": {},
   "outputs": [],
   "source": [
    "# farm 4nx4n_4nx4n"
   ]
  },
  {
   "cell_type": "code",
   "execution_count": 30,
   "metadata": {},
   "outputs": [],
   "source": [
    "n = 2\n",
    "a_4nx4n = np.asarray(\n",
    "    np.arange(0, 4 * n * 4 * n).reshape(4 * n, 4 * n)\n",
    ")\n",
    "b_4nx4n = np.asarray(\n",
    "    np.arange(0, 4 * n * 4 * n).reshape(4 * n, 4 * n)\n",
    ") * -1"
   ]
  },
  {
   "cell_type": "code",
   "execution_count": 31,
   "metadata": {},
   "outputs": [],
   "source": [
    "expected = a_4nx4n @ b_4nx4n"
   ]
  },
  {
   "cell_type": "code",
   "execution_count": 32,
   "metadata": {},
   "outputs": [
    {
     "data": {
      "text/plain": [
       "array([[ -1120,  -1148,  -1176,  -1204,  -1232,  -1260,  -1288,  -1316],\n",
       "       [ -2912,  -3004,  -3096,  -3188,  -3280,  -3372,  -3464,  -3556],\n",
       "       [ -4704,  -4860,  -5016,  -5172,  -5328,  -5484,  -5640,  -5796],\n",
       "       [ -6496,  -6716,  -6936,  -7156,  -7376,  -7596,  -7816,  -8036],\n",
       "       [ -8288,  -8572,  -8856,  -9140,  -9424,  -9708,  -9992, -10276],\n",
       "       [-10080, -10428, -10776, -11124, -11472, -11820, -12168, -12516],\n",
       "       [-11872, -12284, -12696, -13108, -13520, -13932, -14344, -14756],\n",
       "       [-13664, -14140, -14616, -15092, -15568, -16044, -16520, -16996]])"
      ]
     },
     "execution_count": 32,
     "metadata": {},
     "output_type": "execute_result"
    }
   ],
   "source": [
    "expected"
   ]
  },
  {
   "cell_type": "code",
   "execution_count": 33,
   "metadata": {},
   "outputs": [],
   "source": [
    "# ear 4x4n_4nxk"
   ]
  },
  {
   "cell_type": "code",
   "execution_count": 34,
   "metadata": {},
   "outputs": [],
   "source": [
    "n = 2\n",
    "k = 1\n",
    "a_4nx4n = np.asarray(\n",
    "    np.arange(0, 4 * n * 4 * n).reshape(4 * n, 4 * n)\n",
    ")\n",
    "b_4nx4n = np.asarray(\n",
    "    np.arange(0, 4 * n * 4 * n).reshape(4 * n, 4 * n)\n",
    ") * -1"
   ]
  },
  {
   "cell_type": "code",
   "execution_count": 35,
   "metadata": {},
   "outputs": [],
   "source": [
    "a = a_4nx4n[:4, : 4*n]\n",
    "b = b_4nx4n[:4*n, :k]"
   ]
  },
  {
   "cell_type": "code",
   "execution_count": 36,
   "metadata": {},
   "outputs": [],
   "source": [
    "expected = a @ b"
   ]
  },
  {
   "cell_type": "code",
   "execution_count": 37,
   "metadata": {},
   "outputs": [
    {
     "data": {
      "text/plain": [
       "array([[-1120],\n",
       "       [-2912],\n",
       "       [-4704],\n",
       "       [-6496]])"
      ]
     },
     "execution_count": 37,
     "metadata": {},
     "output_type": "execute_result"
    }
   ],
   "source": [
    "expected"
   ]
  },
  {
   "cell_type": "code",
   "execution_count": 38,
   "metadata": {},
   "outputs": [],
   "source": [
    "# farm 4nx4n_4nxk"
   ]
  },
  {
   "cell_type": "code",
   "execution_count": 39,
   "metadata": {},
   "outputs": [],
   "source": [
    "n = 2\n",
    "k = 3\n",
    "a_4nx4n = np.asarray(\n",
    "    np.arange(0, 4 * n * 4 * n).reshape(4 * n, 4 * n)\n",
    ")\n",
    "b_4nx4n = np.asarray(\n",
    "    np.arange(0, 4 * n * 4 * n).reshape(4 * n, 4 * n)\n",
    ") * -1"
   ]
  },
  {
   "cell_type": "code",
   "execution_count": 40,
   "metadata": {},
   "outputs": [],
   "source": [
    "a = a_4nx4n[:, : 4*n]\n",
    "b = b_4nx4n[:4*n, :k]"
   ]
  },
  {
   "cell_type": "code",
   "execution_count": 41,
   "metadata": {},
   "outputs": [],
   "source": [
    "expected = a @ b"
   ]
  },
  {
   "cell_type": "code",
   "execution_count": 42,
   "metadata": {},
   "outputs": [
    {
     "data": {
      "text/plain": [
       "array([[ -1120,  -1148,  -1176],\n",
       "       [ -2912,  -3004,  -3096],\n",
       "       [ -4704,  -4860,  -5016],\n",
       "       [ -6496,  -6716,  -6936],\n",
       "       [ -8288,  -8572,  -8856],\n",
       "       [-10080, -10428, -10776],\n",
       "       [-11872, -12284, -12696],\n",
       "       [-13664, -14140, -14616]])"
      ]
     },
     "execution_count": 42,
     "metadata": {},
     "output_type": "execute_result"
    }
   ],
   "source": [
    "expected"
   ]
  },
  {
   "cell_type": "code",
   "execution_count": 43,
   "metadata": {},
   "outputs": [],
   "source": [
    "# ear 4xk_kx4n"
   ]
  },
  {
   "cell_type": "code",
   "execution_count": 44,
   "metadata": {},
   "outputs": [],
   "source": [
    "n = 2\n",
    "k = 2\n",
    "a_4nx4n = np.asarray(\n",
    "    np.arange(0, 4 * n * 4 * n).reshape(4 * n, 4 * n)\n",
    ")\n",
    "b_4nx4n = np.asarray(\n",
    "    np.arange(0, 4 * n * 4 * n).reshape(4 * n, 4 * n)\n",
    ") * -1"
   ]
  },
  {
   "cell_type": "code",
   "execution_count": 45,
   "metadata": {},
   "outputs": [],
   "source": [
    "a = a_4nx4n[:4, :k]\n",
    "b = b_4nx4n[:k, :4*n]"
   ]
  },
  {
   "cell_type": "code",
   "execution_count": 46,
   "metadata": {},
   "outputs": [
    {
     "data": {
      "text/plain": [
       "(array([[ 0,  1],\n",
       "        [ 8,  9],\n",
       "        [16, 17],\n",
       "        [24, 25]]),\n",
       " array([[  0,  -1,  -2,  -3,  -4,  -5,  -6,  -7],\n",
       "        [ -8,  -9, -10, -11, -12, -13, -14, -15]]))"
      ]
     },
     "execution_count": 46,
     "metadata": {},
     "output_type": "execute_result"
    }
   ],
   "source": [
    "a, b"
   ]
  },
  {
   "cell_type": "code",
   "execution_count": 47,
   "metadata": {},
   "outputs": [],
   "source": [
    "expected = a @ b"
   ]
  },
  {
   "cell_type": "code",
   "execution_count": 48,
   "metadata": {},
   "outputs": [
    {
     "data": {
      "text/plain": [
       "array([[  -8,   -9,  -10,  -11,  -12,  -13,  -14,  -15],\n",
       "       [ -72,  -89, -106, -123, -140, -157, -174, -191],\n",
       "       [-136, -169, -202, -235, -268, -301, -334, -367],\n",
       "       [-200, -249, -298, -347, -396, -445, -494, -543]])"
      ]
     },
     "execution_count": 48,
     "metadata": {},
     "output_type": "execute_result"
    }
   ],
   "source": [
    "expected"
   ]
  },
  {
   "cell_type": "code",
   "execution_count": 49,
   "metadata": {},
   "outputs": [],
   "source": [
    "# farm 4nxk_kx4n"
   ]
  },
  {
   "cell_type": "code",
   "execution_count": 50,
   "metadata": {},
   "outputs": [],
   "source": [
    "n = 2\n",
    "k = 1\n",
    "a_4nx4n = np.asarray(\n",
    "    np.arange(0, 4 * n * 4 * n).reshape(4 * n, 4 * n)\n",
    ")\n",
    "b_4nx4n = np.asarray(\n",
    "    np.arange(0, 4 * n * 4 * n).reshape(4 * n, 4 * n)\n",
    ") * -1"
   ]
  },
  {
   "cell_type": "code",
   "execution_count": 51,
   "metadata": {},
   "outputs": [],
   "source": [
    "a = a_4nx4n[:, :k]\n",
    "b = b_4nx4n[:k, :4*n]"
   ]
  },
  {
   "cell_type": "code",
   "execution_count": 52,
   "metadata": {},
   "outputs": [],
   "source": [
    "expected = a @ b"
   ]
  },
  {
   "cell_type": "code",
   "execution_count": 53,
   "metadata": {},
   "outputs": [
    {
     "data": {
      "text/plain": [
       "array([[   0,    0,    0,    0,    0,    0,    0,    0],\n",
       "       [   0,   -8,  -16,  -24,  -32,  -40,  -48,  -56],\n",
       "       [   0,  -16,  -32,  -48,  -64,  -80,  -96, -112],\n",
       "       [   0,  -24,  -48,  -72,  -96, -120, -144, -168],\n",
       "       [   0,  -32,  -64,  -96, -128, -160, -192, -224],\n",
       "       [   0,  -40,  -80, -120, -160, -200, -240, -280],\n",
       "       [   0,  -48,  -96, -144, -192, -240, -288, -336],\n",
       "       [   0,  -56, -112, -168, -224, -280, -336, -392]])"
      ]
     },
     "execution_count": 53,
     "metadata": {},
     "output_type": "execute_result"
    }
   ],
   "source": [
    "expected"
   ]
  },
  {
   "cell_type": "code",
   "execution_count": 54,
   "metadata": {},
   "outputs": [],
   "source": [
    "# farm_4nxk_kxk"
   ]
  },
  {
   "cell_type": "code",
   "execution_count": 55,
   "metadata": {},
   "outputs": [],
   "source": [
    "n = 2\n",
    "k = 3\n",
    "a_4nx4n = np.asarray(\n",
    "    np.arange(0, 4 * n * 4 * n).reshape(4 * n, 4 * n)\n",
    ") + 12\n",
    "b_4nx4n = (np.asarray(\n",
    "    np.arange(0, 4 * n * 4 * n).reshape(4 * n, 4 * n)\n",
    ") * -1) + -12"
   ]
  },
  {
   "cell_type": "code",
   "execution_count": 56,
   "metadata": {},
   "outputs": [],
   "source": [
    "a = a_4nx4n[:, :k]\n",
    "b = b_4nx4n[:k, :k]"
   ]
  },
  {
   "cell_type": "code",
   "execution_count": 57,
   "metadata": {},
   "outputs": [
    {
     "data": {
      "text/plain": [
       "(array([[12, 13, 14],\n",
       "        [20, 21, 22],\n",
       "        [28, 29, 30],\n",
       "        [36, 37, 38],\n",
       "        [44, 45, 46],\n",
       "        [52, 53, 54],\n",
       "        [60, 61, 62],\n",
       "        [68, 69, 70]]),\n",
       " array([[-12, -13, -14],\n",
       "        [-20, -21, -22],\n",
       "        [-28, -29, -30]]))"
      ]
     },
     "execution_count": 57,
     "metadata": {},
     "output_type": "execute_result"
    }
   ],
   "source": [
    "a,b"
   ]
  },
  {
   "cell_type": "code",
   "execution_count": 58,
   "metadata": {},
   "outputs": [],
   "source": [
    "expected = a @ b"
   ]
  },
  {
   "cell_type": "code",
   "execution_count": 59,
   "metadata": {},
   "outputs": [
    {
     "data": {
      "text/plain": [
       "array([[ -796,  -835,  -874],\n",
       "       [-1276, -1339, -1402],\n",
       "       [-1756, -1843, -1930],\n",
       "       [-2236, -2347, -2458],\n",
       "       [-2716, -2851, -2986],\n",
       "       [-3196, -3355, -3514],\n",
       "       [-3676, -3859, -4042],\n",
       "       [-4156, -4363, -4570]])"
      ]
     },
     "execution_count": 59,
     "metadata": {},
     "output_type": "execute_result"
    }
   ],
   "source": [
    "expected"
   ]
  },
  {
   "cell_type": "code",
   "execution_count": 60,
   "metadata": {},
   "outputs": [],
   "source": [
    "# ear_kx4_4x4"
   ]
  },
  {
   "cell_type": "code",
   "execution_count": 61,
   "metadata": {},
   "outputs": [],
   "source": [
    "n = 2\n",
    "k = 3\n",
    "a_4nx4n = np.asarray(\n",
    "    np.arange(0, 4 * n * 4 * n).reshape(4 * n, 4 * n)\n",
    ")\n",
    "b_4nx4n = np.asarray(\n",
    "    np.arange(0, 4 * n * 4 * n).reshape(4 * n, 4 * n)\n",
    ") * -1"
   ]
  },
  {
   "cell_type": "code",
   "execution_count": 62,
   "metadata": {},
   "outputs": [],
   "source": [
    "a = a_4nx4n[:k, :4]"
   ]
  },
  {
   "cell_type": "code",
   "execution_count": 63,
   "metadata": {},
   "outputs": [],
   "source": [
    "b = b_4nx4n[:4, :4]"
   ]
  },
  {
   "cell_type": "code",
   "execution_count": 64,
   "metadata": {},
   "outputs": [
    {
     "data": {
      "text/plain": [
       "array([[ 0,  1,  2,  3,  4,  5,  6,  7],\n",
       "       [ 8,  9, 10, 11, 12, 13, 14, 15],\n",
       "       [16, 17, 18, 19, 20, 21, 22, 23],\n",
       "       [24, 25, 26, 27, 28, 29, 30, 31],\n",
       "       [32, 33, 34, 35, 36, 37, 38, 39],\n",
       "       [40, 41, 42, 43, 44, 45, 46, 47],\n",
       "       [48, 49, 50, 51, 52, 53, 54, 55],\n",
       "       [56, 57, 58, 59, 60, 61, 62, 63]])"
      ]
     },
     "execution_count": 64,
     "metadata": {},
     "output_type": "execute_result"
    }
   ],
   "source": [
    "a_4nx4n"
   ]
  },
  {
   "cell_type": "code",
   "execution_count": 65,
   "metadata": {},
   "outputs": [
    {
     "data": {
      "text/plain": [
       "array([[  0,  -1,  -2,  -3,  -4,  -5,  -6,  -7],\n",
       "       [ -8,  -9, -10, -11, -12, -13, -14, -15],\n",
       "       [-16, -17, -18, -19, -20, -21, -22, -23],\n",
       "       [-24, -25, -26, -27, -28, -29, -30, -31],\n",
       "       [-32, -33, -34, -35, -36, -37, -38, -39],\n",
       "       [-40, -41, -42, -43, -44, -45, -46, -47],\n",
       "       [-48, -49, -50, -51, -52, -53, -54, -55],\n",
       "       [-56, -57, -58, -59, -60, -61, -62, -63]])"
      ]
     },
     "execution_count": 65,
     "metadata": {},
     "output_type": "execute_result"
    }
   ],
   "source": [
    "b_4nx4n"
   ]
  },
  {
   "cell_type": "code",
   "execution_count": 66,
   "metadata": {},
   "outputs": [
    {
     "data": {
      "text/plain": [
       "(array([[ 0,  1,  2,  3],\n",
       "        [ 8,  9, 10, 11],\n",
       "        [16, 17, 18, 19]]),\n",
       " array([[  0,  -1,  -2,  -3],\n",
       "        [ -8,  -9, -10, -11],\n",
       "        [-16, -17, -18, -19],\n",
       "        [-24, -25, -26, -27]]))"
      ]
     },
     "execution_count": 66,
     "metadata": {},
     "output_type": "execute_result"
    }
   ],
   "source": [
    "a, b"
   ]
  },
  {
   "cell_type": "code",
   "execution_count": 67,
   "metadata": {},
   "outputs": [
    {
     "data": {
      "text/plain": [
       "array([[ -112,  -118,  -124,  -130],\n",
       "       [ -496,  -534,  -572,  -610],\n",
       "       [ -880,  -950, -1020, -1090]])"
      ]
     },
     "execution_count": 67,
     "metadata": {},
     "output_type": "execute_result"
    }
   ],
   "source": [
    "a @ b"
   ]
  },
  {
   "cell_type": "code",
   "execution_count": 68,
   "metadata": {},
   "outputs": [],
   "source": [
    "# field kx4_4x4n"
   ]
  },
  {
   "cell_type": "code",
   "execution_count": 69,
   "metadata": {},
   "outputs": [],
   "source": [
    "n = 2\n",
    "k = 3\n",
    "a_4nx4n = np.asarray(\n",
    "    np.arange(0, 4 * n * 4 * n).reshape(4 * n, 4 * n)\n",
    ")\n",
    "b_4nx4n = np.asarray(\n",
    "    np.arange(0, 4 * n * 4 * n).reshape(4 * n, 4 * n)\n",
    ") * -1"
   ]
  },
  {
   "cell_type": "code",
   "execution_count": 70,
   "metadata": {},
   "outputs": [],
   "source": [
    "a = a_4nx4n[:k, :4]\n",
    "b = b_4nx4n[:4, :4 * n]"
   ]
  },
  {
   "cell_type": "code",
   "execution_count": 71,
   "metadata": {},
   "outputs": [
    {
     "data": {
      "text/plain": [
       "array([[  0,  -1,  -2,  -3,  -4,  -5,  -6,  -7],\n",
       "       [ -8,  -9, -10, -11, -12, -13, -14, -15],\n",
       "       [-16, -17, -18, -19, -20, -21, -22, -23],\n",
       "       [-24, -25, -26, -27, -28, -29, -30, -31]])"
      ]
     },
     "execution_count": 71,
     "metadata": {},
     "output_type": "execute_result"
    }
   ],
   "source": [
    "b"
   ]
  },
  {
   "cell_type": "code",
   "execution_count": 72,
   "metadata": {},
   "outputs": [
    {
     "data": {
      "text/plain": [
       "array([[ -112,  -118,  -124,  -130,  -136,  -142,  -148,  -154],\n",
       "       [ -496,  -534,  -572,  -610,  -648,  -686,  -724,  -762],\n",
       "       [ -880,  -950, -1020, -1090, -1160, -1230, -1300, -1370]])"
      ]
     },
     "execution_count": 72,
     "metadata": {},
     "output_type": "execute_result"
    }
   ],
   "source": [
    "a @ b"
   ]
  },
  {
   "cell_type": "code",
   "execution_count": 73,
   "metadata": {},
   "outputs": [],
   "source": [
    "# farm kx4n_4nx4n"
   ]
  },
  {
   "cell_type": "code",
   "execution_count": 74,
   "metadata": {},
   "outputs": [],
   "source": [
    "n = 2\n",
    "k = 3\n",
    "a_4nx4n = np.asarray(\n",
    "    np.arange(0, 4 * n * 4 * n).reshape(4 * n, 4 * n)\n",
    ")\n",
    "b_4nx4n = np.asarray(\n",
    "    np.arange(0, 4 * n * 4 * n).reshape(4 * n, 4 * n)\n",
    ") * -1"
   ]
  },
  {
   "cell_type": "code",
   "execution_count": 75,
   "metadata": {},
   "outputs": [],
   "source": [
    "a = a_4nx4n[:k, :4 * n]\n",
    "b = b_4nx4n[:4 * n, :4 * n]"
   ]
  },
  {
   "cell_type": "code",
   "execution_count": 76,
   "metadata": {},
   "outputs": [
    {
     "data": {
      "text/plain": [
       "array([[ 0,  1,  2,  3,  4,  5,  6,  7],\n",
       "       [ 8,  9, 10, 11, 12, 13, 14, 15],\n",
       "       [16, 17, 18, 19, 20, 21, 22, 23]])"
      ]
     },
     "execution_count": 76,
     "metadata": {},
     "output_type": "execute_result"
    }
   ],
   "source": [
    "a"
   ]
  },
  {
   "cell_type": "code",
   "execution_count": 77,
   "metadata": {},
   "outputs": [
    {
     "data": {
      "text/plain": [
       "array([[  0,  -1,  -2,  -3,  -4,  -5,  -6,  -7],\n",
       "       [ -8,  -9, -10, -11, -12, -13, -14, -15],\n",
       "       [-16, -17, -18, -19, -20, -21, -22, -23],\n",
       "       [-24, -25, -26, -27, -28, -29, -30, -31],\n",
       "       [-32, -33, -34, -35, -36, -37, -38, -39],\n",
       "       [-40, -41, -42, -43, -44, -45, -46, -47],\n",
       "       [-48, -49, -50, -51, -52, -53, -54, -55],\n",
       "       [-56, -57, -58, -59, -60, -61, -62, -63]])"
      ]
     },
     "execution_count": 77,
     "metadata": {},
     "output_type": "execute_result"
    }
   ],
   "source": [
    "b"
   ]
  },
  {
   "cell_type": "code",
   "execution_count": 78,
   "metadata": {},
   "outputs": [
    {
     "data": {
      "text/plain": [
       "array([[-1120, -1148, -1176, -1204, -1232, -1260, -1288, -1316],\n",
       "       [-2912, -3004, -3096, -3188, -3280, -3372, -3464, -3556],\n",
       "       [-4704, -4860, -5016, -5172, -5328, -5484, -5640, -5796]])"
      ]
     },
     "execution_count": 78,
     "metadata": {},
     "output_type": "execute_result"
    }
   ],
   "source": [
    "a @ b"
   ]
  },
  {
   "cell_type": "code",
   "execution_count": 79,
   "metadata": {},
   "outputs": [],
   "source": [
    "# farm kx4n_4nxk"
   ]
  },
  {
   "cell_type": "code",
   "execution_count": 80,
   "metadata": {},
   "outputs": [],
   "source": [
    "n = 2\n",
    "k = 1\n",
    "a_4nx4n = np.asarray(\n",
    "    np.arange(0, 4 * n * 4 * n).reshape(4 * n, 4 * n)\n",
    ")\n",
    "b_4nx4n = np.asarray(\n",
    "    np.arange(0, 4 * n * 4 * n).reshape(4 * n, 4 * n)\n",
    ") * -1\n",
    "a = a_4nx4n[:k, :4 * n]\n",
    "b = b_4nx4n[:4 * n, :k]"
   ]
  },
  {
   "cell_type": "code",
   "execution_count": 81,
   "metadata": {},
   "outputs": [
    {
     "data": {
      "text/plain": [
       "array([[-1120]])"
      ]
     },
     "execution_count": 81,
     "metadata": {},
     "output_type": "execute_result"
    }
   ],
   "source": [
    "a @ b"
   ]
  },
  {
   "cell_type": "code",
   "execution_count": 82,
   "metadata": {},
   "outputs": [],
   "source": [
    "# farm kxk_kx4n"
   ]
  },
  {
   "cell_type": "code",
   "execution_count": 83,
   "metadata": {},
   "outputs": [],
   "source": [
    "n = 2\n",
    "k = 3\n",
    "a_4nx4n = np.asarray(\n",
    "    np.arange(0, 4 * n * 4 * n).reshape(4 * n, 4 * n)\n",
    ") + 12\n",
    "b_4nx4n = (np.asarray(\n",
    "    np.arange(0, 4 * n * 4 * n).reshape(4 * n, 4 * n)\n",
    ") + 12) * -1\n",
    "a = a_4nx4n[:k, :k]\n",
    "b = b_4nx4n[:k, :4 * n]"
   ]
  },
  {
   "cell_type": "code",
   "execution_count": 84,
   "metadata": {},
   "outputs": [
    {
     "data": {
      "text/plain": [
       "array([[ -796,  -835,  -874,  -913,  -952,  -991, -1030, -1069],\n",
       "       [-1276, -1339, -1402, -1465, -1528, -1591, -1654, -1717],\n",
       "       [-1756, -1843, -1930, -2017, -2104, -2191, -2278, -2365]])"
      ]
     },
     "execution_count": 84,
     "metadata": {},
     "output_type": "execute_result"
    }
   ],
   "source": [
    "a @ b"
   ]
  },
  {
   "cell_type": "code",
   "execution_count": 85,
   "metadata": {},
   "outputs": [],
   "source": [
    "# farm kxk_kxk"
   ]
  },
  {
   "cell_type": "code",
   "execution_count": 86,
   "metadata": {},
   "outputs": [],
   "source": [
    "n = 2\n",
    "k = 1\n",
    "a_4nx4n = np.asarray(\n",
    "    np.arange(0, 4 * n * 4 * n).reshape(4 * n, 4 * n)\n",
    ") + 12\n",
    "b_4nx4n = (np.asarray(\n",
    "    np.arange(0, 4 * n * 4 * n).reshape(4 * n, 4 * n)\n",
    ") + 12) * -1\n",
    "a = a_4nx4n[:k, :k]\n",
    "b = b_4nx4n[:k, :k]"
   ]
  },
  {
   "cell_type": "code",
   "execution_count": 87,
   "metadata": {},
   "outputs": [
    {
     "data": {
      "text/plain": [
       "array([[-144]])"
      ]
     },
     "execution_count": 87,
     "metadata": {},
     "output_type": "execute_result"
    }
   ],
   "source": [
    "a @ b"
   ]
  },
  {
   "cell_type": "code",
   "execution_count": 88,
   "metadata": {},
   "outputs": [],
   "source": [
    "# ranch 4nx4n_4nx4nk\n",
    "# that is, 4n x 4n matrix multiplied by 4n x (4n + k) matrix"
   ]
  },
  {
   "cell_type": "code",
   "execution_count": 89,
   "metadata": {},
   "outputs": [],
   "source": [
    "n = 2\n",
    "k = 3\n",
    "a_4nkx4nk = np.asarray(\n",
    "    np.arange(0, (4 * n + k) * (4 * n + k)).reshape(4 * n + k, 4 * n + k)\n",
    ") * 0.1\n",
    "b_4nkx4nk = a_4nkx4nk * -1"
   ]
  },
  {
   "cell_type": "code",
   "execution_count": 90,
   "metadata": {},
   "outputs": [],
   "source": [
    "a = a_4nkx4nk[:4 * n, :4 * n]\n",
    "a_prime = b_4nkx4nk[:4 * n, :4 * n]\n",
    "b_prime = b_4nkx4nk[:4 * n, 4 * n:]"
   ]
  },
  {
   "cell_type": "code",
   "execution_count": 91,
   "metadata": {},
   "outputs": [
    {
     "data": {
      "text/plain": [
       "array([[ -15.4 ,  -15.68,  -15.96,  -16.24,  -16.52,  -16.8 ,  -17.08,\n",
       "         -17.36,  -17.64,  -17.92,  -18.2 ],\n",
       "       [ -49.28,  -50.44,  -51.6 ,  -52.76,  -53.92,  -55.08,  -56.24,\n",
       "         -57.4 ,  -58.56,  -59.72,  -60.88],\n",
       "       [ -83.16,  -85.2 ,  -87.24,  -89.28,  -91.32,  -93.36,  -95.4 ,\n",
       "         -97.44,  -99.48, -101.52, -103.56],\n",
       "       [-117.04, -119.96, -122.88, -125.8 , -128.72, -131.64, -134.56,\n",
       "        -137.48, -140.4 , -143.32, -146.24],\n",
       "       [-150.92, -154.72, -158.52, -162.32, -166.12, -169.92, -173.72,\n",
       "        -177.52, -181.32, -185.12, -188.92],\n",
       "       [-184.8 , -189.48, -194.16, -198.84, -203.52, -208.2 , -212.88,\n",
       "        -217.56, -222.24, -226.92, -231.6 ],\n",
       "       [-218.68, -224.24, -229.8 , -235.36, -240.92, -246.48, -252.04,\n",
       "        -257.6 , -263.16, -268.72, -274.28],\n",
       "       [-252.56, -259.  , -265.44, -271.88, -278.32, -284.76, -291.2 ,\n",
       "        -297.64, -304.08, -310.52, -316.96]])"
      ]
     },
     "execution_count": 91,
     "metadata": {},
     "output_type": "execute_result"
    }
   ],
   "source": [
    "a @ np.concatenate((a_prime, b_prime), axis=1)"
   ]
  },
  {
   "cell_type": "code",
   "execution_count": 92,
   "metadata": {},
   "outputs": [],
   "source": [
    "# ranch 4nxk_kx4nk\n",
    "# that is, 4n x k matrix multiplied by k x (4n + k) matrix"
   ]
  },
  {
   "cell_type": "code",
   "execution_count": 93,
   "metadata": {},
   "outputs": [],
   "source": [
    "n = 2\n",
    "k = 1\n",
    "a_4nkx4nk = np.asarray(\n",
    "    np.arange(0, (4 * n + k) * (4 * n + k)).reshape(4 * n + k, 4 * n + k)\n",
    ") * 0.1\n",
    "b_4nkx4nk = a_4nkx4nk * -1"
   ]
  },
  {
   "cell_type": "code",
   "execution_count": 94,
   "metadata": {},
   "outputs": [],
   "source": [
    "b = a_4nkx4nk[:4 * n, 4 * n:4 * n + k]\n",
    "c_prime = b_4nkx4nk[4 * n:4 * n + k, :4 * n]\n",
    "d_prime = b_4nkx4nk[4 * n:4 * n + k, 4 * n:]"
   ]
  },
  {
   "cell_type": "code",
   "execution_count": 95,
   "metadata": {},
   "outputs": [
    {
     "data": {
      "text/plain": [
       "array([[ -5.76,  -5.84,  -5.92,  -6.  ,  -6.08,  -6.16,  -6.24,  -6.32,\n",
       "         -6.4 ],\n",
       "       [-12.24, -12.41, -12.58, -12.75, -12.92, -13.09, -13.26, -13.43,\n",
       "        -13.6 ],\n",
       "       [-18.72, -18.98, -19.24, -19.5 , -19.76, -20.02, -20.28, -20.54,\n",
       "        -20.8 ],\n",
       "       [-25.2 , -25.55, -25.9 , -26.25, -26.6 , -26.95, -27.3 , -27.65,\n",
       "        -28.  ],\n",
       "       [-31.68, -32.12, -32.56, -33.  , -33.44, -33.88, -34.32, -34.76,\n",
       "        -35.2 ],\n",
       "       [-38.16, -38.69, -39.22, -39.75, -40.28, -40.81, -41.34, -41.87,\n",
       "        -42.4 ],\n",
       "       [-44.64, -45.26, -45.88, -46.5 , -47.12, -47.74, -48.36, -48.98,\n",
       "        -49.6 ],\n",
       "       [-51.12, -51.83, -52.54, -53.25, -53.96, -54.67, -55.38, -56.09,\n",
       "        -56.8 ]])"
      ]
     },
     "execution_count": 95,
     "metadata": {},
     "output_type": "execute_result"
    }
   ],
   "source": [
    "b @ np.concatenate((c_prime, d_prime), axis=1)"
   ]
  },
  {
   "cell_type": "code",
   "execution_count": 96,
   "metadata": {},
   "outputs": [],
   "source": [
    "# ranch kx4n_4nx4nk\n",
    "# that is, k x 4n matrix multiplied by 4n x (4n + k) matrix"
   ]
  },
  {
   "cell_type": "code",
   "execution_count": 97,
   "metadata": {},
   "outputs": [],
   "source": [
    "n = 2\n",
    "k = 3\n",
    "a_4nkx4nk = np.asarray(\n",
    "    np.arange(0, (4 * n + k) * (4 * n + k)).reshape(4 * n + k, 4 * n + k)\n",
    ") * 0.1\n",
    "b_4nkx4nk = a_4nkx4nk * -1"
   ]
  },
  {
   "cell_type": "code",
   "execution_count": 98,
   "metadata": {},
   "outputs": [],
   "source": [
    "c = a_4nkx4nk[4 * n:4 * n + k, :4 * n]\n",
    "a_prime = b_4nkx4nk[:4 * n, :4 * n]\n",
    "b_prime = b_4nkx4nk[:4 * n, 4 * n:]"
   ]
  },
  {
   "cell_type": "code",
   "execution_count": 99,
   "metadata": {},
   "outputs": [
    {
     "data": {
      "text/plain": [
       "array([[-286.44, -293.76, -301.08, -308.4 , -315.72, -323.04, -330.36,\n",
       "        -337.68, -345.  , -352.32, -359.64],\n",
       "       [-320.32, -328.52, -336.72, -344.92, -353.12, -361.32, -369.52,\n",
       "        -377.72, -385.92, -394.12, -402.32],\n",
       "       [-354.2 , -363.28, -372.36, -381.44, -390.52, -399.6 , -408.68,\n",
       "        -417.76, -426.84, -435.92, -445.  ]])"
      ]
     },
     "execution_count": 99,
     "metadata": {},
     "output_type": "execute_result"
    }
   ],
   "source": [
    "c @ np.concatenate((a_prime, b_prime), axis=1)"
   ]
  },
  {
   "cell_type": "code",
   "execution_count": 100,
   "metadata": {},
   "outputs": [],
   "source": [
    "# ranch kxk_kx4nk\n",
    "# that is, k x k matrix multiplied by k x (4n + k) matrix"
   ]
  },
  {
   "cell_type": "code",
   "execution_count": 101,
   "metadata": {},
   "outputs": [],
   "source": [
    "n = 2\n",
    "k = 1\n",
    "a_4nkx4nk = np.asarray(\n",
    "    np.arange(0, (4 * n + k) * (4 * n + k)).reshape(4 * n + k, 4 * n + k)\n",
    ") * 0.1\n",
    "b_4nkx4nk = a_4nkx4nk * -1"
   ]
  },
  {
   "cell_type": "code",
   "execution_count": 102,
   "metadata": {},
   "outputs": [],
   "source": [
    "d = a_4nkx4nk[4 * n:4 * n + k, 4 * n:4 * n + k]\n",
    "c_prime = b_4nkx4nk[4 * n:4 * n + k, :4 * n]\n",
    "d_prime = b_4nkx4nk[4 * n:4 * n + k, 4 * n:]"
   ]
  },
  {
   "cell_type": "code",
   "execution_count": 103,
   "metadata": {},
   "outputs": [
    {
     "data": {
      "text/plain": [
       "array([[-57.6, -58.4, -59.2, -60. , -60.8, -61.6, -62.4, -63.2, -64. ]])"
      ]
     },
     "execution_count": 103,
     "metadata": {},
     "output_type": "execute_result"
    }
   ],
   "source": [
    "d @ np.concatenate((c_prime, d_prime), axis=1)"
   ]
  },
  {
   "cell_type": "code",
   "execution_count": 104,
   "metadata": {},
   "outputs": [],
   "source": [
    "# outer multiplication test"
   ]
  },
  {
   "cell_type": "code",
   "execution_count": 105,
   "metadata": {},
   "outputs": [],
   "source": [
    "rows = 4\n",
    "cols = 4\n",
    "a = np.arange(0, rows * cols).reshape(rows, cols) + 1\n",
    "b = a * -1"
   ]
  },
  {
   "cell_type": "code",
   "execution_count": 106,
   "metadata": {},
   "outputs": [
    {
     "data": {
      "text/plain": [
       "(array([[ 1,  2,  3,  4],\n",
       "        [ 5,  6,  7,  8],\n",
       "        [ 9, 10, 11, 12],\n",
       "        [13, 14, 15, 16]]),\n",
       " array([[ -1,  -2,  -3,  -4],\n",
       "        [ -5,  -6,  -7,  -8],\n",
       "        [ -9, -10, -11, -12],\n",
       "        [-13, -14, -15, -16]]))"
      ]
     },
     "execution_count": 106,
     "metadata": {},
     "output_type": "execute_result"
    }
   ],
   "source": [
    "a, b"
   ]
  },
  {
   "cell_type": "code",
   "execution_count": 107,
   "metadata": {},
   "outputs": [
    {
     "data": {
      "text/plain": [
       "array([[ -90, -100, -110, -120],\n",
       "       [-202, -228, -254, -280],\n",
       "       [-314, -356, -398, -440],\n",
       "       [-426, -484, -542, -600]])"
      ]
     },
     "execution_count": 107,
     "metadata": {},
     "output_type": "execute_result"
    }
   ],
   "source": [
    "a @ b"
   ]
  },
  {
   "cell_type": "code",
   "execution_count": 108,
   "metadata": {},
   "outputs": [],
   "source": [
    "combined = np.zeros((rows, rows))\n",
    "for i in range(rows):\n",
    "    combined += a[:, i].reshape(-1, 1) @ b[i, :].reshape(1, -1)"
   ]
  },
  {
   "cell_type": "code",
   "execution_count": 109,
   "metadata": {},
   "outputs": [
    {
     "data": {
      "text/plain": [
       "array([[ -90., -100., -110., -120.],\n",
       "       [-202., -228., -254., -280.],\n",
       "       [-314., -356., -398., -440.],\n",
       "       [-426., -484., -542., -600.]])"
      ]
     },
     "execution_count": 109,
     "metadata": {},
     "output_type": "execute_result"
    }
   ],
   "source": [
    "combined"
   ]
  },
  {
   "cell_type": "code",
   "execution_count": 110,
   "metadata": {},
   "outputs": [],
   "source": [
    "# farm 8nx8n_8nx4"
   ]
  },
  {
   "cell_type": "code",
   "execution_count": 111,
   "metadata": {},
   "outputs": [],
   "source": [
    "n = 2\n",
    "k = 4\n",
    "m = 8 * n + k\n",
    "a = np.arange(0, m * m).reshape(m, m) / 10\n",
    "b = a * -1"
   ]
  },
  {
   "cell_type": "code",
   "execution_count": 112,
   "metadata": {},
   "outputs": [],
   "source": [
    "a_8nx8n = a[:8 * n, :8 * n]\n",
    "b_8nx4 = b[:8 * n, :4]"
   ]
  },
  {
   "cell_type": "code",
   "execution_count": 113,
   "metadata": {},
   "outputs": [
    {
     "data": {
      "text/plain": [
       "array([[ -248. ,  -249.2,  -250.4,  -251.6],\n",
       "       [ -728. ,  -732.4,  -736.8,  -741.2],\n",
       "       [-1208. , -1215.6, -1223.2, -1230.8],\n",
       "       [-1688. , -1698.8, -1709.6, -1720.4],\n",
       "       [-2168. , -2182. , -2196. , -2210. ],\n",
       "       [-2648. , -2665.2, -2682.4, -2699.6],\n",
       "       [-3128. , -3148.4, -3168.8, -3189.2],\n",
       "       [-3608. , -3631.6, -3655.2, -3678.8],\n",
       "       [-4088. , -4114.8, -4141.6, -4168.4],\n",
       "       [-4568. , -4598. , -4628. , -4658. ],\n",
       "       [-5048. , -5081.2, -5114.4, -5147.6],\n",
       "       [-5528. , -5564.4, -5600.8, -5637.2],\n",
       "       [-6008. , -6047.6, -6087.2, -6126.8],\n",
       "       [-6488. , -6530.8, -6573.6, -6616.4],\n",
       "       [-6968. , -7014. , -7060. , -7106. ],\n",
       "       [-7448. , -7497.2, -7546.4, -7595.6]])"
      ]
     },
     "execution_count": 113,
     "metadata": {},
     "output_type": "execute_result"
    }
   ],
   "source": [
    "a_8nx8n @ b_8nx4"
   ]
  },
  {
   "cell_type": "code",
   "execution_count": 114,
   "metadata": {},
   "outputs": [],
   "source": [
    "# simulated 8x8_8x8 kernel"
   ]
  },
  {
   "cell_type": "code",
   "execution_count": 115,
   "metadata": {},
   "outputs": [],
   "source": [
    "n = 2\n",
    "k = 4\n",
    "m = 8 * n + k\n",
    "a = np.arange(0, m * m).reshape(m, m) / 10\n",
    "b = a * -1"
   ]
  },
  {
   "cell_type": "code",
   "execution_count": 116,
   "metadata": {},
   "outputs": [],
   "source": [
    "a_8x8_8x8 = a[:8, :8]\n",
    "b_8x8_8x8 = b[:8, :8]"
   ]
  },
  {
   "cell_type": "code",
   "execution_count": 117,
   "metadata": {},
   "outputs": [
    {
     "data": {
      "text/plain": [
       "array([[ -28.  ,  -28.28,  -28.56,  -28.84,  -29.12,  -29.4 ,  -29.68,\n",
       "         -29.96],\n",
       "       [-140.  , -141.88, -143.76, -145.64, -147.52, -149.4 , -151.28,\n",
       "        -153.16],\n",
       "       [-252.  , -255.48, -258.96, -262.44, -265.92, -269.4 , -272.88,\n",
       "        -276.36],\n",
       "       [-364.  , -369.08, -374.16, -379.24, -384.32, -389.4 , -394.48,\n",
       "        -399.56],\n",
       "       [-476.  , -482.68, -489.36, -496.04, -502.72, -509.4 , -516.08,\n",
       "        -522.76],\n",
       "       [-588.  , -596.28, -604.56, -612.84, -621.12, -629.4 , -637.68,\n",
       "        -645.96],\n",
       "       [-700.  , -709.88, -719.76, -729.64, -739.52, -749.4 , -759.28,\n",
       "        -769.16],\n",
       "       [-812.  , -823.48, -834.96, -846.44, -857.92, -869.4 , -880.88,\n",
       "        -892.36]])"
      ]
     },
     "execution_count": 117,
     "metadata": {},
     "output_type": "execute_result"
    }
   ],
   "source": [
    "a_8x8_8x8 @ b_8x8_8x8"
   ]
  },
  {
   "cell_type": "code",
   "execution_count": 118,
   "metadata": {},
   "outputs": [],
   "source": [
    "# field 8x8n_8nx8n"
   ]
  },
  {
   "cell_type": "code",
   "execution_count": 119,
   "metadata": {},
   "outputs": [],
   "source": [
    "n = 2\n",
    "k = 4\n",
    "m = 8 * n + k\n",
    "a = np.arange(0, m * m).reshape(m, m) / 10\n",
    "b = a * -1"
   ]
  },
  {
   "cell_type": "code",
   "execution_count": 120,
   "metadata": {},
   "outputs": [],
   "source": [
    "a_8x8n = a[:8, :8 * n]\n",
    "b_8nx8n = b[:8 * n, :8 * n]"
   ]
  },
  {
   "cell_type": "code",
   "execution_count": 121,
   "metadata": {},
   "outputs": [
    {
     "data": {
      "text/plain": [
       "array([[ -248. ,  -249.2,  -250.4,  -251.6,  -252.8,  -254. ,  -255.2,\n",
       "         -256.4,  -257.6,  -258.8,  -260. ,  -261.2,  -262.4,  -263.6,\n",
       "         -264.8,  -266. ],\n",
       "       [ -728. ,  -732.4,  -736.8,  -741.2,  -745.6,  -750. ,  -754.4,\n",
       "         -758.8,  -763.2,  -767.6,  -772. ,  -776.4,  -780.8,  -785.2,\n",
       "         -789.6,  -794. ],\n",
       "       [-1208. , -1215.6, -1223.2, -1230.8, -1238.4, -1246. , -1253.6,\n",
       "        -1261.2, -1268.8, -1276.4, -1284. , -1291.6, -1299.2, -1306.8,\n",
       "        -1314.4, -1322. ],\n",
       "       [-1688. , -1698.8, -1709.6, -1720.4, -1731.2, -1742. , -1752.8,\n",
       "        -1763.6, -1774.4, -1785.2, -1796. , -1806.8, -1817.6, -1828.4,\n",
       "        -1839.2, -1850. ],\n",
       "       [-2168. , -2182. , -2196. , -2210. , -2224. , -2238. , -2252. ,\n",
       "        -2266. , -2280. , -2294. , -2308. , -2322. , -2336. , -2350. ,\n",
       "        -2364. , -2378. ],\n",
       "       [-2648. , -2665.2, -2682.4, -2699.6, -2716.8, -2734. , -2751.2,\n",
       "        -2768.4, -2785.6, -2802.8, -2820. , -2837.2, -2854.4, -2871.6,\n",
       "        -2888.8, -2906. ],\n",
       "       [-3128. , -3148.4, -3168.8, -3189.2, -3209.6, -3230. , -3250.4,\n",
       "        -3270.8, -3291.2, -3311.6, -3332. , -3352.4, -3372.8, -3393.2,\n",
       "        -3413.6, -3434. ],\n",
       "       [-3608. , -3631.6, -3655.2, -3678.8, -3702.4, -3726. , -3749.6,\n",
       "        -3773.2, -3796.8, -3820.4, -3844. , -3867.6, -3891.2, -3914.8,\n",
       "        -3938.4, -3962. ]])"
      ]
     },
     "execution_count": 121,
     "metadata": {},
     "output_type": "execute_result"
    }
   ],
   "source": [
    "a_8x8n @ b_8nx8n"
   ]
  },
  {
   "cell_type": "code",
   "execution_count": 122,
   "metadata": {},
   "outputs": [],
   "source": [
    "# farm 8nx8n_8nx8n"
   ]
  },
  {
   "cell_type": "code",
   "execution_count": 123,
   "metadata": {},
   "outputs": [],
   "source": [
    "n = 2\n",
    "k = 4\n",
    "m = 8 * n + k\n",
    "a = np.arange(0, m * m).reshape(m, m) / 10\n",
    "b = a * -1"
   ]
  },
  {
   "cell_type": "code",
   "execution_count": 124,
   "metadata": {},
   "outputs": [],
   "source": [
    "a_8nx8n = a[:8 * n, :8 * n]\n",
    "b_8nx8n = b[:8 * n, :8 * n]"
   ]
  },
  {
   "cell_type": "code",
   "execution_count": 125,
   "metadata": {},
   "outputs": [
    {
     "data": {
      "text/plain": [
       "array([[ -248. ,  -249.2,  -250.4,  -251.6,  -252.8,  -254. ,  -255.2,\n",
       "         -256.4,  -257.6,  -258.8,  -260. ,  -261.2,  -262.4,  -263.6,\n",
       "         -264.8,  -266. ],\n",
       "       [ -728. ,  -732.4,  -736.8,  -741.2,  -745.6,  -750. ,  -754.4,\n",
       "         -758.8,  -763.2,  -767.6,  -772. ,  -776.4,  -780.8,  -785.2,\n",
       "         -789.6,  -794. ],\n",
       "       [-1208. , -1215.6, -1223.2, -1230.8, -1238.4, -1246. , -1253.6,\n",
       "        -1261.2, -1268.8, -1276.4, -1284. , -1291.6, -1299.2, -1306.8,\n",
       "        -1314.4, -1322. ],\n",
       "       [-1688. , -1698.8, -1709.6, -1720.4, -1731.2, -1742. , -1752.8,\n",
       "        -1763.6, -1774.4, -1785.2, -1796. , -1806.8, -1817.6, -1828.4,\n",
       "        -1839.2, -1850. ],\n",
       "       [-2168. , -2182. , -2196. , -2210. , -2224. , -2238. , -2252. ,\n",
       "        -2266. , -2280. , -2294. , -2308. , -2322. , -2336. , -2350. ,\n",
       "        -2364. , -2378. ],\n",
       "       [-2648. , -2665.2, -2682.4, -2699.6, -2716.8, -2734. , -2751.2,\n",
       "        -2768.4, -2785.6, -2802.8, -2820. , -2837.2, -2854.4, -2871.6,\n",
       "        -2888.8, -2906. ],\n",
       "       [-3128. , -3148.4, -3168.8, -3189.2, -3209.6, -3230. , -3250.4,\n",
       "        -3270.8, -3291.2, -3311.6, -3332. , -3352.4, -3372.8, -3393.2,\n",
       "        -3413.6, -3434. ],\n",
       "       [-3608. , -3631.6, -3655.2, -3678.8, -3702.4, -3726. , -3749.6,\n",
       "        -3773.2, -3796.8, -3820.4, -3844. , -3867.6, -3891.2, -3914.8,\n",
       "        -3938.4, -3962. ],\n",
       "       [-4088. , -4114.8, -4141.6, -4168.4, -4195.2, -4222. , -4248.8,\n",
       "        -4275.6, -4302.4, -4329.2, -4356. , -4382.8, -4409.6, -4436.4,\n",
       "        -4463.2, -4490. ],\n",
       "       [-4568. , -4598. , -4628. , -4658. , -4688. , -4718. , -4748. ,\n",
       "        -4778. , -4808. , -4838. , -4868. , -4898. , -4928. , -4958. ,\n",
       "        -4988. , -5018. ],\n",
       "       [-5048. , -5081.2, -5114.4, -5147.6, -5180.8, -5214. , -5247.2,\n",
       "        -5280.4, -5313.6, -5346.8, -5380. , -5413.2, -5446.4, -5479.6,\n",
       "        -5512.8, -5546. ],\n",
       "       [-5528. , -5564.4, -5600.8, -5637.2, -5673.6, -5710. , -5746.4,\n",
       "        -5782.8, -5819.2, -5855.6, -5892. , -5928.4, -5964.8, -6001.2,\n",
       "        -6037.6, -6074. ],\n",
       "       [-6008. , -6047.6, -6087.2, -6126.8, -6166.4, -6206. , -6245.6,\n",
       "        -6285.2, -6324.8, -6364.4, -6404. , -6443.6, -6483.2, -6522.8,\n",
       "        -6562.4, -6602. ],\n",
       "       [-6488. , -6530.8, -6573.6, -6616.4, -6659.2, -6702. , -6744.8,\n",
       "        -6787.6, -6830.4, -6873.2, -6916. , -6958.8, -7001.6, -7044.4,\n",
       "        -7087.2, -7130. ],\n",
       "       [-6968. , -7014. , -7060. , -7106. , -7152. , -7198. , -7244. ,\n",
       "        -7290. , -7336. , -7382. , -7428. , -7474. , -7520. , -7566. ,\n",
       "        -7612. , -7658. ],\n",
       "       [-7448. , -7497.2, -7546.4, -7595.6, -7644.8, -7694. , -7743.2,\n",
       "        -7792.4, -7841.6, -7890.8, -7940. , -7989.2, -8038.4, -8087.6,\n",
       "        -8136.8, -8186. ]])"
      ]
     },
     "execution_count": 125,
     "metadata": {},
     "output_type": "execute_result"
    }
   ],
   "source": [
    "a_8nx8n @ b_8nx8n"
   ]
  },
  {
   "cell_type": "code",
   "execution_count": 126,
   "metadata": {},
   "outputs": [],
   "source": [
    "# ranch 8nx8n_8nx8n4"
   ]
  },
  {
   "cell_type": "code",
   "execution_count": 127,
   "metadata": {},
   "outputs": [],
   "source": [
    "n = 2\n",
    "k = 4\n",
    "m = 8 * n + k\n",
    "a = np.arange(0, m * m).reshape(m, m) / 10\n",
    "b = a * -1"
   ]
  },
  {
   "cell_type": "code",
   "execution_count": 130,
   "metadata": {},
   "outputs": [],
   "source": [
    "a_8nx8n = a[:8 * n, :8 * n]\n",
    "b_8nx8n4 = b[:8 * n, :8 * n + k]"
   ]
  },
  {
   "cell_type": "code",
   "execution_count": 131,
   "metadata": {},
   "outputs": [
    {
     "data": {
      "text/plain": [
       "array([[ -248. ,  -249.2,  -250.4,  -251.6,  -252.8,  -254. ,  -255.2,\n",
       "         -256.4,  -257.6,  -258.8,  -260. ,  -261.2,  -262.4,  -263.6,\n",
       "         -264.8,  -266. ,  -267.2,  -268.4,  -269.6,  -270.8],\n",
       "       [ -728. ,  -732.4,  -736.8,  -741.2,  -745.6,  -750. ,  -754.4,\n",
       "         -758.8,  -763.2,  -767.6,  -772. ,  -776.4,  -780.8,  -785.2,\n",
       "         -789.6,  -794. ,  -798.4,  -802.8,  -807.2,  -811.6],\n",
       "       [-1208. , -1215.6, -1223.2, -1230.8, -1238.4, -1246. , -1253.6,\n",
       "        -1261.2, -1268.8, -1276.4, -1284. , -1291.6, -1299.2, -1306.8,\n",
       "        -1314.4, -1322. , -1329.6, -1337.2, -1344.8, -1352.4],\n",
       "       [-1688. , -1698.8, -1709.6, -1720.4, -1731.2, -1742. , -1752.8,\n",
       "        -1763.6, -1774.4, -1785.2, -1796. , -1806.8, -1817.6, -1828.4,\n",
       "        -1839.2, -1850. , -1860.8, -1871.6, -1882.4, -1893.2],\n",
       "       [-2168. , -2182. , -2196. , -2210. , -2224. , -2238. , -2252. ,\n",
       "        -2266. , -2280. , -2294. , -2308. , -2322. , -2336. , -2350. ,\n",
       "        -2364. , -2378. , -2392. , -2406. , -2420. , -2434. ],\n",
       "       [-2648. , -2665.2, -2682.4, -2699.6, -2716.8, -2734. , -2751.2,\n",
       "        -2768.4, -2785.6, -2802.8, -2820. , -2837.2, -2854.4, -2871.6,\n",
       "        -2888.8, -2906. , -2923.2, -2940.4, -2957.6, -2974.8],\n",
       "       [-3128. , -3148.4, -3168.8, -3189.2, -3209.6, -3230. , -3250.4,\n",
       "        -3270.8, -3291.2, -3311.6, -3332. , -3352.4, -3372.8, -3393.2,\n",
       "        -3413.6, -3434. , -3454.4, -3474.8, -3495.2, -3515.6],\n",
       "       [-3608. , -3631.6, -3655.2, -3678.8, -3702.4, -3726. , -3749.6,\n",
       "        -3773.2, -3796.8, -3820.4, -3844. , -3867.6, -3891.2, -3914.8,\n",
       "        -3938.4, -3962. , -3985.6, -4009.2, -4032.8, -4056.4],\n",
       "       [-4088. , -4114.8, -4141.6, -4168.4, -4195.2, -4222. , -4248.8,\n",
       "        -4275.6, -4302.4, -4329.2, -4356. , -4382.8, -4409.6, -4436.4,\n",
       "        -4463.2, -4490. , -4516.8, -4543.6, -4570.4, -4597.2],\n",
       "       [-4568. , -4598. , -4628. , -4658. , -4688. , -4718. , -4748. ,\n",
       "        -4778. , -4808. , -4838. , -4868. , -4898. , -4928. , -4958. ,\n",
       "        -4988. , -5018. , -5048. , -5078. , -5108. , -5138. ],\n",
       "       [-5048. , -5081.2, -5114.4, -5147.6, -5180.8, -5214. , -5247.2,\n",
       "        -5280.4, -5313.6, -5346.8, -5380. , -5413.2, -5446.4, -5479.6,\n",
       "        -5512.8, -5546. , -5579.2, -5612.4, -5645.6, -5678.8],\n",
       "       [-5528. , -5564.4, -5600.8, -5637.2, -5673.6, -5710. , -5746.4,\n",
       "        -5782.8, -5819.2, -5855.6, -5892. , -5928.4, -5964.8, -6001.2,\n",
       "        -6037.6, -6074. , -6110.4, -6146.8, -6183.2, -6219.6],\n",
       "       [-6008. , -6047.6, -6087.2, -6126.8, -6166.4, -6206. , -6245.6,\n",
       "        -6285.2, -6324.8, -6364.4, -6404. , -6443.6, -6483.2, -6522.8,\n",
       "        -6562.4, -6602. , -6641.6, -6681.2, -6720.8, -6760.4],\n",
       "       [-6488. , -6530.8, -6573.6, -6616.4, -6659.2, -6702. , -6744.8,\n",
       "        -6787.6, -6830.4, -6873.2, -6916. , -6958.8, -7001.6, -7044.4,\n",
       "        -7087.2, -7130. , -7172.8, -7215.6, -7258.4, -7301.2],\n",
       "       [-6968. , -7014. , -7060. , -7106. , -7152. , -7198. , -7244. ,\n",
       "        -7290. , -7336. , -7382. , -7428. , -7474. , -7520. , -7566. ,\n",
       "        -7612. , -7658. , -7704. , -7750. , -7796. , -7842. ],\n",
       "       [-7448. , -7497.2, -7546.4, -7595.6, -7644.8, -7694. , -7743.2,\n",
       "        -7792.4, -7841.6, -7890.8, -7940. , -7989.2, -8038.4, -8087.6,\n",
       "        -8136.8, -8186. , -8235.2, -8284.4, -8333.6, -8382.8]])"
      ]
     },
     "execution_count": 131,
     "metadata": {},
     "output_type": "execute_result"
    }
   ],
   "source": [
    "a_8nx8n @ b_8nx8n4"
   ]
  },
  {
   "cell_type": "code",
   "execution_count": null,
   "metadata": {},
   "outputs": [],
   "source": []
  }
 ],
 "metadata": {
  "kernelspec": {
   "display_name": "cling",
   "language": "python",
   "name": "python3"
  },
  "language_info": {
   "codemirror_mode": {
    "name": "ipython",
    "version": 3
   },
   "file_extension": ".py",
   "mimetype": "text/x-python",
   "name": "python",
   "nbconvert_exporter": "python",
   "pygments_lexer": "ipython3",
   "version": "3.12.5"
  }
 },
 "nbformat": 4,
 "nbformat_minor": 2
}

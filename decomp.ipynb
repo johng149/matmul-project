{
 "cells": [
  {
   "cell_type": "code",
   "execution_count": 1,
   "metadata": {},
   "outputs": [
    {
     "name": "stderr",
     "output_type": "stream",
     "text": [
      "g:\\Projects\\Cornell\\CS 5220\\matmul-project\\.venv\\lib\\site-packages\\tqdm\\auto.py:21: TqdmWarning: IProgress not found. Please update jupyter and ipywidgets. See https://ipywidgets.readthedocs.io/en/stable/user_install.html\n",
      "  from .autonotebook import tqdm as notebook_tqdm\n"
     ]
    }
   ],
   "source": [
    "from typing import List\n",
    "import numpy as np\n",
    "import math\n",
    "from tqdm.auto import tqdm"
   ]
  },
  {
   "cell_type": "code",
   "execution_count": 2,
   "metadata": {},
   "outputs": [],
   "source": [
    "def panel_panel_dgemm_a_t(\n",
    "    rows: int,\n",
    "    cols: int,\n",
    "    panel_a_rows: int,\n",
    "    panel_a_cols: int,\n",
    "    panel_b_rows: int,\n",
    "    panel_b_cols: int,\n",
    "    start_row_a: int,\n",
    "    start_col_a: int,\n",
    "    start_row_b: int,\n",
    "    start_col_b: int,\n",
    "    write_row: int,\n",
    "    write_col: int,\n",
    "    A: List[float],\n",
    "    B: List[float],\n",
    "    C: List[float],\n",
    ") -> None:\n",
    "    \"\"\"\n",
    "    We perform panel-panel multiplication using the values in A and B and write the result to C\n",
    "\n",
    "    The matrices are assumed to be stored in row-major order in 1D arrays with the exception of A\n",
    "\n",
    "    `start_row_a` tells us which row of A the panel starts at if we were to view A as a 2D matrix.\n",
    "    `start_col_a` tells us which column of A the panel starts at if we were to view A as a 2D matrix.\n",
    "    `panel_a_rows` tells us how many rows the panel has if we were to view A as a 2D matrix.\n",
    "    `panel_a_cols` tells us how many columns the panel has if we were to view A as a 2D matrix.\n",
    "\n",
    "    Similarly, `start_row_b`, `start_col_b`, `panel_b_rows`, and `panel_b_cols` tell us the same\n",
    "    information about B.\n",
    "\n",
    "    `write_row` tells us which row of C we should start writing to if we were to view C as a 2D matrix.\n",
    "    `write_col` tells us which column of C we should start writing to if we were to view C as a 2D matrix.\n",
    "    \"\"\"\n",
    "    for i in range(panel_a_cols):\n",
    "        a_c = start_col_a + i\n",
    "        b_r = start_row_b + i\n",
    "        for k in range(panel_a_rows):\n",
    "            a_r = start_row_a + k\n",
    "            for j in range(panel_b_cols):\n",
    "                b_c = start_col_b + j\n",
    "                a_flat = a_c * cols + a_r\n",
    "                b_flat = b_r * rows + b_c\n",
    "                out_flat = (write_row + k) * rows + j + write_col\n",
    "                #print(f\"writing to {out_flat} from a: {a_flat} and b: {b_flat}\")\n",
    "                #print(f\"current value: {C[out_flat]}, product: {A[a_flat]} * {B[b_flat]} = {A[a_flat] * B[b_flat]}\")\n",
    "                C[out_flat] += A[a_flat] * B[b_flat]\n",
    "                #print(f\"new value: {C[out_flat]}\")"
   ]
  },
  {
   "cell_type": "code",
   "execution_count": 3,
   "metadata": {},
   "outputs": [],
   "source": [
    "def transpose(N, X):\n",
    "    out = [0] * (N**2)\n",
    "    for i in range(N):\n",
    "        for j in range(N):\n",
    "            original = i*N + j\n",
    "            tranposed = j*N + i\n",
    "            out[tranposed] = X[original]\n",
    "    return out"
   ]
  },
  {
   "cell_type": "code",
   "execution_count": 4,
   "metadata": {},
   "outputs": [],
   "source": [
    "def panel_panel_dgemm(\n",
    "    rows: int,\n",
    "    cols: int,\n",
    "    panel_a_rows: int,\n",
    "    panel_a_cols: int,\n",
    "    panel_b_rows: int,\n",
    "    panel_b_cols: int,\n",
    "    start_row_a: int,\n",
    "    start_col_a: int,\n",
    "    start_row_b: int,\n",
    "    start_col_b: int,\n",
    "    write_row: int,\n",
    "    write_col: int,\n",
    "    A: List[float],\n",
    "    B: List[float],\n",
    "    C: List[float],\n",
    ") -> None:\n",
    "    \"\"\"\n",
    "    We perform panel-panel multiplication using the values in A and B and write the result to C.\n",
    "\n",
    "    The matrices are assumed to be stored in row-major order in 1D arrays\n",
    "\n",
    "    `start_row_a` tells us which row of A the panel starts at if we were to view A as a 2D matrix.\n",
    "    `start_col_a` tells us which column of A the panel starts at if we were to view A as a 2D matrix.\n",
    "    `panel_a_rows` tells us how many rows the panel has if we were to view A as a 2D matrix.\n",
    "    `panel_a_cols` tells us how many columns the panel has if we were to view A as a 2D matrix.\n",
    "\n",
    "    Similarly, `start_row_b`, `start_col_b`, `panel_b_rows`, and `panel_b_cols` tell us the same\n",
    "    information about B.\n",
    "\n",
    "    `write_row` tells us which row of C we should start writing to if we were to view C as a 2D matrix.\n",
    "    `write_col` tells us which column of C we should start writing to if we were to view C as a 2D matrix.\n",
    "    \"\"\"\n",
    "    for k in range(panel_a_rows):\n",
    "        a_row = start_row_a + k\n",
    "        for i in range(panel_a_cols):\n",
    "            a_col = start_col_a + i\n",
    "            b_row = start_row_b + i\n",
    "            for j in range(panel_b_cols):\n",
    "                b_col = start_col_b + j\n",
    "                a_flat = a_row * rows + a_col\n",
    "                b_flat = b_row * rows + b_col\n",
    "                c_flat = (write_row + k) * rows + j + write_col\n",
    "                C[c_flat] += A[a_flat] * B[b_flat]\n",
    "\n",
    "def panel_panel_dgemm_bt(\n",
    "    rows: int,\n",
    "    cols: int,\n",
    "    panel_a_rows: int,\n",
    "    panel_a_cols: int,\n",
    "    panel_b_rows: int,\n",
    "    panel_b_cols: int,\n",
    "    start_row_a: int,\n",
    "    start_col_a: int,\n",
    "    start_row_b: int,\n",
    "    start_col_b: int,\n",
    "    write_row: int,\n",
    "    write_col: int,\n",
    "    A: List[float],\n",
    "    B: List[float],\n",
    "    C: List[float],\n",
    ") -> None:\n",
    "    \"\"\"\n",
    "    We perform panel-panel multiplication using the values in A and B and write the result to C\n",
    "\n",
    "    The matrices are assumed to be stored in row-major order in 1D arrays with the exception of B\n",
    "\n",
    "    `start_row_a` tells us which row of A the panel starts at if we were to view A as a 2D matrix.\n",
    "    `start_col_a` tells us which column of A the panel starts at if we were to view A as a 2D matrix.\n",
    "    `panel_a_rows` tells us how many rows the panel has if we were to view A as a 2D matrix.\n",
    "    `panel_a_cols` tells us how many columns the panel has if we were to view A as a 2D matrix.\n",
    "\n",
    "    Similarly, `start_row_b`, `start_col_b`, `panel_b_rows`, and `panel_b_cols` tell us the same\n",
    "    information about B.\n",
    "\n",
    "    `write_row` tells us which row of C we should start writing to if we were to view C as a 2D matrix.\n",
    "    `write_col` tells us which column of C we should start writing to if we were to view C as a 2D matrix.\n",
    "    \"\"\"\n",
    "    for k in range(panel_a_rows):\n",
    "        a_row = start_row_a + k\n",
    "        for j in range(panel_b_cols):\n",
    "            b_col = start_col_b + j\n",
    "            for i in range(panel_a_cols):\n",
    "                a_col = start_col_a + i\n",
    "                b_row = start_row_b + i\n",
    "                a_flat = a_row * rows + a_col\n",
    "                b_flat = b_col * rows + b_row\n",
    "                c_flat = (write_row + k) * rows + j + write_col\n",
    "                C[c_flat] += A[a_flat] * B[b_flat]"
   ]
  },
  {
   "cell_type": "code",
   "execution_count": 5,
   "metadata": {},
   "outputs": [],
   "source": [
    "def panel_panel_dgemm_recurse_a_t(\n",
    "    rows: int,\n",
    "    cols: int,\n",
    "    panel_a_rows: int,\n",
    "    panel_a_cols: int,\n",
    "    panel_b_rows: int,\n",
    "    panel_b_cols: int,\n",
    "    start_row_a: int,\n",
    "    start_col_a: int,\n",
    "    start_row_b: int,\n",
    "    start_col_b: int,\n",
    "    write_row: int,\n",
    "    write_col: int,\n",
    "    A: List[float],\n",
    "    B: List[float],\n",
    "    C: List[float],\n",
    "    block_size: int\n",
    ") -> None:\n",
    "    original_start_col_a = start_col_a\n",
    "    loop_cap = math.ceil(cols / block_size) if block_size < cols else 0 + 1 # remove +1 for C++\n",
    "    for i in range(loop_cap):\n",
    "        start_col_a = original_start_col_a + i * block_size\n",
    "        start_row_b = start_col_a\n",
    "        panel_a_cols = min(block_size, cols - start_col_a)\n",
    "        panel_b_rows = panel_a_cols\n",
    "        #print(f\"looking at start_row_a: {start_row_a}, start_col_a: {start_col_a}, start_row_b: {start_row_b}, start_col_b: {start_col_b}\")\n",
    "        #print(f\"panel_a_rows: {panel_a_rows}, panel_a_cols: {panel_a_cols}, panel_b_rows: {panel_b_rows}, panel_b_cols: {panel_b_cols}\")\n",
    "        panel_panel_dgemm_a_t(\n",
    "            rows,\n",
    "            cols,\n",
    "            panel_a_rows,\n",
    "            panel_a_cols,\n",
    "            panel_b_rows,\n",
    "            panel_b_cols,\n",
    "            start_row_a,\n",
    "            start_col_a,\n",
    "            start_row_b,\n",
    "            start_col_b,\n",
    "            write_row,\n",
    "            write_col,\n",
    "            A,\n",
    "            B,\n",
    "            C\n",
    "        )"
   ]
  },
  {
   "cell_type": "code",
   "execution_count": 6,
   "metadata": {},
   "outputs": [],
   "source": [
    "rows = 10\n",
    "cols = 10\n",
    "A = np.array([i for i in range(rows*cols)], dtype=np.float32)\n",
    "B = A.copy() * -1"
   ]
  },
  {
   "cell_type": "code",
   "execution_count": 7,
   "metadata": {},
   "outputs": [],
   "source": [
    "A_matrix = A.reshape((rows, cols))\n",
    "B_matrix = B.reshape((rows, cols))"
   ]
  },
  {
   "cell_type": "code",
   "execution_count": 8,
   "metadata": {},
   "outputs": [],
   "source": [
    "matrix_c = A_matrix @ B_matrix"
   ]
  },
  {
   "cell_type": "code",
   "execution_count": 9,
   "metadata": {},
   "outputs": [],
   "source": [
    "flat_a = A.flatten().tolist()\n",
    "flat_b = B.flatten().tolist()\n",
    "flat_c = [0] * (rows * cols)"
   ]
  },
  {
   "cell_type": "code",
   "execution_count": 10,
   "metadata": {},
   "outputs": [],
   "source": [
    "flat_b_t = transpose(rows, flat_b)\n",
    "flat_a_t = transpose(cols, flat_a)"
   ]
  },
  {
   "cell_type": "code",
   "execution_count": 11,
   "metadata": {},
   "outputs": [],
   "source": [
    "flat_c = [0] * (rows * cols)"
   ]
  },
  {
   "cell_type": "code",
   "execution_count": 12,
   "metadata": {},
   "outputs": [],
   "source": [
    "def square_dgemm(N, A, B, C, panel_block_size, subpartition_block_size):\n",
    "    panel_a_cols = N\n",
    "    panel_b_rows = N\n",
    "    start_col_a = 0\n",
    "    start_row_b = 0\n",
    "    AT = transpose(N, A)\n",
    "    rows = cols = N\n",
    "    loop_cap = math.ceil(N / panel_block_size) if panel_block_size < rows else 0 + 1 #remove the +1 when C++\n",
    "    for i in range(loop_cap):\n",
    "        start_row_a = i * panel_block_size\n",
    "        panel_a_rows = min(panel_block_size, rows - start_row_a)\n",
    "        for j in range(loop_cap):\n",
    "            start_col_b = j * panel_block_size\n",
    "            panel_b_cols = min(panel_block_size, cols - start_col_b)\n",
    "            write_row = start_row_a\n",
    "            write_col = start_col_b\n",
    "            #print(f\"outer loop has start_row_a: {start_row_a}, start_col_a: {start_col_a}, start_row_b: {start_row_b}, start_col_b: {start_col_b}\")\n",
    "            #print(f\"outer loop has panel_a_rows: {panel_a_rows}, panel_a_cols: {panel_a_cols}, panel_b_rows: {panel_b_rows}, panel_b_cols: {panel_b_cols}\")\n",
    "            #print(f\"writing to {write_row}, {write_col}\")\n",
    "            panel_panel_dgemm_recurse_a_t(\n",
    "                rows, cols, panel_a_rows, panel_a_cols, panel_b_rows, panel_b_cols, start_row_a, start_col_a, start_row_b, start_col_b, write_row, write_col, AT, B, C, subpartition_block_size\n",
    "            )"
   ]
  },
  {
   "cell_type": "code",
   "execution_count": 13,
   "metadata": {},
   "outputs": [
    {
     "name": "stderr",
     "output_type": "stream",
     "text": [
      " 13%|█▎        | 13/99 [00:31<06:56,  4.84s/it]"
     ]
    }
   ],
   "source": [
    "for n in tqdm(range(1, 100)):\n",
    "    rows = cols = n\n",
    "    A = np.array([i for i in range(rows*cols)], dtype=np.float32)\n",
    "    B = A.copy() * -1\n",
    "    A_matrix = A.reshape((rows, cols))\n",
    "    B_matrix = B.reshape((rows, cols))\n",
    "    matrix_c = A_matrix @ B_matrix\n",
    "    flat_a = A.flatten().tolist()\n",
    "    flat_b = B.flatten().tolist()\n",
    "    for panel_block_size in range(1, 120):\n",
    "        for subpartition_block_size in range(1, 120):\n",
    "            flat_c = [0] * (rows * cols)\n",
    "            square_dgemm(rows, flat_a, flat_b, flat_c, panel_block_size, subpartition_block_size)\n",
    "            if not np.allclose(matrix_c, np.array(flat_c).reshape((rows, cols))):\n",
    "                print(f\"n: {n}, panel_block_size: {panel_block_size}, subpartition_block_size: {subpartition_block_size} failed\")"
   ]
  }
 ],
 "metadata": {
  "kernelspec": {
   "display_name": ".venv",
   "language": "python",
   "name": "python3"
  },
  "language_info": {
   "codemirror_mode": {
    "name": "ipython",
    "version": 3
   },
   "file_extension": ".py",
   "mimetype": "text/x-python",
   "name": "python",
   "nbconvert_exporter": "python",
   "pygments_lexer": "ipython3",
   "version": "3.10.6"
  }
 },
 "nbformat": 4,
 "nbformat_minor": 2
}

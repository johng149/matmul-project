{
 "cells": [
  {
   "cell_type": "code",
   "execution_count": 33,
   "metadata": {},
   "outputs": [],
   "source": [
    "from typing import List\n",
    "import numpy as np\n",
    "import math"
   ]
  },
  {
   "cell_type": "code",
   "execution_count": 34,
   "metadata": {},
   "outputs": [],
   "source": [
    "def transpose(N, X):\n",
    "    out = [0] * (N**2)\n",
    "    for i in range(N):\n",
    "        for j in range(N):\n",
    "            original = i*N + j\n",
    "            tranposed = j*N + i\n",
    "            out[tranposed] = X[original]\n",
    "    return out"
   ]
  },
  {
   "cell_type": "code",
   "execution_count": 35,
   "metadata": {},
   "outputs": [],
   "source": [
    "def panel_panel_dgemm(\n",
    "    rows: int,\n",
    "    cols: int,\n",
    "    panel_a_rows: int,\n",
    "    panel_a_cols: int,\n",
    "    panel_b_rows: int,\n",
    "    panel_b_cols: int,\n",
    "    start_row_a: int,\n",
    "    start_col_a: int,\n",
    "    start_row_b: int,\n",
    "    start_col_b: int,\n",
    "    write_row: int,\n",
    "    write_col: int,\n",
    "    A: List[float],\n",
    "    B: List[float],\n",
    "    C: List[float],\n",
    ") -> None:\n",
    "    \"\"\"\n",
    "    We perform panel-panel multiplication using the values in A and B and write the result to C.\n",
    "\n",
    "    The matrices are assumed to be stored in row-major order in 1D arrays\n",
    "\n",
    "    `start_row_a` tells us which row of A the panel starts at if we were to view A as a 2D matrix.\n",
    "    `start_col_a` tells us which column of A the panel starts at if we were to view A as a 2D matrix.\n",
    "    `panel_a_rows` tells us how many rows the panel has if we were to view A as a 2D matrix.\n",
    "    `panel_a_cols` tells us how many columns the panel has if we were to view A as a 2D matrix.\n",
    "\n",
    "    Similarly, `start_row_b`, `start_col_b`, `panel_b_rows`, and `panel_b_cols` tell us the same\n",
    "    information about B.\n",
    "\n",
    "    `write_row` tells us which row of C we should start writing to if we were to view C as a 2D matrix.\n",
    "    `write_col` tells us which column of C we should start writing to if we were to view C as a 2D matrix.\n",
    "    \"\"\"\n",
    "    for k in range(panel_a_rows):\n",
    "        a_row = start_row_a + k\n",
    "        for i in range(panel_a_cols):\n",
    "            a_col = start_col_a + i\n",
    "            b_row = start_row_b + i\n",
    "            for j in range(panel_b_cols):\n",
    "                b_col = start_col_b + j\n",
    "                a_flat = a_row * rows + a_col\n",
    "                b_flat = b_row * rows + b_col\n",
    "                c_flat = (write_row + k) * rows + j + write_col\n",
    "                C[c_flat] += A[a_flat] * B[b_flat]\n",
    "\n",
    "def panel_panel_dgemm_bt(\n",
    "    rows: int,\n",
    "    cols: int,\n",
    "    panel_a_rows: int,\n",
    "    panel_a_cols: int,\n",
    "    panel_b_rows: int,\n",
    "    panel_b_cols: int,\n",
    "    start_row_a: int,\n",
    "    start_col_a: int,\n",
    "    start_row_b: int,\n",
    "    start_col_b: int,\n",
    "    write_row: int,\n",
    "    write_col: int,\n",
    "    A: List[float],\n",
    "    B: List[float],\n",
    "    C: List[float],\n",
    ") -> None:\n",
    "    \"\"\"\n",
    "    We perform panel-panel multiplication using the values in A and B and write the result to C\n",
    "\n",
    "    The matrices are assumed to be stored in row-major order in 1D arrays with the exception of B\n",
    "\n",
    "    `start_row_a` tells us which row of A the panel starts at if we were to view A as a 2D matrix.\n",
    "    `start_col_a` tells us which column of A the panel starts at if we were to view A as a 2D matrix.\n",
    "    `panel_a_rows` tells us how many rows the panel has if we were to view A as a 2D matrix.\n",
    "    `panel_a_cols` tells us how many columns the panel has if we were to view A as a 2D matrix.\n",
    "\n",
    "    Similarly, `start_row_b`, `start_col_b`, `panel_b_rows`, and `panel_b_cols` tell us the same\n",
    "    information about B.\n",
    "\n",
    "    `write_row` tells us which row of C we should start writing to if we were to view C as a 2D matrix.\n",
    "    `write_col` tells us which column of C we should start writing to if we were to view C as a 2D matrix.\n",
    "    \"\"\"\n",
    "    for k in range(panel_a_rows):\n",
    "        a_row = start_row_a + k\n",
    "        for j in range(panel_b_cols):\n",
    "            b_col = start_col_b + j\n",
    "            for i in range(panel_a_cols):\n",
    "                a_col = start_col_a + i\n",
    "                b_row = start_row_b + i\n",
    "                a_flat = a_row * rows + a_col\n",
    "                b_flat = b_col * rows + b_row\n",
    "                c_flat = (write_row + k) * rows + j + write_col\n",
    "                C[c_flat] += A[a_flat] * B[b_flat]"
   ]
  },
  {
   "cell_type": "code",
   "execution_count": 36,
   "metadata": {},
   "outputs": [],
   "source": [
    "rows = 4\n",
    "cols = 4\n",
    "A = np.array([i for i in range(rows*cols)], dtype=np.float32)\n",
    "B = A.copy() * -1"
   ]
  },
  {
   "cell_type": "code",
   "execution_count": 37,
   "metadata": {},
   "outputs": [],
   "source": [
    "A_matrix = A.reshape((rows, cols))\n",
    "B_matrix = B.reshape((rows, cols))"
   ]
  },
  {
   "cell_type": "code",
   "execution_count": 38,
   "metadata": {},
   "outputs": [],
   "source": [
    "A_panel_1 = A_matrix[0:2, :]\n",
    "B_panel_1 = B_matrix[:, 0:2]"
   ]
  },
  {
   "cell_type": "code",
   "execution_count": 39,
   "metadata": {},
   "outputs": [],
   "source": [
    "A_panel_2 = A_matrix[2:4, :]\n",
    "B_panel_2 = B_matrix[:, 2:4]"
   ]
  },
  {
   "cell_type": "code",
   "execution_count": 40,
   "metadata": {},
   "outputs": [
    {
     "data": {
      "text/plain": [
       "(array([[0., 1., 2., 3.],\n",
       "        [4., 5., 6., 7.]], dtype=float32),\n",
       " array([[ -0.,  -1.],\n",
       "        [ -4.,  -5.],\n",
       "        [ -8.,  -9.],\n",
       "        [-12., -13.]], dtype=float32),\n",
       " array([[ 8.,  9., 10., 11.],\n",
       "        [12., 13., 14., 15.]], dtype=float32),\n",
       " array([[ -2.,  -3.],\n",
       "        [ -6.,  -7.],\n",
       "        [-10., -11.],\n",
       "        [-14., -15.]], dtype=float32))"
      ]
     },
     "execution_count": 40,
     "metadata": {},
     "output_type": "execute_result"
    }
   ],
   "source": [
    "A_panel_1, B_panel_1, A_panel_2, B_panel_2"
   ]
  },
  {
   "cell_type": "code",
   "execution_count": 41,
   "metadata": {},
   "outputs": [],
   "source": [
    "upper_left = A_panel_1 @ B_panel_1\n",
    "lower_left = A_panel_2 @ B_panel_1\n",
    "upper_right = A_panel_1 @ B_panel_2\n",
    "lower_right = A_panel_2 @ B_panel_2"
   ]
  },
  {
   "cell_type": "code",
   "execution_count": 42,
   "metadata": {},
   "outputs": [],
   "source": [
    "combined = np.zeros((rows, cols), dtype=np.float32)\n",
    "combined[0:2, 0:2] = upper_left\n",
    "combined[2:4, 0:2] = lower_left\n",
    "combined[0:2, 2:4] = upper_right\n",
    "combined[2:4, 2:4] = lower_right"
   ]
  },
  {
   "cell_type": "code",
   "execution_count": 43,
   "metadata": {},
   "outputs": [
    {
     "data": {
      "text/plain": [
       "array([[ -56.,  -62.,  -68.,  -74.],\n",
       "       [-152., -174., -196., -218.],\n",
       "       [-248., -286., -324., -362.],\n",
       "       [-344., -398., -452., -506.]], dtype=float32)"
      ]
     },
     "execution_count": 43,
     "metadata": {},
     "output_type": "execute_result"
    }
   ],
   "source": [
    "combined"
   ]
  },
  {
   "cell_type": "code",
   "execution_count": 44,
   "metadata": {},
   "outputs": [],
   "source": [
    "flat_a = A.flatten().tolist()\n",
    "flat_b = B.flatten().tolist()\n",
    "flat_c = [0] * (rows * cols)"
   ]
  },
  {
   "cell_type": "code",
   "execution_count": 45,
   "metadata": {},
   "outputs": [],
   "source": [
    "flat_b_t = transpose(rows, flat_b)"
   ]
  },
  {
   "cell_type": "code",
   "execution_count": 46,
   "metadata": {},
   "outputs": [
    {
     "name": "stdout",
     "output_type": "stream",
     "text": [
      "2\n"
     ]
    }
   ],
   "source": [
    "panel_a_cols = cols\n",
    "panel_b_rows = rows\n",
    "start_col_a = 0\n",
    "start_row_b = 0\n",
    "panel_block_size = 3\n",
    "loop_cap = math.ceil(rows / panel_block_size) if panel_block_size < rows else 0 + 1 #remove the +1 when C++\n",
    "print(loop_cap)\n",
    "for i in range(loop_cap):\n",
    "    start_row_a = i * panel_block_size\n",
    "    panel_a_rows = min(panel_block_size, rows - start_row_a)\n",
    "    for j in range(loop_cap):\n",
    "        start_col_b = j * panel_block_size\n",
    "        panel_b_cols = min(panel_block_size, cols - start_col_b)\n",
    "        write_row = start_row_a\n",
    "        write_col = start_col_b\n",
    "        panel_panel_dgemm(\n",
    "            rows, cols, panel_a_rows, panel_a_cols, panel_b_rows, panel_b_cols, start_row_a, start_col_a, start_row_b, start_col_b, write_row, write_col, flat_a, flat_b, flat_c\n",
    "        )"
   ]
  },
  {
   "cell_type": "code",
   "execution_count": 47,
   "metadata": {},
   "outputs": [],
   "source": [
    "matrix_c = np.array(flat_c).reshape((rows, cols))"
   ]
  },
  {
   "cell_type": "code",
   "execution_count": 48,
   "metadata": {},
   "outputs": [
    {
     "data": {
      "text/plain": [
       "(array([[ -56.,  -62.,  -68.,  -74.],\n",
       "        [-152., -174., -196., -218.],\n",
       "        [-248., -286., -324., -362.],\n",
       "        [-344., -398., -452., -506.]], dtype=float32),\n",
       " array([[ -56.,  -62.,  -68.,  -74.],\n",
       "        [-152., -174., -196., -218.],\n",
       "        [-248., -286., -324., -362.],\n",
       "        [-344., -398., -452., -506.]]))"
      ]
     },
     "execution_count": 48,
     "metadata": {},
     "output_type": "execute_result"
    }
   ],
   "source": [
    "combined, matrix_c"
   ]
  },
  {
   "cell_type": "code",
   "execution_count": null,
   "metadata": {},
   "outputs": [],
   "source": []
  }
 ],
 "metadata": {
  "kernelspec": {
   "display_name": ".venv",
   "language": "python",
   "name": "python3"
  },
  "language_info": {
   "codemirror_mode": {
    "name": "ipython",
    "version": 3
   },
   "file_extension": ".py",
   "mimetype": "text/x-python",
   "name": "python",
   "nbconvert_exporter": "python",
   "pygments_lexer": "ipython3",
   "version": "3.10.6"
  }
 },
 "nbformat": 4,
 "nbformat_minor": 2
}

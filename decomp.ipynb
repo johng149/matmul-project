{
 "cells": [
  {
   "cell_type": "code",
   "execution_count": 356,
   "metadata": {},
   "outputs": [],
   "source": [
    "from typing import List\n",
    "import numpy as np\n",
    "import math"
   ]
  },
  {
   "cell_type": "code",
   "execution_count": 357,
   "metadata": {},
   "outputs": [],
   "source": [
    "def panel_panel_dgemm_a_t(\n",
    "    rows: int,\n",
    "    cols: int,\n",
    "    panel_a_rows: int,\n",
    "    panel_a_cols: int,\n",
    "    panel_b_rows: int,\n",
    "    panel_b_cols: int,\n",
    "    start_row_a: int,\n",
    "    start_col_a: int,\n",
    "    start_row_b: int,\n",
    "    start_col_b: int,\n",
    "    write_row: int,\n",
    "    write_col: int,\n",
    "    A: List[float],\n",
    "    B: List[float],\n",
    "    C: List[float],\n",
    ") -> None:\n",
    "    \"\"\"\n",
    "    We perform panel-panel multiplication using the values in A and B and write the result to C\n",
    "\n",
    "    The matrices are assumed to be stored in row-major order in 1D arrays with the exception of A\n",
    "\n",
    "    `start_row_a` tells us which row of A the panel starts at if we were to view A as a 2D matrix.\n",
    "    `start_col_a` tells us which column of A the panel starts at if we were to view A as a 2D matrix.\n",
    "    `panel_a_rows` tells us how many rows the panel has if we were to view A as a 2D matrix.\n",
    "    `panel_a_cols` tells us how many columns the panel has if we were to view A as a 2D matrix.\n",
    "\n",
    "    Similarly, `start_row_b`, `start_col_b`, `panel_b_rows`, and `panel_b_cols` tell us the same\n",
    "    information about B.\n",
    "\n",
    "    `write_row` tells us which row of C we should start writing to if we were to view C as a 2D matrix.\n",
    "    `write_col` tells us which column of C we should start writing to if we were to view C as a 2D matrix.\n",
    "    \"\"\"\n",
    "    for i in range(panel_a_cols):\n",
    "        a_c = start_col_a + i\n",
    "        b_r = start_row_b + i\n",
    "        for k in range(panel_a_rows):\n",
    "            a_r = start_row_a + k\n",
    "            for j in range(panel_b_cols):\n",
    "                b_c = start_col_b + j\n",
    "                a_flat = a_c * cols + a_r\n",
    "                b_flat = b_r * rows + b_c\n",
    "                out_flat = (write_row + k) * rows + j + write_col\n",
    "                C[out_flat] += A[a_flat] * B[b_flat]"
   ]
  },
  {
   "cell_type": "code",
   "execution_count": 358,
   "metadata": {},
   "outputs": [],
   "source": [
    "def transpose(N, X):\n",
    "    out = [0] * (N**2)\n",
    "    for i in range(N):\n",
    "        for j in range(N):\n",
    "            original = i*N + j\n",
    "            tranposed = j*N + i\n",
    "            out[tranposed] = X[original]\n",
    "    return out"
   ]
  },
  {
   "cell_type": "code",
   "execution_count": 359,
   "metadata": {},
   "outputs": [],
   "source": [
    "def panel_panel_dgemm(\n",
    "    rows: int,\n",
    "    cols: int,\n",
    "    panel_a_rows: int,\n",
    "    panel_a_cols: int,\n",
    "    panel_b_rows: int,\n",
    "    panel_b_cols: int,\n",
    "    start_row_a: int,\n",
    "    start_col_a: int,\n",
    "    start_row_b: int,\n",
    "    start_col_b: int,\n",
    "    write_row: int,\n",
    "    write_col: int,\n",
    "    A: List[float],\n",
    "    B: List[float],\n",
    "    C: List[float],\n",
    ") -> None:\n",
    "    \"\"\"\n",
    "    We perform panel-panel multiplication using the values in A and B and write the result to C.\n",
    "\n",
    "    The matrices are assumed to be stored in row-major order in 1D arrays\n",
    "\n",
    "    `start_row_a` tells us which row of A the panel starts at if we were to view A as a 2D matrix.\n",
    "    `start_col_a` tells us which column of A the panel starts at if we were to view A as a 2D matrix.\n",
    "    `panel_a_rows` tells us how many rows the panel has if we were to view A as a 2D matrix.\n",
    "    `panel_a_cols` tells us how many columns the panel has if we were to view A as a 2D matrix.\n",
    "\n",
    "    Similarly, `start_row_b`, `start_col_b`, `panel_b_rows`, and `panel_b_cols` tell us the same\n",
    "    information about B.\n",
    "\n",
    "    `write_row` tells us which row of C we should start writing to if we were to view C as a 2D matrix.\n",
    "    `write_col` tells us which column of C we should start writing to if we were to view C as a 2D matrix.\n",
    "    \"\"\"\n",
    "    for k in range(panel_a_rows):\n",
    "        a_row = start_row_a + k\n",
    "        for i in range(panel_a_cols):\n",
    "            a_col = start_col_a + i\n",
    "            b_row = start_row_b + i\n",
    "            for j in range(panel_b_cols):\n",
    "                b_col = start_col_b + j\n",
    "                a_flat = a_row * rows + a_col\n",
    "                b_flat = b_row * rows + b_col\n",
    "                c_flat = (write_row + k) * rows + j + write_col\n",
    "                C[c_flat] += A[a_flat] * B[b_flat]\n",
    "\n",
    "def panel_panel_dgemm_bt(\n",
    "    rows: int,\n",
    "    cols: int,\n",
    "    panel_a_rows: int,\n",
    "    panel_a_cols: int,\n",
    "    panel_b_rows: int,\n",
    "    panel_b_cols: int,\n",
    "    start_row_a: int,\n",
    "    start_col_a: int,\n",
    "    start_row_b: int,\n",
    "    start_col_b: int,\n",
    "    write_row: int,\n",
    "    write_col: int,\n",
    "    A: List[float],\n",
    "    B: List[float],\n",
    "    C: List[float],\n",
    ") -> None:\n",
    "    \"\"\"\n",
    "    We perform panel-panel multiplication using the values in A and B and write the result to C\n",
    "\n",
    "    The matrices are assumed to be stored in row-major order in 1D arrays with the exception of B\n",
    "\n",
    "    `start_row_a` tells us which row of A the panel starts at if we were to view A as a 2D matrix.\n",
    "    `start_col_a` tells us which column of A the panel starts at if we were to view A as a 2D matrix.\n",
    "    `panel_a_rows` tells us how many rows the panel has if we were to view A as a 2D matrix.\n",
    "    `panel_a_cols` tells us how many columns the panel has if we were to view A as a 2D matrix.\n",
    "\n",
    "    Similarly, `start_row_b`, `start_col_b`, `panel_b_rows`, and `panel_b_cols` tell us the same\n",
    "    information about B.\n",
    "\n",
    "    `write_row` tells us which row of C we should start writing to if we were to view C as a 2D matrix.\n",
    "    `write_col` tells us which column of C we should start writing to if we were to view C as a 2D matrix.\n",
    "    \"\"\"\n",
    "    for k in range(panel_a_rows):\n",
    "        a_row = start_row_a + k\n",
    "        for j in range(panel_b_cols):\n",
    "            b_col = start_col_b + j\n",
    "            for i in range(panel_a_cols):\n",
    "                a_col = start_col_a + i\n",
    "                b_row = start_row_b + i\n",
    "                a_flat = a_row * rows + a_col\n",
    "                b_flat = b_col * rows + b_row\n",
    "                c_flat = (write_row + k) * rows + j + write_col\n",
    "                C[c_flat] += A[a_flat] * B[b_flat]"
   ]
  },
  {
   "cell_type": "code",
   "execution_count": 360,
   "metadata": {},
   "outputs": [],
   "source": [
    "def panel_panel_dgemm_recurse_a_t(\n",
    "    rows: int,\n",
    "    cols: int,\n",
    "    panel_a_rows: int,\n",
    "    panel_a_cols: int,\n",
    "    panel_b_rows: int,\n",
    "    panel_b_cols: int,\n",
    "    start_row_a: int,\n",
    "    start_col_a: int,\n",
    "    start_row_b: int,\n",
    "    start_col_b: int,\n",
    "    write_row: int,\n",
    "    write_col: int,\n",
    "    A: List[float],\n",
    "    B: List[float],\n",
    "    C: List[float],\n",
    "    block_size: int\n",
    ") -> None:\n",
    "    loop_cap = math.ceil(cols / block_size) if block_size < cols else 0 + 1 # remove +1 for C++\n",
    "    for i in range(loop_cap):\n",
    "        start_col_a = start_col_a + i * block_size\n",
    "        start_row_b = start_col_a\n",
    "        panel_a_cols = min(block_size, cols - start_col_a)\n",
    "        panel_b_rows = panel_a_cols\n",
    "        panel_panel_dgemm_a_t(\n",
    "            rows,\n",
    "            cols,\n",
    "            panel_a_rows,\n",
    "            panel_a_cols,\n",
    "            panel_b_rows,\n",
    "            panel_b_cols,\n",
    "            start_row_a,\n",
    "            start_col_a,\n",
    "            start_row_b,\n",
    "            start_col_b,\n",
    "            write_row,\n",
    "            write_col,\n",
    "            A,\n",
    "            B,\n",
    "            C\n",
    "        )"
   ]
  },
  {
   "cell_type": "code",
   "execution_count": 361,
   "metadata": {},
   "outputs": [],
   "source": [
    "rows = 4\n",
    "cols = 4\n",
    "A = np.array([i for i in range(rows*cols)], dtype=np.float32)\n",
    "B = A.copy() * -1"
   ]
  },
  {
   "cell_type": "code",
   "execution_count": 362,
   "metadata": {},
   "outputs": [],
   "source": [
    "A_matrix = A.reshape((rows, cols))\n",
    "B_matrix = B.reshape((rows, cols))"
   ]
  },
  {
   "cell_type": "code",
   "execution_count": 363,
   "metadata": {},
   "outputs": [],
   "source": [
    "A_panel_1 = A_matrix[0:2, :]\n",
    "B_panel_1 = B_matrix[:, 0:2]"
   ]
  },
  {
   "cell_type": "code",
   "execution_count": 364,
   "metadata": {},
   "outputs": [],
   "source": [
    "A_panel_2 = A_matrix[2:4, :]\n",
    "B_panel_2 = B_matrix[:, 2:4]"
   ]
  },
  {
   "cell_type": "code",
   "execution_count": 365,
   "metadata": {},
   "outputs": [
    {
     "data": {
      "text/plain": [
       "(array([[0., 1., 2., 3.],\n",
       "        [4., 5., 6., 7.]], dtype=float32),\n",
       " array([[ -0.,  -1.],\n",
       "        [ -4.,  -5.],\n",
       "        [ -8.,  -9.],\n",
       "        [-12., -13.]], dtype=float32),\n",
       " array([[ 8.,  9., 10., 11.],\n",
       "        [12., 13., 14., 15.]], dtype=float32),\n",
       " array([[ -2.,  -3.],\n",
       "        [ -6.,  -7.],\n",
       "        [-10., -11.],\n",
       "        [-14., -15.]], dtype=float32))"
      ]
     },
     "execution_count": 365,
     "metadata": {},
     "output_type": "execute_result"
    }
   ],
   "source": [
    "A_panel_1, B_panel_1, A_panel_2, B_panel_2"
   ]
  },
  {
   "cell_type": "code",
   "execution_count": 366,
   "metadata": {},
   "outputs": [],
   "source": [
    "upper_left = A_panel_1 @ B_panel_1\n",
    "lower_left = A_panel_2 @ B_panel_1\n",
    "upper_right = A_panel_1 @ B_panel_2\n",
    "lower_right = A_panel_2 @ B_panel_2"
   ]
  },
  {
   "cell_type": "code",
   "execution_count": 367,
   "metadata": {},
   "outputs": [],
   "source": [
    "combined = np.zeros((rows, cols), dtype=np.float32)\n",
    "combined[0:2, 0:2] = upper_left\n",
    "combined[2:4, 0:2] = lower_left\n",
    "combined[0:2, 2:4] = upper_right\n",
    "combined[2:4, 2:4] = lower_right"
   ]
  },
  {
   "cell_type": "code",
   "execution_count": 368,
   "metadata": {},
   "outputs": [
    {
     "data": {
      "text/plain": [
       "array([[ -56.,  -62.,  -68.,  -74.],\n",
       "       [-152., -174., -196., -218.],\n",
       "       [-248., -286., -324., -362.],\n",
       "       [-344., -398., -452., -506.]], dtype=float32)"
      ]
     },
     "execution_count": 368,
     "metadata": {},
     "output_type": "execute_result"
    }
   ],
   "source": [
    "combined"
   ]
  },
  {
   "cell_type": "code",
   "execution_count": 369,
   "metadata": {},
   "outputs": [],
   "source": [
    "flat_a = A.flatten().tolist()\n",
    "flat_b = B.flatten().tolist()\n",
    "flat_c = [0] * (rows * cols)"
   ]
  },
  {
   "cell_type": "code",
   "execution_count": 370,
   "metadata": {},
   "outputs": [],
   "source": [
    "flat_b_t = transpose(rows, flat_b)\n",
    "flat_a_t = transpose(cols, flat_a)"
   ]
  },
  {
   "cell_type": "code",
   "execution_count": 371,
   "metadata": {},
   "outputs": [
    {
     "name": "stdout",
     "output_type": "stream",
     "text": [
      "2\n"
     ]
    }
   ],
   "source": [
    "panel_a_cols = cols\n",
    "panel_b_rows = rows\n",
    "start_col_a = 0\n",
    "start_row_b = 0\n",
    "panel_block_size = 3\n",
    "loop_cap = math.ceil(rows / panel_block_size) if panel_block_size < rows else 0 + 1 #remove the +1 when C++\n",
    "print(loop_cap)\n",
    "for i in range(loop_cap):\n",
    "    start_row_a = i * panel_block_size\n",
    "    panel_a_rows = min(panel_block_size, rows - start_row_a)\n",
    "    for j in range(loop_cap):\n",
    "        start_col_b = j * panel_block_size\n",
    "        panel_b_cols = min(panel_block_size, cols - start_col_b)\n",
    "        write_row = start_row_a\n",
    "        write_col = start_col_b\n",
    "        panel_panel_dgemm(\n",
    "            rows, cols, panel_a_rows, panel_a_cols, panel_b_rows, panel_b_cols, start_row_a, start_col_a, start_row_b, start_col_b, write_row, write_col, flat_a, flat_b, flat_c\n",
    "        )"
   ]
  },
  {
   "cell_type": "code",
   "execution_count": 372,
   "metadata": {},
   "outputs": [],
   "source": [
    "matrix_c = np.array(flat_c).reshape((rows, cols))"
   ]
  },
  {
   "cell_type": "code",
   "execution_count": 373,
   "metadata": {},
   "outputs": [
    {
     "data": {
      "text/plain": [
       "(array([[ -56.,  -62.,  -68.,  -74.],\n",
       "        [-152., -174., -196., -218.],\n",
       "        [-248., -286., -324., -362.],\n",
       "        [-344., -398., -452., -506.]], dtype=float32),\n",
       " array([[ -56.,  -62.,  -68.,  -74.],\n",
       "        [-152., -174., -196., -218.],\n",
       "        [-248., -286., -324., -362.],\n",
       "        [-344., -398., -452., -506.]]))"
      ]
     },
     "execution_count": 373,
     "metadata": {},
     "output_type": "execute_result"
    }
   ],
   "source": [
    "combined, matrix_c"
   ]
  },
  {
   "cell_type": "code",
   "execution_count": 374,
   "metadata": {},
   "outputs": [],
   "source": [
    "flat_c = [0] * (rows * cols)"
   ]
  },
  {
   "cell_type": "code",
   "execution_count": 375,
   "metadata": {},
   "outputs": [
    {
     "name": "stdout",
     "output_type": "stream",
     "text": [
      "outer loop has start_row_a: 0, start_col_a: 0, start_row_b: 0, start_col_b: 0\n",
      "outer loop has panel_a_rows: 3, panel_a_cols: 4, panel_b_rows: 4, panel_b_cols: 3\n",
      "start_row_a: 0, start_col_a: 0, start_row_b: 0, start_col_b: 0\n",
      "panel_a_rows: 3, panel_a_cols: 2, panel_b_rows: 2, panel_b_cols: 3\n",
      "write_row 0, write_col 0\n",
      "----------\n",
      "At 0 adding to 0 from 0.0 * -0.0 = -0.0\n",
      "At 1 adding to 0 from 0.0 * -1.0 = -0.0\n",
      "At 2 adding to 0 from 0.0 * -2.0 = -0.0\n",
      "At 4 adding to 0 from 4.0 * -0.0 = -0.0\n",
      "At 5 adding to 0 from 4.0 * -1.0 = -4.0\n",
      "At 6 adding to 0 from 4.0 * -2.0 = -8.0\n",
      "At 8 adding to 0 from 8.0 * -0.0 = -0.0\n",
      "At 9 adding to 0 from 8.0 * -1.0 = -8.0\n",
      "At 10 adding to 0 from 8.0 * -2.0 = -16.0\n",
      "At 0 adding to 0.0 from 1.0 * -4.0 = -4.0\n",
      "At 1 adding to 0.0 from 1.0 * -5.0 = -5.0\n",
      "At 2 adding to 0.0 from 1.0 * -6.0 = -6.0\n",
      "At 4 adding to 0.0 from 5.0 * -4.0 = -20.0\n",
      "At 5 adding to -4.0 from 5.0 * -5.0 = -25.0\n",
      "At 6 adding to -8.0 from 5.0 * -6.0 = -30.0\n",
      "At 8 adding to 0.0 from 9.0 * -4.0 = -36.0\n",
      "At 9 adding to -8.0 from 9.0 * -5.0 = -45.0\n",
      "At 10 adding to -16.0 from 9.0 * -6.0 = -54.0\n",
      "start_row_a: 0, start_col_a: 2, start_row_b: 2, start_col_b: 0\n",
      "panel_a_rows: 3, panel_a_cols: 2, panel_b_rows: 2, panel_b_cols: 3\n",
      "write_row 0, write_col 0\n",
      "----------\n",
      "At 0 adding to -4.0 from 2.0 * -8.0 = -16.0\n",
      "At 1 adding to -5.0 from 2.0 * -9.0 = -18.0\n",
      "At 2 adding to -6.0 from 2.0 * -10.0 = -20.0\n",
      "At 4 adding to -20.0 from 6.0 * -8.0 = -48.0\n",
      "At 5 adding to -29.0 from 6.0 * -9.0 = -54.0\n",
      "At 6 adding to -38.0 from 6.0 * -10.0 = -60.0\n",
      "At 8 adding to -36.0 from 10.0 * -8.0 = -80.0\n",
      "At 9 adding to -53.0 from 10.0 * -9.0 = -90.0\n",
      "At 10 adding to -70.0 from 10.0 * -10.0 = -100.0\n",
      "At 0 adding to -20.0 from 3.0 * -12.0 = -36.0\n",
      "At 1 adding to -23.0 from 3.0 * -13.0 = -39.0\n",
      "At 2 adding to -26.0 from 3.0 * -14.0 = -42.0\n",
      "At 4 adding to -68.0 from 7.0 * -12.0 = -84.0\n",
      "At 5 adding to -83.0 from 7.0 * -13.0 = -91.0\n",
      "At 6 adding to -98.0 from 7.0 * -14.0 = -98.0\n",
      "At 8 adding to -116.0 from 11.0 * -12.0 = -132.0\n",
      "At 9 adding to -143.0 from 11.0 * -13.0 = -143.0\n",
      "At 10 adding to -170.0 from 11.0 * -14.0 = -154.0\n",
      "iterated outer loop\n",
      "outer loop has start_row_a: 0, start_col_a: 0, start_row_b: 0, start_col_b: 3\n",
      "outer loop has panel_a_rows: 3, panel_a_cols: 4, panel_b_rows: 4, panel_b_cols: 1\n",
      "start_row_a: 0, start_col_a: 0, start_row_b: 0, start_col_b: 3\n",
      "panel_a_rows: 3, panel_a_cols: 2, panel_b_rows: 2, panel_b_cols: 1\n",
      "write_row 0, write_col 3\n",
      "----------\n",
      "At 3 adding to 0 from 0.0 * -3.0 = -0.0\n",
      "At 7 adding to 0 from 4.0 * -3.0 = -12.0\n",
      "At 11 adding to 0 from 8.0 * -3.0 = -24.0\n",
      "At 3 adding to 0.0 from 1.0 * -7.0 = -7.0\n",
      "At 7 adding to -12.0 from 5.0 * -7.0 = -35.0\n",
      "At 11 adding to -24.0 from 9.0 * -7.0 = -63.0\n",
      "start_row_a: 0, start_col_a: 2, start_row_b: 2, start_col_b: 3\n",
      "panel_a_rows: 3, panel_a_cols: 2, panel_b_rows: 2, panel_b_cols: 1\n",
      "write_row 0, write_col 3\n",
      "----------\n",
      "At 3 adding to -7.0 from 2.0 * -11.0 = -22.0\n",
      "At 7 adding to -47.0 from 6.0 * -11.0 = -66.0\n",
      "At 11 adding to -87.0 from 10.0 * -11.0 = -110.0\n",
      "At 3 adding to -29.0 from 3.0 * -15.0 = -45.0\n",
      "At 7 adding to -113.0 from 7.0 * -15.0 = -105.0\n",
      "At 11 adding to -197.0 from 11.0 * -15.0 = -165.0\n",
      "iterated outer loop\n",
      "outer loop has start_row_a: 3, start_col_a: 0, start_row_b: 0, start_col_b: 0\n",
      "outer loop has panel_a_rows: 1, panel_a_cols: 4, panel_b_rows: 4, panel_b_cols: 3\n",
      "start_row_a: 3, start_col_a: 0, start_row_b: 0, start_col_b: 0\n",
      "panel_a_rows: 1, panel_a_cols: 2, panel_b_rows: 2, panel_b_cols: 3\n",
      "write_row 3, write_col 0\n",
      "----------\n",
      "At 12 adding to 0 from 12.0 * -0.0 = -0.0\n",
      "At 13 adding to 0 from 12.0 * -1.0 = -12.0\n",
      "At 14 adding to 0 from 12.0 * -2.0 = -24.0\n",
      "At 12 adding to 0.0 from 13.0 * -4.0 = -52.0\n",
      "At 13 adding to -12.0 from 13.0 * -5.0 = -65.0\n",
      "At 14 adding to -24.0 from 13.0 * -6.0 = -78.0\n",
      "start_row_a: 3, start_col_a: 2, start_row_b: 2, start_col_b: 0\n",
      "panel_a_rows: 1, panel_a_cols: 2, panel_b_rows: 2, panel_b_cols: 3\n",
      "write_row 3, write_col 0\n",
      "----------\n",
      "At 12 adding to -52.0 from 14.0 * -8.0 = -112.0\n",
      "At 13 adding to -77.0 from 14.0 * -9.0 = -126.0\n",
      "At 14 adding to -102.0 from 14.0 * -10.0 = -140.0\n",
      "At 12 adding to -164.0 from 15.0 * -12.0 = -180.0\n",
      "At 13 adding to -203.0 from 15.0 * -13.0 = -195.0\n",
      "At 14 adding to -242.0 from 15.0 * -14.0 = -210.0\n",
      "iterated outer loop\n",
      "outer loop has start_row_a: 3, start_col_a: 0, start_row_b: 0, start_col_b: 3\n",
      "outer loop has panel_a_rows: 1, panel_a_cols: 4, panel_b_rows: 4, panel_b_cols: 1\n",
      "start_row_a: 3, start_col_a: 0, start_row_b: 0, start_col_b: 3\n",
      "panel_a_rows: 1, panel_a_cols: 2, panel_b_rows: 2, panel_b_cols: 1\n",
      "write_row 3, write_col 3\n",
      "----------\n",
      "At 15 adding to 0 from 12.0 * -3.0 = -36.0\n",
      "At 15 adding to -36.0 from 13.0 * -7.0 = -91.0\n",
      "start_row_a: 3, start_col_a: 2, start_row_b: 2, start_col_b: 3\n",
      "panel_a_rows: 1, panel_a_cols: 2, panel_b_rows: 2, panel_b_cols: 1\n",
      "write_row 3, write_col 3\n",
      "----------\n",
      "At 15 adding to -127.0 from 14.0 * -11.0 = -154.0\n",
      "At 15 adding to -281.0 from 15.0 * -15.0 = -225.0\n",
      "iterated outer loop\n"
     ]
    }
   ],
   "source": [
    "panel_a_cols = cols\n",
    "panel_b_rows = rows\n",
    "start_col_a = 0\n",
    "start_row_b = 0\n",
    "panel_block_size = 3\n",
    "loop_cap = math.ceil(rows / panel_block_size) if panel_block_size < rows else 0 + 1 #remove the +1 when C++\n",
    "for i in range(loop_cap):\n",
    "    start_row_a = i * panel_block_size\n",
    "    panel_a_rows = min(panel_block_size, rows - start_row_a)\n",
    "    for j in range(loop_cap):\n",
    "        start_col_b = j * panel_block_size\n",
    "        panel_b_cols = min(panel_block_size, cols - start_col_b)\n",
    "        write_row = start_row_a\n",
    "        write_col = start_col_b\n",
    "        panel_panel_dgemm_recurse_a_t(\n",
    "            rows, cols, panel_a_rows, panel_a_cols, panel_b_rows, panel_b_cols, start_row_a, start_col_a, start_row_b, start_col_b, write_row, write_col, flat_a_t, flat_b, flat_c, 2\n",
    "        )"
   ]
  },
  {
   "cell_type": "code",
   "execution_count": 376,
   "metadata": {},
   "outputs": [],
   "source": [
    "matrix_c = np.array(flat_c).reshape((rows, cols))"
   ]
  },
  {
   "cell_type": "code",
   "execution_count": 377,
   "metadata": {},
   "outputs": [
    {
     "data": {
      "text/plain": [
       "(array([[ -56.,  -62.,  -68.,  -74.],\n",
       "        [-152., -174., -196., -218.],\n",
       "        [-248., -286., -324., -362.],\n",
       "        [-344., -398., -452., -506.]], dtype=float32),\n",
       " array([[ -56.,  -62.,  -68.,  -74.],\n",
       "        [-152., -174., -196., -218.],\n",
       "        [-248., -286., -324., -362.],\n",
       "        [-344., -398., -452., -506.]]))"
      ]
     },
     "execution_count": 377,
     "metadata": {},
     "output_type": "execute_result"
    }
   ],
   "source": [
    "combined, matrix_c"
   ]
  },
  {
   "cell_type": "code",
   "execution_count": null,
   "metadata": {},
   "outputs": [],
   "source": []
  }
 ],
 "metadata": {
  "kernelspec": {
   "display_name": ".venv",
   "language": "python",
   "name": "python3"
  },
  "language_info": {
   "codemirror_mode": {
    "name": "ipython",
    "version": 3
   },
   "file_extension": ".py",
   "mimetype": "text/x-python",
   "name": "python",
   "nbconvert_exporter": "python",
   "pygments_lexer": "ipython3",
   "version": "3.10.6"
  }
 },
 "nbformat": 4,
 "nbformat_minor": 2
}

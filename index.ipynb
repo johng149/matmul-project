{
 "cells": [
  {
   "cell_type": "code",
   "execution_count": 95,
   "metadata": {},
   "outputs": [],
   "source": [
    "import numpy as np"
   ]
  },
  {
   "cell_type": "markdown",
   "metadata": {},
   "source": [
    "## A and B are the same shape and square"
   ]
  },
  {
   "cell_type": "code",
   "execution_count": 96,
   "metadata": {},
   "outputs": [],
   "source": [
    "R = 4\n",
    "C = 4\n",
    "block_r = 3\n",
    "block_c = 3\n",
    "start_row = 0\n",
    "start_col = 1\n",
    "start_row_b = 1\n",
    "start_col_b = 1\n",
    "write_row = 1\n",
    "write_col = 1\n",
    "K = block_r"
   ]
  },
  {
   "cell_type": "code",
   "execution_count": 97,
   "metadata": {},
   "outputs": [],
   "source": [
    "out = [0] * (R * C)"
   ]
  },
  {
   "cell_type": "code",
   "execution_count": 98,
   "metadata": {},
   "outputs": [],
   "source": [
    "A_full = [i for i in range(R*C)]\n",
    "B_full = [-i for i in range(R*C)]"
   ]
  },
  {
   "cell_type": "code",
   "execution_count": 99,
   "metadata": {},
   "outputs": [
    {
     "data": {
      "text/plain": [
       "([0, 1, 2, 3, 4, 5, 6, 7, 8, 9, 10, 11, 12, 13, 14, 15],\n",
       " [0, -1, -2, -3, -4, -5, -6, -7, -8, -9, -10, -11, -12, -13, -14, -15])"
      ]
     },
     "execution_count": 99,
     "metadata": {},
     "output_type": "execute_result"
    }
   ],
   "source": [
    "A_full, B_full"
   ]
  },
  {
   "cell_type": "code",
   "execution_count": 100,
   "metadata": {},
   "outputs": [],
   "source": [
    "for k in range(K):\n",
    "    a_r = (start_row + k)\n",
    "    for i in range(block_c):\n",
    "        a_c = start_col + i\n",
    "        b_r = start_row_b + i\n",
    "        for j in range(block_r):\n",
    "            b_c = (start_col_b + j)\n",
    "            a_flat = a_r * R + a_c\n",
    "            b_flat = b_r * C + b_c\n",
    "            out_flat = (write_row + k) * R + j + write_col\n",
    "            out[out_flat] += A_full[a_flat] * B_full[b_flat]"
   ]
  },
  {
   "cell_type": "code",
   "execution_count": 101,
   "metadata": {},
   "outputs": [
    {
     "data": {
      "text/plain": [
       "[0, 0, 0, 0, 0, -62, -68, -74, 0, -170, -188, -206, 0, -278, -308, -338]"
      ]
     },
     "execution_count": 101,
     "metadata": {},
     "output_type": "execute_result"
    }
   ],
   "source": [
    "out"
   ]
  },
  {
   "cell_type": "markdown",
   "metadata": {},
   "source": [
    "## A is block, B is panel"
   ]
  },
  {
   "cell_type": "code",
   "execution_count": 102,
   "metadata": {},
   "outputs": [],
   "source": [
    "R = 4\n",
    "C = 4\n",
    "block_r = 3\n",
    "block_c = 3\n",
    "panel_r = 3\n",
    "panel_c = 2\n",
    "start_row = 0\n",
    "start_col = 0\n",
    "start_row_b = 0\n",
    "start_col_b = 0\n",
    "write_row = 1\n",
    "write_col = 2\n",
    "K = block_r"
   ]
  },
  {
   "cell_type": "code",
   "execution_count": 103,
   "metadata": {},
   "outputs": [],
   "source": [
    "A_full = [i for i in range(R*C)]\n",
    "B_full = [-i for i in range(R*C)]\n",
    "out = [0] * (R * C)"
   ]
  },
  {
   "cell_type": "code",
   "execution_count": 104,
   "metadata": {},
   "outputs": [],
   "source": [
    "for k in range(K):\n",
    "    a_r = (start_row + k)\n",
    "    for i in range(block_c):\n",
    "        a_c = start_col + i\n",
    "        b_r = start_row_b + i\n",
    "        for j in range(panel_c):\n",
    "            b_c = (start_col_b + j)\n",
    "            a_flat = a_r * R + a_c\n",
    "            b_flat = b_r * C + b_c\n",
    "            out_flat = (write_row + k) * R + j + write_col\n",
    "            out[out_flat] += A_full[a_flat] * B_full[b_flat]"
   ]
  },
  {
   "cell_type": "code",
   "execution_count": 105,
   "metadata": {},
   "outputs": [
    {
     "data": {
      "text/plain": [
       "[0, 0, 0, 0, 0, 0, -20, -23, 0, 0, -68, -83, 0, 0, -116, -143]"
      ]
     },
     "execution_count": 105,
     "metadata": {},
     "output_type": "execute_result"
    }
   ],
   "source": [
    "out"
   ]
  },
  {
   "cell_type": "markdown",
   "metadata": {},
   "source": [
    "## A is panel, B is block"
   ]
  },
  {
   "cell_type": "code",
   "execution_count": 106,
   "metadata": {},
   "outputs": [],
   "source": [
    "R = 4\n",
    "C = 4\n",
    "block_r = 2\n",
    "block_c = 2\n",
    "panel_r = 3\n",
    "panel_c = 2\n",
    "start_row = 0\n",
    "start_col = 2\n",
    "start_row_b = 0\n",
    "start_col_b = 0\n",
    "write_row = 1\n",
    "write_col = 2\n",
    "K = panel_r"
   ]
  },
  {
   "cell_type": "code",
   "execution_count": 107,
   "metadata": {},
   "outputs": [],
   "source": [
    "A_full = [i for i in range(R*C)]\n",
    "B_full = [-i for i in range(R*C)]\n",
    "out = [0] * (R * C)"
   ]
  },
  {
   "cell_type": "code",
   "execution_count": 108,
   "metadata": {},
   "outputs": [],
   "source": [
    "for k in range(K):\n",
    "    a_r = (start_row + k)\n",
    "    for i in range(panel_c):\n",
    "        a_c = start_col + i\n",
    "        b_r = start_row_b + i\n",
    "        for j in range(block_r):\n",
    "            b_c = (start_col_b + j)\n",
    "            a_flat = a_r * R + a_c\n",
    "            b_flat = b_r * R + b_c\n",
    "            out_flat = (write_row + k) * R + j + write_col\n",
    "            out[out_flat] += A_full[a_flat] * B_full[b_flat]"
   ]
  },
  {
   "cell_type": "code",
   "execution_count": 109,
   "metadata": {},
   "outputs": [
    {
     "data": {
      "text/plain": [
       "[0, 0, 0, 0, 0, 0, -12, -17, 0, 0, -28, -41, 0, 0, -44, -65]"
      ]
     },
     "execution_count": 109,
     "metadata": {},
     "output_type": "execute_result"
    }
   ],
   "source": [
    "out"
   ]
  },
  {
   "cell_type": "markdown",
   "metadata": {},
   "source": [
    "## A is panel, B is panel"
   ]
  },
  {
   "cell_type": "code",
   "execution_count": 110,
   "metadata": {},
   "outputs": [],
   "source": [
    "R = 4\n",
    "C = 4\n",
    "panel_r = 2\n",
    "panel_c = 3\n",
    "panel_r_b = 3\n",
    "panel_c_b = 2\n",
    "start_row = 1\n",
    "start_col = 1\n",
    "start_row_b = 1\n",
    "start_col_b = 1\n",
    "write_row = 1\n",
    "write_col = 2\n",
    "K = panel_r"
   ]
  },
  {
   "cell_type": "code",
   "execution_count": 111,
   "metadata": {},
   "outputs": [],
   "source": [
    "A_full = [i for i in range(R*C)]\n",
    "B_full = [-i for i in range(R*C)]\n",
    "out = [0] * (R * C)"
   ]
  },
  {
   "cell_type": "code",
   "execution_count": 112,
   "metadata": {},
   "outputs": [],
   "source": [
    "for k in range(K):\n",
    "    a_r = (start_row + k)\n",
    "    for i in range(panel_c):\n",
    "        a_c = start_col + i\n",
    "        b_r = start_row_b + i\n",
    "        for j in range(panel_c_b):\n",
    "            b_c = (start_col_b + j)\n",
    "            a_flat = a_r * R + a_c\n",
    "            b_flat = b_r * R + b_c\n",
    "            out_flat = (write_row + k) * R + j + write_col\n",
    "            out[out_flat] += A_full[a_flat] * B_full[b_flat]"
   ]
  },
  {
   "cell_type": "code",
   "execution_count": 113,
   "metadata": {},
   "outputs": [
    {
     "data": {
      "text/plain": [
       "[0, 0, 0, 0, 0, 0, -170, -188, 0, 0, -278, -308, 0, 0, 0, 0]"
      ]
     },
     "execution_count": 113,
     "metadata": {},
     "output_type": "execute_result"
    }
   ],
   "source": [
    "out"
   ]
  },
  {
   "cell_type": "markdown",
   "metadata": {},
   "source": [
    "## Transpose square matrix X given shape (n, n) stored as 1D array"
   ]
  },
  {
   "cell_type": "code",
   "execution_count": 114,
   "metadata": {},
   "outputs": [],
   "source": [
    "N = 4\n",
    "X = [i*-1 for i in range(N**2)]"
   ]
  },
  {
   "cell_type": "code",
   "execution_count": 115,
   "metadata": {},
   "outputs": [
    {
     "data": {
      "text/plain": [
       "[0, -1, -2, -3, -4, -5, -6, -7, -8, -9, -10, -11, -12, -13, -14, -15]"
      ]
     },
     "execution_count": 115,
     "metadata": {},
     "output_type": "execute_result"
    }
   ],
   "source": [
    "X"
   ]
  },
  {
   "cell_type": "code",
   "execution_count": 116,
   "metadata": {},
   "outputs": [],
   "source": [
    "expected = np.array(X).reshape(N, N).transpose().flatten().tolist()"
   ]
  },
  {
   "cell_type": "code",
   "execution_count": 117,
   "metadata": {},
   "outputs": [
    {
     "data": {
      "text/plain": [
       "[0, -4, -8, -12, -1, -5, -9, -13, -2, -6, -10, -14, -3, -7, -11, -15]"
      ]
     },
     "execution_count": 117,
     "metadata": {},
     "output_type": "execute_result"
    }
   ],
   "source": [
    "expected"
   ]
  },
  {
   "cell_type": "code",
   "execution_count": 118,
   "metadata": {},
   "outputs": [],
   "source": [
    "def transpose(N, X):\n",
    "    out = [0] * (N**2)\n",
    "    for i in range(N):\n",
    "        for j in range(N):\n",
    "            original = i*N + j\n",
    "            tranposed = j*N + i\n",
    "            out[tranposed] = X[original]\n",
    "    return out"
   ]
  },
  {
   "cell_type": "code",
   "execution_count": 119,
   "metadata": {},
   "outputs": [
    {
     "data": {
      "text/plain": [
       "[0, -4, -8, -12, -1, -5, -9, -13, -2, -6, -10, -14, -3, -7, -11, -15]"
      ]
     },
     "execution_count": 119,
     "metadata": {},
     "output_type": "execute_result"
    }
   ],
   "source": [
    "transpose(N, X)"
   ]
  },
  {
   "cell_type": "markdown",
   "metadata": {},
   "source": [
    "# A is transposed panel and B is panel"
   ]
  },
  {
   "cell_type": "code",
   "execution_count": 120,
   "metadata": {},
   "outputs": [],
   "source": [
    "R = 4\n",
    "C = 4\n",
    "panel_r = 3\n",
    "panel_c = 2\n",
    "panel_r_b = 2\n",
    "panel_c_b = 3\n",
    "start_row = 0\n",
    "start_col = 0\n",
    "start_row_b = 0\n",
    "start_col_b = 0\n",
    "write_row = 0\n",
    "write_col = 0\n",
    "K = panel_r"
   ]
  },
  {
   "cell_type": "code",
   "execution_count": 121,
   "metadata": {},
   "outputs": [],
   "source": [
    "A_full = [i for i in range(R*C)]\n",
    "B_full = [-i for i in range(R*C)]\n",
    "out = [0] * (R * C)\n",
    "A_full = transpose(R, A_full)"
   ]
  },
  {
   "cell_type": "code",
   "execution_count": 122,
   "metadata": {},
   "outputs": [],
   "source": [
    "for i in range(panel_c):\n",
    "    a_c = start_col + i\n",
    "    b_r = start_row_b + i\n",
    "    for k in range(K):\n",
    "        a_r = start_row + k\n",
    "        for j in range(panel_c_b):\n",
    "            b_c = start_col_b + j\n",
    "            a_flat = a_c * C + a_r\n",
    "            b_flat = b_r * R + b_c\n",
    "            out_flat = write_row + k * R + j + write_col\n",
    "            out[out_flat] += A_full[a_flat] * B_full[b_flat]"
   ]
  },
  {
   "cell_type": "code",
   "execution_count": 123,
   "metadata": {},
   "outputs": [
    {
     "data": {
      "text/plain": [
       "[-4, -5, -6, 0, -20, -29, -38, 0, -36, -53, -70, 0, 0, 0, 0, 0]"
      ]
     },
     "execution_count": 123,
     "metadata": {},
     "output_type": "execute_result"
    }
   ],
   "source": [
    "out"
   ]
  },
  {
   "cell_type": "code",
   "execution_count": null,
   "metadata": {},
   "outputs": [],
   "source": []
  }
 ],
 "metadata": {
  "kernelspec": {
   "display_name": ".venv",
   "language": "python",
   "name": "python3"
  },
  "language_info": {
   "codemirror_mode": {
    "name": "ipython",
    "version": 3
   },
   "file_extension": ".py",
   "mimetype": "text/x-python",
   "name": "python",
   "nbconvert_exporter": "python",
   "pygments_lexer": "ipython3",
   "version": "3.10.6"
  }
 },
 "nbformat": 4,
 "nbformat_minor": 2
}
